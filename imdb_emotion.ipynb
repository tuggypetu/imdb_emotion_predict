{
 "cells": [
  {
   "cell_type": "markdown",
   "source": [
    "### I want to create a program to predict the emotion of a movie from imdb movie reviews."
   ],
   "metadata": {
    "collapsed": false,
    "pycharm": {
     "name": "#%% md\n"
    }
   }
  },
  {
   "cell_type": "markdown",
   "source": [
    "The 6 common human emotions: Happiness, Sadness, Fear, Disgust, Anger, Surprise."
   ],
   "metadata": {
    "collapsed": false,
    "pycharm": {
     "name": "#%% md\n"
    }
   }
  },
  {
   "cell_type": "markdown",
   "source": [
    "Steps:\n",
    "1. Search for a movie, series, or series episode.\n",
    "2. Scrap a specific number of user reviews for the search term.\n",
    "3. Note the movie details, for example, genre, directors, actors, language, etc.\n",
    "4. Create a program to analyze which emotions are prominent from the user reviews.\n",
    "5. Display the prominent emotions in the movie, series, or series episode."
   ],
   "metadata": {
    "collapsed": false,
    "pycharm": {
     "name": "#%% md\n"
    }
   }
  },
  {
   "cell_type": "markdown",
   "source": [
    "Links to help:\n",
    "- https://www.geeksforgeeks.org/scrape-imdb-movie-rating-and-details-using-python/"
   ],
   "metadata": {
    "collapsed": false,
    "pycharm": {
     "name": "#%% md\n"
    }
   }
  },
  {
   "cell_type": "code",
   "execution_count": 1,
   "outputs": [],
   "source": [
    "import numpy as np\n",
    "import pandas as pd\n",
    "import matplotlib.pyplot as plt\n",
    "import seaborn as sns\n",
    "\n",
    "# text cleaning packages\n",
    "import neattext.functions as nfx\n",
    "from textblob import TextBlob\n",
    "import re"
   ],
   "metadata": {
    "collapsed": false,
    "pycharm": {
     "name": "#%%\n"
    }
   }
  },
  {
   "cell_type": "code",
   "execution_count": 2,
   "outputs": [],
   "source": [
    "import imdb\n",
    "ia = imdb.Cinemagoer()"
   ],
   "metadata": {
    "collapsed": false,
    "pycharm": {
     "name": "#%%\n"
    }
   }
  },
  {
   "cell_type": "code",
   "execution_count": 3,
   "outputs": [
    {
     "name": "stdout",
     "output_type": "stream",
     "text": [
      "1. 21 Jump Street\n",
      "2. 21 Jump Street\n",
      "3. 21 Jump Street\n",
      "4. 22 Jump Street\n",
      "5. 21 Jump Street: Mime to Music\n",
      "6. Bad Influence\n",
      "7. Unfinished Business\n",
      "8. Baby Blues\n",
      "9. 21 Jump Street\n",
      "10. 21 Jump Street\n"
     ]
    }
   ],
   "source": [
    "movies = ia.search_movie('21 jump street')\n",
    "for i,movie in enumerate(movies):\n",
    "    if i == 10:\n",
    "        break\n",
    "    print(f'{i+1}. {movie}')"
   ],
   "metadata": {
    "collapsed": false,
    "pycharm": {
     "name": "#%%\n"
    }
   }
  },
  {
   "cell_type": "code",
   "execution_count": 4,
   "outputs": [
    {
     "data": {
      "text/plain": "['airing',\n 'akas',\n 'alternate versions',\n 'awards',\n 'connections',\n 'crazy credits',\n 'critic reviews',\n 'episodes',\n 'external reviews',\n 'external sites',\n 'faqs',\n 'full credits',\n 'goofs',\n 'keywords',\n 'list',\n 'locations',\n 'main',\n 'misc sites',\n 'news',\n 'official sites',\n 'parents guide',\n 'photo sites',\n 'plot',\n 'quotes',\n 'recommendations',\n 'release dates',\n 'release info',\n 'reviews',\n 'sound clips',\n 'soundtrack',\n 'synopsis',\n 'taglines',\n 'technical',\n 'trivia',\n 'tv schedule',\n 'video clips',\n 'vote details']"
     },
     "execution_count": 4,
     "metadata": {},
     "output_type": "execute_result"
    }
   ],
   "source": [
    "ia.get_movie_infoset()"
   ],
   "metadata": {
    "collapsed": false,
    "pycharm": {
     "name": "#%%\n"
    }
   }
  },
  {
   "cell_type": "code",
   "execution_count": 5,
   "outputs": [
    {
     "data": {
      "text/plain": "'0092312'"
     },
     "execution_count": 5,
     "metadata": {},
     "output_type": "execute_result"
    }
   ],
   "source": [
    "movies[0].movieID"
   ],
   "metadata": {
    "collapsed": false,
    "pycharm": {
     "name": "#%%\n"
    }
   }
  },
  {
   "cell_type": "code",
   "execution_count": 6,
   "outputs": [
    {
     "name": "stdout",
     "output_type": "stream",
     "text": [
      "21 Jump Street\n"
     ]
    }
   ],
   "source": [
    "print(f'{movies[0]}')"
   ],
   "metadata": {
    "collapsed": false,
    "pycharm": {
     "name": "#%%\n"
    }
   }
  },
  {
   "cell_type": "code",
   "execution_count": 7,
   "outputs": [
    {
     "name": "stdout",
     "output_type": "stream",
     "text": [
      "Crime\n",
      "Drama\n",
      "Mystery\n"
     ]
    }
   ],
   "source": [
    "genre_list = []\n",
    "for genre in ia.get_movie(movies[0].movieID)['genres']:\n",
    "    print(genre)\n",
    "    genre_list.append(genre)"
   ],
   "metadata": {
    "collapsed": false,
    "pycharm": {
     "name": "#%%\n"
    }
   }
  },
  {
   "cell_type": "code",
   "execution_count": 8,
   "outputs": [],
   "source": [
    "the_movie = ia.get_movie(movies[0].movieID, info=['reviews', 'plot'])\n",
    "try:\n",
    "    ia.update(the_movie, info=['episodes'])\n",
    "except imdb.IMDbDataAccessError:\n",
    "    pass"
   ],
   "metadata": {
    "collapsed": false,
    "pycharm": {
     "name": "#%%\n"
    }
   }
  },
  {
   "cell_type": "code",
   "execution_count": 9,
   "outputs": [
    {
     "data": {
      "text/plain": "'The cases of an undercover police unit composed of young-looking officers specializing in youth crime.'"
     },
     "execution_count": 9,
     "metadata": {},
     "output_type": "execute_result"
    }
   ],
   "source": [
    "the_movie['plot'][0]"
   ],
   "metadata": {
    "collapsed": false,
    "pycharm": {
     "name": "#%%\n"
    }
   }
  },
  {
   "cell_type": "code",
   "execution_count": 10,
   "outputs": [
    {
     "name": "stdout",
     "output_type": "stream",
     "text": [
      "{'content': 'This was one of the first Fox hour-long dramas, and Fox definitely wore its heart on its sleeve. Like WB now, Fox wanted to lure in a teenage audience with its good-looking young stars. Luckily for those stars, 21 Jump Street was a rather good vehicle, and stood on its own merits.Kind of like a Mod Squad for the 80s, the \"teens\" in 21 Jump Street were cops. Hip cops. They would infiltrate schools, drug rings, gangs, wherever teenagers were in trouble... unlike the Mod Squad, though, the storylines were always passable, and quite often excellent. Almost every episode touched upon subjects that were taboo for the big 3 networks (and still are)- AIDS, statutory rape, drug use, abortion, child abuse- and presented it in a moralistic way, but without being maudlin.The show kind of faltered in its last few seasons; Johnny Depp was becoming a star, and execs started pushing other \"stars\" into the spotlight, hoping for cash rewards and spin-offs. Richard Greico was most heavily promoted, to an audience that didn\\'t really care. He became a teen-age heartthrob for a while, but never achieved the momentum to carry his career skyward. With this pushing of the stars, the storylines took a back seat to character preening. The end result was faltering ratings, and cancellation.Until it became an actors\\' showcase, though, 21 Jump Street was probably the best drama on TV.', 'helpful': 40, 'title': 'Launching pad for teen stars; one of the better early Fox shows.', 'author': 'ur0014492', 'date': '10 October 1999', 'rating': None, 'not_helpful': 2}\n",
      "\n",
      "{'content': \"This was definitely a quality show. This show was a far cry from what the Fox network eventually became. Many of the scripts dealt with what young people go through on a day to day basis and used a cop show to show it. Issues like date rape, drugs, teen suicide, school violence and incest were all covered in the first two years of this show. When Jump Street premiered, it was the shot heard round the world due to the fact that it was the very first show to air on the Fox network, which at the time was only being broadcast on Sunday nights and it ushered in a whole new era in television. Also, Johnny Depp wasn't the only good thing about this show. Peter DeLuise, Holly Robinson (Peete) and Dustin Nguyen all made this show one of the cult classics of the 1980's.\", 'helpful': 31, 'title': \"The Mod Squad of the 80's\", 'author': 'ur1791470', 'date': '14 April 2003', 'rating': None, 'not_helpful': 5}\n",
      "\n",
      "{'content': \"It took another 20 years, another generation, before we were ready for another cop show with young people as undercover cops dealing with crime and other social issues, but where Mod Squad left off in the Sixties, 21 Jump Street took the ball and ran with it in the Eighties.Personally I think 21 Jump Street was a much better show. It certainly had at least one cast member who became a mega star in Johnny Depp. When Depp left the show, it sputtered on for a while, but ultimately died when other regulars left as well.I might not agree with all of Johnny Depp's opinions, but I certainly have enormous respect for his artistic vision. He was good, he was very good as Officer Tom Hanson in 21 Jump Street, but he left at what turned out the right time for him before he was trapped as a juvenile teen idol forever and created one fantastic body of work as one of the best players around. He knew what he was capable of back in the day and the rest of us know it now too.I was surprised that Dustin Nguyen didn't break out from 21 Jump Street as well as a big star. He should have had a great career as an oriental leading man, he had the looks, talent and definitely the martial arts skill.In a way the Sixties handed off to the Eighties in the person of original captain of the Jump Street program, Frederic Forrest. He was one weird dude as the hippie type captain, a real refugee of the tune in, turn on, drop out generation. The character didn't work, so he was quickly dispatched and Steven Williams came on board as the new captain and a more traditional police authority figure.You can see a lot of future stars in 21 Jump Street, Jason Priestley and Brad Pitt did episodes back in the day. I liked the stories very much, the series regulars were as human and as flawed as some of the kids they were dealing with.I wish it had lasted longer, but maybe if Johnny Depp had stuck with it longer we might never have seen Captain Jack Sparrow.\", 'helpful': 26, 'title': 'Mod Squad Of The Eighties', 'author': 'ur2483625', 'date': '31 May 2007', 'rating': 8, 'not_helpful': 7}\n",
      "\n",
      "{'content': \"This was Fox's first serious drama. It was aimed at a young audience. 21 Jump Street had a great cast including a young Johnny Depp, Peter DeLuise, and Holly Robinson among the cast members, good writing, and innovative plot about young cops posing as high school students to capture a wide variety of criminals in the school system. The show lasted a few seasons on Fox without network infiltration like other major networks. It lasted long enough to leave its mark on the baby network. Now there are a dozen shows like 21 Jump Street without the cleverness and the strive to be better than just the average shows on TV. In fact, the show was probably the first American drama on Fox to be filmed on location in Vancouver, British Columbia, Canada to cut costs. In the beginning of the Fox network lineup, 21 Jump Street launched a unique way of looking at secondary schools with a great cast. It was never awarded an Emmy which it should have been even nominated for Best Drama.\", 'helpful': 18, 'title': 'Jump for Jump Street', 'author': 'ur0033913', 'date': '1 July 2002', 'rating': 8, 'not_helpful': 7}\n",
      "\n",
      "{'content': 'This television series held its own. I remember waiting patiently for the next episode to air when I was 13 and loving every second of it. Call it contrived and superficial, but I grew up with Judy Hoffs, Tom Hansen, Doug Penhall, Harry Ioki, Adam Fuller, and Dennis Booker....and I loved every second of it! Johnny Depp might renounce the fact that he was ever connected with this show, but it provided hours of entertainment for many individuals. For me, it is a reminder of a time in my youth where I was completely innocent.', 'helpful': 35, 'title': 'reminder', 'author': 'ur1722607', 'date': '8 June 2002', 'rating': None, 'not_helpful': 6}\n",
      "\n",
      "{'content': \"The show really was the Mod Squad of the 1980's. Kids that could not be taken seriously as cops but the good Captain there decided to put them undercover as HS students though they were in their early to mid twenties there.Depp was the show but that it suffered indeed when it left and when the other regulars leaving, it would lead to the cancellation.Show was one of the very first shows to land at the fledging Fox in 1987 launch there. Did not shy away fron subjects of the day like drugs, race, crime, etc.\", 'helpful': 3, 'title': 'Show that Launched Johnny Depp Into Stardom', 'author': 'ur142375144', 'date': '28 November 2021', 'rating': 8, 'not_helpful': 0}\n",
      "\n",
      "{'content': \"I recently bought the first season and this show is still as good as anything on television today if not better. Its been at least 10 years since I had seen an episode so it was like watching the show for the first time. Great theme song, great actors, and terrific scripts. If it wasn't for some of the 1980's hair and clothing, this show could be airing in prime time today without question. Its makes you want to go back to high school again and walk the halls with immunity because there's nothing that any gang or teacher can do to you. The only problem is even after watching the entire 1st season, I have no idea what town the show takes place in. Oh well, I truly hope that there are plans to release the rest of the seasons real soon.\", 'helpful': 21, 'title': \"One of the best shows of the 80's\", 'author': 'ur2523630', 'date': '17 November 2004', 'rating': None, 'not_helpful': 8}\n",
      "\n",
      "{'content': \"This was a top notch series that featured youthful looking police officers who would infiltrate high schools to investigate crimes like.drugs and prostitution. The episodes were top notch and well written and timely to watch. I always enjoy watching them. It was a good concept, and if you get the chance, definitely watch some episodes It did wonders for the FOX network and Johnny Depp's career!*** out of ****\", 'helpful': 2, 'title': 'Excellent series', 'author': 'ur0812029', 'date': '7 June 2021', 'rating': 9, 'not_helpful': 0}\n",
      "\n",
      "{'content': \"The movie that came out was good, but it couldn't hold a candle to this classic show that jump-started Johnny Depp's career. I remember watching this, and it along with Married With Children jump-started the Fox network, as it featured youthful-looking police officers infiltrating high schools in order to investigate crimes there (drug dealing, rape, etc.) as well as other serious issues such as AIDS. It was a really good show. Anyone interested in 80s TV ought to give it a look. Holly Robinson Peete reprised her role from it in the Channing Tatum movie. It involved good, serious police work and excellent ensemble performances. Check it out if you get the chance.*** out of ****\", 'helpful': 2, 'title': 'terrific', 'author': 'ur0812029', 'date': '27 August 2012', 'rating': 9, 'not_helpful': 0}\n",
      "\n",
      "{'content': 'Currently popular are the recent jump street movies with Channing Tatum, \"21 Jump Street\" and more recently \"22 Jump Street.\" I had never seen the original 1980s TV series so I checked out the two DVD set of season one episodes.The very basic premise is the same, an old church at 21 Jump Street is used as a makeshift police headquarters of sorts for a group of 4 young-looking 20-something cops who get assignments to infiltrate high schools to solve crimes, typically some sort of theft.In one episode two students in auto mechanics class steal cars, strip them overnight, store the parts, put the bare chassis back on the street, later buy the chassis for a small price, re-assemble the cars and sell it for a big profit. With participation of a used car lot owner. In another someone is stealing calculators and other electronic gear inside the school after hours.In later 1st season episodes a girl turns up dead and raped, and the officers have to find the students responsible. There is a murder in it also. Then in yet another episode a student is working as a prostitute and helping a home theft ring in an effort to help her mother recover from a life of drugs. So not all of it was minor stuff.Johnny Depp is the main star and it is nice to see him as a \"normal\" 20- something, long before he became quirky and began to speak in a somewhat affected way. Just light entertainment, I enjoyed the temporary throwback to a simpler time. The TV series isn\\'t much like the recent \"Jump Street\" movies.', 'helpful': 3, 'title': 'Typical 1980s TV series, it gave Johnny Depp his big break.', 'author': 'ur0438066', 'date': '10 January 2015', 'rating': None, 'not_helpful': 1}\n",
      "\n",
      "{'content': \"Great to see that the show has hit the DVD format. Watched a few episodes so far from Season 1. Great show and don't know why it was not on reruns anywhere here in Canada. Noticed some over dubs on some dialogue, not sure if that was done back when the show was on FOX or if it has been done when putting it on DVD. Looks like some words are overdubbed, could swear that ass was said originally but you get a different word said. Watch the actor's mouth when the dialogue seems a bit louder briefly. What a gem though this show was and always will be. Holly Robinson is so sexy and still is today. I wonder what Johnny Depp thinks of this being out now on DVD. He never liked doing the show after the 3rd season but stuck it out for his contract duration. Would be nice to hear his comments and have him on the extra features. Too bad.\", 'helpful': 10, 'title': \"Great Cop Show Of The 80's\", 'author': 'ur1299645', 'date': '30 October 2004', 'rating': None, 'not_helpful': 5}\n",
      "\n",
      "{'content': \"I remember this as on of the shows that helped launch Fox as a network. Between this, Adventures of Beans Baxter, Werewolf, Traci Ullman and Simpsons. I really enjoyed this show for most of it's run. The last season with Grieco did not leave me with too many fond memories. But for the first several seasons, I definitely made room in my Sunday lineup to see this show. For the most part, the stories were good. I just wish there was someplace that showed re-runs of 21JS. With the deluge of cop shows nowadays, i still think I could make time to see 21JS\", 'helpful': 7, 'title': 'fun shows of the past...', 'author': 'ur1684892', 'date': '5 January 2003', 'rating': None, 'not_helpful': 4}\n",
      "\n",
      "{'content': \"21 Jump Street is the best cop show ever. Here it is, 2002, and still I've never enjoyed a police TV program better. The A-Team will always be my favorite TV show, but 21 Jump Street is a VERY close second. I believe they were produced by the same person (Stephen J. Cannell) I wonder why the A-Team actors never made cameos? Steven Williams and Dustin Nguyen made appearances on The A-team? Oh,well. 21 Jump Street has never had an equal in police drama, it should have been brought back to regular TV? I guess I'll just have to live with the few episodes I have on tape, from when I was a child.\", 'helpful': 15, 'title': '21 JumpStreet', 'author': 'ur1919817', 'date': '1 September 2002', 'rating': None, 'not_helpful': 8}\n",
      "\n",
      "{'content': \"After seeing the 2012 movie adaptation with Jonah Hill and Channing Tatum, I wanted to go back and watch the series it was based on. During the middle of season 2, I lost interest and set it aside until the 2014 sequel, 22 Jump Street came out, so I decided to pick up where I left off. I'd say the first 3 seasons are the best. Season 5 is almost unwatchable. It really goes downhill after Johnny Depp leaves. (I understand Depp hated being on the show and tried like crazy to get kicked off. It was cool that he, Peter DeLuise, and Holly Robinson returned to the movie for cameos. In my eyes, the movie is a sequel to this series)25 years before Schmidt and Jenko entered Jump Street, there was Tom Hanson, Doug Penhall, Judy Hoffs, H.T. Ioki, and Booker. For the majority of the series, they go undercover in high school, posing as students and bust drug dealers, rapists and murderers. Other times, they go undercover in different places trying to infiltrate a gang or just trying to protect themselves from vengeful mobsters. If you loved the 2012 movie or early cop dramas, you might enjoy 21 JUMP STREET: THE COMPLETE SERIES!!!\", 'helpful': 2, 'title': 'An Entertaining Cop Drama That Plays Like an After-School Special!!!', 'author': 'ur13288300', 'date': '28 July 2014', 'rating': 7, 'not_helpful': 1}\n",
      "\n",
      "{'content': \"What a groundbreaking show! Credit to the producers for casting Dustin Nguyen in a mainstream role in a mainstream and incredibly popular police drama. I commend the producers for not making an attempt to whitewash Harry Ioki's role (looking at you, the people behind the American series Kung Fu, which should have featured Bruce Lee).The first three seasons were solid, and there was a wonderful rapport amongst the unit, and they looked out for each other. Unfortunately the direction got a bit languid when Dustin Nguyen and Johnny Depp no longer featured. The chemistry was missing and something was lacking - the x factor I guess. I was impressed with Richard Greico's appearance, and his spin-off series Booker was very underrated sadly.It was a shame Officer Dean Garrett (David Barry Gray) and Officer Kati Rocky (Alexandra Powers) only appeared in a handful of episodes, as they had real potential.\", 'helpful': 2, 'title': \"After Johnny Depp and Dustin Nguyen left, it wasn't the same\", 'author': 'ur34307814', 'date': '13 September 2016', 'rating': 9, 'not_helpful': 2}\n",
      "\n",
      "{'content': 'Airing during the Reagan era, this show evidences the reactionary politics that changed this country permanently much for the worse. Entering the 1980s, most Americans were legitimately suspicious and afraid of their own government, dating back to the repressive period of the Viet Nam War. One of the main areas of concern to moderate liberals in the 1980s was the abuse of so-called undercover operations by politically motivated police, many of which had unfairly targeted students of left wing sympathies. Although \"21 Jump Street\" didn\\'t always betray its right wing bias openly, it may have had the effect of propagandizing in favor of real world undercover operations aimed against youngsters. Kids make enemies all the time, which is usually harmless enough. But what if that enemy is secretly working for the cops? Police like the one portrayed by Johnny Depp should have to wear badges!', 'helpful': 10, 'title': 'Unfortunately, some times life imitates art.', 'author': 'ur4720785', 'date': '3 February 2005', 'rating': None, 'not_helpful': 17}\n",
      "\n",
      "{'content': \"21 Jump Street was a show where it showed cops as attractive, ultra-hip, stylish people. The time at which it came out was when cocaine and heroin were really cool, so this was kind of like a propaganda show, where it had the up-side to not doing drugs. Johnny Depp and Peter DeLuise were always fast-witted cool kids because they were drug free and upholded the law. It usually seemed corny, but something about it was fun, always seeing them having fun while doing their jobs was so cool.I can understand how Johnny Depp wanted to quit, because it didn't show a lot of things, like police corruption, or that it was completely unrealistic and the plots were contrived. But, with adequate directing and campy script combined with good acting, it was a great show.-Billy\", 'helpful': 8, 'title': 'Hoaky, but fun', 'author': 'ur0528460', 'date': '18 August 2001', 'rating': None, 'not_helpful': 8}\n",
      "\n",
      "{'content': 'This is the best non-Danish television series I\\'ve seen (you know, most people prefer their native tongue ...), but I think \"they\" should have killed it when Hanson/Depp left.In 1989, at the age of 11, I started learning English from watching The Simpsons, Married With Children and 21 Jump Street on Sky One. After all these years Homer Simpson, Al Bundy and of course Doug Penhall are still my favorite TV personalities :-)', 'helpful': 1, 'title': '21 Jump Street', 'author': 'ur45172147', 'date': '23 January 2020', 'rating': 9, 'not_helpful': 0}\n",
      "\n",
      "{'content': 'Like most people of my generation, I LOVED 21 jump street. Like most girls of my generation, I LOVED bad boy Johnny Depp. This one episode \"Swallowed alive\" (season 3) really stuck. Especially the music (\"are you sure\" by the staple singers in the tunnel scene, \"can\\'t find my way home\" by Steve Winwood at the very end...). Anyway, I had been waiting for years for a DVD release. Years. And then it came. I watched the first season thinking \"wow ! so lame !\" and what the heck is that electro-crap music ? I just thought I had embellished the show in my memory and that it just wasn\\'t that good anyway. Well, that\\'s part true. The dialogs are sometimes so cheesy they make me want to puke. No wonder Johnny Depp couldn\\'t\\' wait to get the hell out of this show ! I hadn\\'t understood his move at the time, but now, do I ! So, in search for comfort, I watched season 3 (without bothering with season2). And I watched \"Swallowed alive\". Aaaaaaaaaaaaaarrrrrrrrrrrrgggggggggggggghhhhhhhhhhhhhhhhhh ! Totally ruined !!! What have they done to my episode ?!! Even though I knew there wouldn\\'t be the original music because, well, none of the other episodes had their music, I kinda hoped they would have replaced it with something that would keep the spirit of the episode. Boy was I disappointed. Elevator music wouldn\\'t have been worse ! So, my box set made an express on ebay and I am now 21 jump street-free. I was so looking forward to jumping back in my 15 year-old skin... Well, I guess that won\\'t happen anytime soon. And you know what the worst part is ? I had that episode on tape. And some stupid family member taped over it. Life is so cruel.', 'helpful': 2, 'title': 'DVD release is a total rip-off', 'author': 'ur3981012', 'date': '3 April 2006', 'rating': None, 'not_helpful': 1}\n",
      "\n",
      "{'content': 'My friends continue to make fun of me for absolutely loving this show, but I don\\'t really care. Seeing the episodes now -- in 2002 -- only shows how fresh this show still is. Some of these episodes could be aired *today* and still be relevant and have an impact.I definitely thought the show was going a bit downhill in season 3. Adding Richard Grieco to the cast did not help; I liked neither him nor his character and was happy to see him gone. Overall, I must say that the second season was the best, with tightly-written episodes, strong characterization and outstanding acting (\"Orpheus 3.3\" springs to mind as an example of truly breath-taking acting on Johnny Depp\\'s part).Well, what more can I say that hasn\\'t been said? If you ever get the chance, check this show out. Here\\'s hoping for a possible DVD release -- the quality of my tapes isn\\'t what it used to be and I would hate to lose my collection (season 1-4).', 'helpful': 7, 'title': 'Still a good show', 'author': 'ur1124631', 'date': '4 December 2002', 'rating': None, 'not_helpful': 8}\n",
      "\n",
      "{'content': \"Oh, I hated Johnny Depp for years because of this show. Not that I watched it or knew who he was, but he was on this show and it came on at 7pm on Fox on Sundays and it sucked. Why? I don't know... it just sucked. Boy did it suck.And so in 1993, while working a summer job in a podunk town, I found it on when I came home for lunch one afternoon. I wasn't sure what it was at first, but I suspected it was that horrible, pathetic show. I figured I'd watch it... nothing like seeing a train wreck to cheer you up on a bad day, right? But then I realized it was time to go back to work and I couldn't go... 'cos I had to see the full wreck. And then I realized I timed my lunch hour to the same time the next day... and the next. You guessed it. I liked the show.Really, I don't know why I hated the show... probably because, like most people who are completely firm in their negative opinions, I had had no real exposure to it. I found (after watching, mind you) that the plots were decent, the actors from passable to excellent, and the writing and dialogue better than average. Depp and Peter Deluise worked well together, particulary when they worked as the McQuaid Brothers. Stephen Williams became a favorite actor of mine with his portrayal of Captain Fuller (he was later X on the X-Files.) As much as they were used, Holly Robinson and particularly Dustin Nguyen were never used as well as they could have been, but they were still good.Someone else mentioned that this because a star vehicle after a while. Despite the amount of future stars, I tend to disagree. Many of these faces were being seen for the first time here and no one could have guessed that they'd become famous. Brad Pitt, Pauly Shore, Sherilyn Fenn, Jason Priestly, Shannon Doherty, and several others had fleeting guest spots on the show and eventually went off to do bigger things, but there was also a long list of other actors on the show who went on to do very little or nothing at all.Another note (heh) that should be mentioned is that the show was one of the first to push a lot of popular music of the day in the soundtrack. I remember one epsiode about an AWOL military school student featured R.E.M.'s Orange Crush (off of the just released Green album). I believe the final Johnny Depp episode had an Oingo Boingo song from the Dark at the End of the Tunnel album... and don't knock Boingo... lead singer/composer Danny Elfman has been a respected film composer for over 15 years now. I believe a soundtrack was released, but I don't think many of the good songs were released on it.As the show went on, it became a little unbelievable that they could keep hitting the same schools without the students catching on or talking to each other to rat out the undercover officers. The writing got really bad in some episodes and Depp seemed to be giving bad performances just so he could get out of his contract. They allowed him to skip several episodes completely or limited his appearances in others as a result. After he left and the show went from FOX into general syndication for the last season, more and more shows were throwaways. The cast and guest stars suffered as well, with Robinson left to carry the show almost by herself (Peter Deluise guested on a handful of early episodes while brother Michael ended up on about half.) All in all, the last season is disappointing apart from a sparse handful of ok episodes.Like others, I'd love to see these on DVD, but I really don't expect it. It was a great show for a while, but when you lose the good producers and writers, even the best actors are going to have a tough time with working something out.\", 'helpful': 4, 'title': 'Before there was 90210, there was Jump Street', 'author': 'ur1549204', 'date': '14 June 2002', 'rating': None, 'not_helpful': 5}\n",
      "\n",
      "{'content': 'The cast and storyline was amazing. Johnny Depp stole the show and his chemistry with the other cast was amazing to watch. The Mcquaid brothers and when Johnny went uncover with that gang was great. Once Johnny left the show did go downhill.', 'helpful': 1, 'title': 'Great TV show', 'author': 'ur126564216', 'date': '27 November 2020', 'rating': 10, 'not_helpful': 0}\n",
      "\n",
      "{'content': \"21 jump street is the best TV series ever madeed.21 jump street tells the story of undercover cops who go inti high schools as students.This is one of the best series ever made.Best soundtrack and best actors.I really love this show and i still do.I follow this show when i was twelve years old and i steel best show.I know that was more cop series made from creator Stephen J. Cannell but this is the best cop show ever made.From the first 4 seasons were the best,except season 5 sucks,and ruined the show.Because Johnny Depp and Dustin Nguyen left the show and thats not all later in the show i founded that Peter Deluise left the show in less then 10 episodes.I can only say that the 4 season of 21 Jump Street are the best.From season 1 too season 4.My favorite episodes are: Season 1: The Pilot,America,What a Town,My future's so bright ,I gotta Wear Shades,The worst night of your life and gotta finish the riff is one of the best episodes in season 1 ,were gang of students take the high school and students as hostages is one of the best episodes ever made and is the first appearance from Steven Williams as Capt. Adam Fuller,Bad influence,Blindsided and 16 Blown to 35 this are the best and good episodes. Season 2: In The Coustody of a Clown,Besiged (1 & 2),Two for the Road,After School Special,Higher Education is one of the best episode were was Ioki accused of a pregnant teenage girl he didn't do,Hounor Bound,You ought to be in prison the return of waxer from the first episode,Christmas in Saigon were tels a life story of Ioki from were he come its all so the best episode Fear and Loathing with Russell Buckins,were Penhall and Hanson soupiest to go in to Academy back after Hanson scurried a Case. A big Disease with a little name,Chapel of love, I'm OK- You Need Work introducing Christina Applegate,Orpheus 3.3. were tels the story of Henson who can't not forget his girlfriend after she was shoot is one of best episode,Best years of your life tels the story of Penhall with a suicide problem and a student who did suicide and School's out. Season 3: Fun with animals,were Hanson get his new partner,Slippin'into darkness,The Currency we trade in,were Penhal made a mistake and try to fix his problem were he was not by the Jump Street anymore,Coach of the year,The Dragon and The Angel,Swallowed Alive,What About Love?,Woolly Bullies,The Dread Ruturn of Russell Buckins,Nemesis,Blinded By Thousand Points of Light,were the team go In the street's as homeless is one of the best episode in the third season and Loc'd Out (1 & 2).Were is Hanson accused of a murder of another Police Officer he did not do and Ioki is shoot. Season 4: Draw the Line,Say It Ain't so,Pete is on of the best episode in season 4 of story of a problem student with gamble problems,Eternal Flame,God is A Bullet,Old Haunts in A New Age,Out of Control,Stand By Your Man,Mike s P.O.W. is one of the best episode,Wheels and Deals(2) return of Booker,Thing We said Today is one of the best episode were Ioki has to face his past 3 years early were were some kid turn his parents to police and drop out of high school and run away and later hi face with Ioki ,i rely like this episode is one of the best episode,Research and Destroy,Back From the Future were the episode show what happened in last 3 years,2245 it's on good episode but i don't know for what it is this title,Awomp-Bomp-Aloobomb, Aloop Bamboom,La Bizca,How I Saved the Senator and Blackout.This are the best episode's of 21 Jump Street.When you don't liked this episodes than you are not really fan of 21 Jump Street.I'Got nothing too say about Season 5.Except that Season 5 ruined the show with out Johnny Depp,Dustin Nugyen,Peter Deluise,Sal Janco and Richard Grieco this show sucks because they were the stars of this show.Only Holly Robinson and Steven Williams are the only actors that they stay in the show.I just say one thing stay with the first 4 season's you liked.\", 'helpful': 2, 'title': '21 Jump Street is one of the best show that was ever made in television history.', 'author': 'ur15140057', 'date': '2 May 2007', 'rating': 10, 'not_helpful': 5}\n",
      "\n",
      "{'content': '\\'21 Jumpstreet\\' only escaped being totally forgotten by television viewers because it\\'s early star, Johnny Depp, would go on to gain such widespread cinematic notoriety. Otherwise, the exaggerated after-school-special styled cop drama would be completely dismissed as incredibly cheesy and ridiculous. Granted, the series, which follows the \"Jump Street\" program managed by one police captain and four baby-faced detectives who occasionally go undercover at high schools and such to investigate the latest of teenagers gone wild, did bring attention to pressing issues of drug use, teen pregnancy, school violence, racism and other topics that don\\'t even get an ounce of attention in today\\'s television programs geared toward young viewers.But, it did so in such a way that almost mirrored late 1970s and early 1980s dramas like Class of 1984 which featured completely out-of-control urban teens raising hell much to the confusion and chagrin of various adult authority who just assume wipe them out completely in order to avoid wasting time trying to get them to stop their craziness. It is hard to watch Jumpstreet reruns and take much of any of it seriously. The dialog was bad enough, but the situations themselves are written with such absurdity. In the second season episode, \"After School Special,\" a student shoots a teacher, and Hoffs and the police captain both go undercover to investigate gun dealers at school. We find out that pretty much every student is packing heat and lots of teachers are or soon intend to be as well. As if this weren\\'t stupid enough, the gang seems to take measures lightly considering the amount of arms floating around on campus.The series became as dated and cheesy as a lot of the other cautionary television shows similar to it (Highway to Heaven is one that comes to mind), and especially at the beginning of the second season. Unfortunately, it was hard to take seriously any of the youth-centered issues it had hoped to address, leaving it only valuable as a source of nostalgia (there were a lot of familiar faces in guest starring roles, and almost as many mullets).', 'helpful': 2, 'title': 'Instantly forgettable were it not for Johnny Depp. (spoilers)', 'author': 'ur1588706', 'date': '16 July 2006', 'rating': 2, 'not_helpful': 8}\n",
      "\n",
      "{'content': \"Not one of my favourite series. I only watch 21 Jump Street a few times. Predictable story lines. Clische type characters for the cop genre. Over acting scenes with added drama. Geared for the female audience. Depp became a big part of the show. Hard to believe Depp started out a few year earlier with A Nightmare on Elm Street. Howerer, there where some bright spots with characters and scenes. John Debt has a few charismatic moments. A few strong episodes left the viewer moved. 21 Jump Street had many forgettable 1980's cop style episode. Action films began to die in the late 80's. The genre became dated. I gave 21 Jump Street 5 out of 10.\", 'helpful': 0, 'title': 'not one of my favourite series.', 'author': 'ur0453228', 'date': '25 December 2015', 'rating': 5, 'not_helpful': 4}\n",
      "\n"
     ]
    }
   ],
   "source": [
    "rating_list = []\n",
    "review_title_list = []\n",
    "review_list = []\n",
    "reviews = the_movie['reviews']\n",
    "for review in reviews:\n",
    "    print(review)\n",
    "    rating_list.append(review['rating'])\n",
    "    review_title_list.append(review['title'])\n",
    "    review_list.append(review['content'])\n",
    "    print()"
   ],
   "metadata": {
    "collapsed": false,
    "pycharm": {
     "name": "#%%\n"
    }
   }
  },
  {
   "cell_type": "code",
   "execution_count": 11,
   "outputs": [
    {
     "data": {
      "text/plain": "'The cases of an undercover police unit composed of young-looking officers specializing in youth crime.'"
     },
     "execution_count": 11,
     "metadata": {},
     "output_type": "execute_result"
    }
   ],
   "source": [
    "the_movie['plot'][0]"
   ],
   "metadata": {
    "collapsed": false,
    "pycharm": {
     "name": "#%%\n"
    }
   }
  },
  {
   "cell_type": "code",
   "execution_count": 12,
   "outputs": [
    {
     "name": "stdout",
     "output_type": "stream",
     "text": [
      "\n",
      "21 Jump Street episodes-\n",
      "\n",
      "Season 1 :\n",
      "1. Pilot\n",
      "2. America, What a Town\n",
      "3. Don't Pet the Teacher\n",
      "4. My Future's So Bright, I Gotta Wear Shades\n",
      "5. The Worst Night of Your Life\n",
      "6. Gotta Finish the Riff\n",
      "7. Bad Influence\n",
      "8. Blindsided\n",
      "9. Next Generation\n",
      "10. Low and Away\n",
      "11. 16 Blown to 35\n",
      "12. Mean Streets and Pastel Houses\n",
      "\n",
      "Season 2 :\n",
      "1. In the Custody of a Clown\n",
      "2. Besieged: Part 1\n",
      "3. Besieged: Part 2\n",
      "4. Two for the Road\n",
      "5. After School Special\n",
      "6. Higher Education\n",
      "7. Don't Stretch the Rainbow\n",
      "8. Honor Bound\n",
      "9. You Oughta Be in Prison\n",
      "10. How Much Is That Body in the Window?\n",
      "11. Christmas in Saigon\n",
      "12. Fear and Loathing with Russell Buckins\n",
      "13. A Big Disease with a Little Name\n",
      "14. Chapel of Love\n",
      "15. I'm Okay, You Need Work\n",
      "16. Orpheus 3.3\n",
      "17. Champagne High\n",
      "18. Brother Hanson & the Miracle of Renner's Pond\n",
      "19. Raising Marijuana\n",
      "20. Best Years of Your Life\n",
      "21. Cory and Dean Got Married\n",
      "22. School's Out\n",
      "\n",
      "Season 3 :\n",
      "1. Fun with Animals\n",
      "2. Slippin' Into Darkness\n",
      "3. The Currency We Trade In\n",
      "4. Coach of the Year\n",
      "5. Whose Choice Is It Anyway?\n",
      "6. Hell Week\n",
      "7. The Dragon and the Angel\n",
      "8. The Blu Flu\n",
      "9. Swallowed Alive\n",
      "10. What About Love?\n",
      "11. Woolly Bullies\n",
      "12. The Dreaded Return of Russell Buckins\n",
      "13. A.W.O.L.\n",
      "14. Nemesis\n",
      "15. Fathers and Sons\n",
      "16. High High\n",
      "17. Blinded by the Thousand Points of Light\n",
      "18. Next Victim\n",
      "19. Loc'd Out: Part 1\n",
      "20. Loc'd Out: Part 2\n",
      "\n",
      "Season 4 :\n",
      "1. Draw the Line\n",
      "2. Say It Ain't So, Pete\n",
      "3. Eternal Flame\n",
      "4. Come from the Shadows\n",
      "5. God Is a Bullet\n",
      "6. Old Haunts in the New Age\n",
      "7. Out of Control\n",
      "8. Stand by Your Man\n",
      "9. Mike's P.O.V.\n",
      "10. Wheels and Deals: Part 2\n",
      "11. Parental Guidance Suggested\n",
      "12. Things We Said Today\n",
      "13. Research and Destroy\n",
      "14. Change of Heart\n",
      "15. Back from the Future\n",
      "16. 2245\n",
      "17. Hi Mom\n",
      "18. Awomp-Bomp-Aloobomp-Aloop-Bamboom\n",
      "19. La Bizca\n",
      "20. Last Chance High\n",
      "21. Unfinished Business\n",
      "22. Shirts and Skins\n",
      "23. How I Saved the Senator\n",
      "24. Rounding Third\n",
      "25. Everyday Is Christmas\n",
      "26. Blackout\n",
      "\n",
      "Season 5 :\n",
      "1. Tunnel of Love\n",
      "2. Back to School\n",
      "3. Buddy System\n",
      "4. Poison\n",
      "5. Just Say No! High\n",
      "6. Brothers\n",
      "7. This Ain't No Summer Camp\n",
      "8. The Girl Next Door\n",
      "9. Diplomas for Sale\n",
      "10. Number One with a Bullet\n",
      "11. Equal Protection\n",
      "12. The Education of Terry Carver\n",
      "13. Baby Blues\n",
      "14. Film at Eleven\n",
      "15. In the Name of Love\n",
      "16. Coppin' Out\n",
      "17. Under the Influence\n",
      "18. Crossfire\n",
      "19. Wasted\n",
      "20. Bad Day at Blackburn\n",
      "21. Homegirls\n",
      "22. Second Chances\n",
      "\n"
     ]
    }
   ],
   "source": [
    "try:\n",
    "    episodes = list(the_movie['episodes'].items())\n",
    "except KeyError:\n",
    "    pass\n",
    "# episodes[1]\n",
    "else:\n",
    "    print(f'\\n{movies[0]} episodes-\\n')\n",
    "    for ep in episodes:\n",
    "        a_list = list(ep[1].items())\n",
    "        print('Season', ep[0], ':')\n",
    "        for j, e in a_list:\n",
    "            print(f'{j}. {e}')\n",
    "        print()"
   ],
   "metadata": {
    "collapsed": false,
    "pycharm": {
     "name": "#%%\n"
    }
   }
  },
  {
   "cell_type": "code",
   "execution_count": 13,
   "outputs": [
    {
     "data": {
      "text/plain": "                                         Review Title  \\\n0   Launching pad for teen stars; one of the bette...   \n1                           The Mod Squad of the 80's   \n2                           Mod Squad Of The Eighties   \n3                                Jump for Jump Street   \n4                                            reminder   \n5         Show that Launched Johnny Depp Into Stardom   \n6                   One of the best shows of the 80's   \n7                                    Excellent series   \n8                                            terrific   \n9   Typical 1980s TV series, it gave Johnny Depp h...   \n10                         Great Cop Show Of The 80's   \n11                           fun shows of the past...   \n12                                      21 JumpStreet   \n13  An Entertaining Cop Drama That Plays Like an A...   \n14  After Johnny Depp and Dustin Nguyen left, it w...   \n15       Unfortunately, some times life imitates art.   \n16                                     Hoaky, but fun   \n17                                     21 Jump Street   \n18                     DVD release is a total rip-off   \n19                                  Still a good show   \n20      Before there was 90210, there was Jump Street   \n21                                      Great TV show   \n22  21 Jump Street is one of the best show that wa...   \n23  Instantly forgettable were it not for Johnny D...   \n24                    not one of my favourite series.   \n\n                                               Review  Rating  \n0   This was one of the first Fox hour-long dramas...     NaN  \n1   This was definitely a quality show. This show ...     NaN  \n2   It took another 20 years, another generation, ...     8.0  \n3   This was Fox's first serious drama. It was aim...     8.0  \n4   This television series held its own. I remembe...     NaN  \n5   The show really was the Mod Squad of the 1980'...     8.0  \n6   I recently bought the first season and this sh...     NaN  \n7   This was a top notch series that featured yout...     9.0  \n8   The movie that came out was good, but it could...     9.0  \n9   Currently popular are the recent jump street m...     NaN  \n10  Great to see that the show has hit the DVD for...     NaN  \n11  I remember this as on of the shows that helped...     NaN  \n12  21 Jump Street is the best cop show ever. Here...     NaN  \n13  After seeing the 2012 movie adaptation with Jo...     7.0  \n14  What a groundbreaking show! Credit to the prod...     9.0  \n15  Airing during the Reagan era, this show eviden...     NaN  \n16  21 Jump Street was a show where it showed cops...     NaN  \n17  This is the best non-Danish television series ...     9.0  \n18  Like most people of my generation, I LOVED 21 ...     NaN  \n19  My friends continue to make fun of me for abso...     NaN  \n20  Oh, I hated Johnny Depp for years because of t...     NaN  \n21  The cast and storyline was amazing. Johnny Dep...    10.0  \n22  21 jump street is the best TV series ever made...    10.0  \n23  '21 Jumpstreet' only escaped being totally for...     2.0  \n24  Not one of my favourite series. I only watch 2...     5.0  ",
      "text/html": "<div>\n<style scoped>\n    .dataframe tbody tr th:only-of-type {\n        vertical-align: middle;\n    }\n\n    .dataframe tbody tr th {\n        vertical-align: top;\n    }\n\n    .dataframe thead th {\n        text-align: right;\n    }\n</style>\n<table border=\"1\" class=\"dataframe\">\n  <thead>\n    <tr style=\"text-align: right;\">\n      <th></th>\n      <th>Review Title</th>\n      <th>Review</th>\n      <th>Rating</th>\n    </tr>\n  </thead>\n  <tbody>\n    <tr>\n      <th>0</th>\n      <td>Launching pad for teen stars; one of the bette...</td>\n      <td>This was one of the first Fox hour-long dramas...</td>\n      <td>NaN</td>\n    </tr>\n    <tr>\n      <th>1</th>\n      <td>The Mod Squad of the 80's</td>\n      <td>This was definitely a quality show. This show ...</td>\n      <td>NaN</td>\n    </tr>\n    <tr>\n      <th>2</th>\n      <td>Mod Squad Of The Eighties</td>\n      <td>It took another 20 years, another generation, ...</td>\n      <td>8.0</td>\n    </tr>\n    <tr>\n      <th>3</th>\n      <td>Jump for Jump Street</td>\n      <td>This was Fox's first serious drama. It was aim...</td>\n      <td>8.0</td>\n    </tr>\n    <tr>\n      <th>4</th>\n      <td>reminder</td>\n      <td>This television series held its own. I remembe...</td>\n      <td>NaN</td>\n    </tr>\n    <tr>\n      <th>5</th>\n      <td>Show that Launched Johnny Depp Into Stardom</td>\n      <td>The show really was the Mod Squad of the 1980'...</td>\n      <td>8.0</td>\n    </tr>\n    <tr>\n      <th>6</th>\n      <td>One of the best shows of the 80's</td>\n      <td>I recently bought the first season and this sh...</td>\n      <td>NaN</td>\n    </tr>\n    <tr>\n      <th>7</th>\n      <td>Excellent series</td>\n      <td>This was a top notch series that featured yout...</td>\n      <td>9.0</td>\n    </tr>\n    <tr>\n      <th>8</th>\n      <td>terrific</td>\n      <td>The movie that came out was good, but it could...</td>\n      <td>9.0</td>\n    </tr>\n    <tr>\n      <th>9</th>\n      <td>Typical 1980s TV series, it gave Johnny Depp h...</td>\n      <td>Currently popular are the recent jump street m...</td>\n      <td>NaN</td>\n    </tr>\n    <tr>\n      <th>10</th>\n      <td>Great Cop Show Of The 80's</td>\n      <td>Great to see that the show has hit the DVD for...</td>\n      <td>NaN</td>\n    </tr>\n    <tr>\n      <th>11</th>\n      <td>fun shows of the past...</td>\n      <td>I remember this as on of the shows that helped...</td>\n      <td>NaN</td>\n    </tr>\n    <tr>\n      <th>12</th>\n      <td>21 JumpStreet</td>\n      <td>21 Jump Street is the best cop show ever. Here...</td>\n      <td>NaN</td>\n    </tr>\n    <tr>\n      <th>13</th>\n      <td>An Entertaining Cop Drama That Plays Like an A...</td>\n      <td>After seeing the 2012 movie adaptation with Jo...</td>\n      <td>7.0</td>\n    </tr>\n    <tr>\n      <th>14</th>\n      <td>After Johnny Depp and Dustin Nguyen left, it w...</td>\n      <td>What a groundbreaking show! Credit to the prod...</td>\n      <td>9.0</td>\n    </tr>\n    <tr>\n      <th>15</th>\n      <td>Unfortunately, some times life imitates art.</td>\n      <td>Airing during the Reagan era, this show eviden...</td>\n      <td>NaN</td>\n    </tr>\n    <tr>\n      <th>16</th>\n      <td>Hoaky, but fun</td>\n      <td>21 Jump Street was a show where it showed cops...</td>\n      <td>NaN</td>\n    </tr>\n    <tr>\n      <th>17</th>\n      <td>21 Jump Street</td>\n      <td>This is the best non-Danish television series ...</td>\n      <td>9.0</td>\n    </tr>\n    <tr>\n      <th>18</th>\n      <td>DVD release is a total rip-off</td>\n      <td>Like most people of my generation, I LOVED 21 ...</td>\n      <td>NaN</td>\n    </tr>\n    <tr>\n      <th>19</th>\n      <td>Still a good show</td>\n      <td>My friends continue to make fun of me for abso...</td>\n      <td>NaN</td>\n    </tr>\n    <tr>\n      <th>20</th>\n      <td>Before there was 90210, there was Jump Street</td>\n      <td>Oh, I hated Johnny Depp for years because of t...</td>\n      <td>NaN</td>\n    </tr>\n    <tr>\n      <th>21</th>\n      <td>Great TV show</td>\n      <td>The cast and storyline was amazing. Johnny Dep...</td>\n      <td>10.0</td>\n    </tr>\n    <tr>\n      <th>22</th>\n      <td>21 Jump Street is one of the best show that wa...</td>\n      <td>21 jump street is the best TV series ever made...</td>\n      <td>10.0</td>\n    </tr>\n    <tr>\n      <th>23</th>\n      <td>Instantly forgettable were it not for Johnny D...</td>\n      <td>'21 Jumpstreet' only escaped being totally for...</td>\n      <td>2.0</td>\n    </tr>\n    <tr>\n      <th>24</th>\n      <td>not one of my favourite series.</td>\n      <td>Not one of my favourite series. I only watch 2...</td>\n      <td>5.0</td>\n    </tr>\n  </tbody>\n</table>\n</div>"
     },
     "execution_count": 13,
     "metadata": {},
     "output_type": "execute_result"
    }
   ],
   "source": [
    "# load reviews in dataframe\n",
    "df = pd.DataFrame(zip(review_title_list, review_list, rating_list), columns=['Review Title','Review', 'Rating'])\n",
    "# preview\n",
    "df"
   ],
   "metadata": {
    "collapsed": false,
    "pycharm": {
     "name": "#%%\n"
    }
   }
  },
  {
   "cell_type": "code",
   "execution_count": 14,
   "outputs": [
    {
     "data": {
      "text/plain": "(25, 3)"
     },
     "execution_count": 14,
     "metadata": {},
     "output_type": "execute_result"
    }
   ],
   "source": [
    "df.shape"
   ],
   "metadata": {
    "collapsed": false,
    "pycharm": {
     "name": "#%%\n"
    }
   }
  },
  {
   "cell_type": "code",
   "execution_count": 15,
   "outputs": [
    {
     "data": {
      "text/plain": "Review Title     object\nReview           object\nRating          float64\ndtype: object"
     },
     "execution_count": 15,
     "metadata": {},
     "output_type": "execute_result"
    }
   ],
   "source": [
    "df.dtypes"
   ],
   "metadata": {
    "collapsed": false,
    "pycharm": {
     "name": "#%%\n"
    }
   }
  },
  {
   "cell_type": "code",
   "execution_count": 16,
   "outputs": [
    {
     "data": {
      "text/plain": "Review Title     0\nReview           0\nRating          13\ndtype: int64"
     },
     "execution_count": 16,
     "metadata": {},
     "output_type": "execute_result"
    }
   ],
   "source": [
    "# check for missing values\n",
    "df.isnull().sum()"
   ],
   "metadata": {
    "collapsed": false,
    "pycharm": {
     "name": "#%%\n"
    }
   }
  },
  {
   "cell_type": "markdown",
   "source": [
    "### Exploration with review text\n",
    "- Sentiment Analysis\n",
    "- Keyword Extraction\n",
    "    - Keywords for each emotion\n",
    "    - Wordcloud"
   ],
   "metadata": {
    "collapsed": false,
    "pycharm": {
     "name": "#%% md\n"
    }
   }
  },
  {
   "cell_type": "code",
   "execution_count": 17,
   "outputs": [],
   "source": [
    "def clean_text(text):\n",
    "    \"\"\"Clean Review Text.\"\"\"\n",
    "    stopwords = [\"for\", \"on\", \"an\", \"a\", \"of\", \"and\", \"in\", \"the\", \"to\", \"from\"]\n",
    "    if type(text) == np.float:\n",
    "        return \"\"\n",
    "    temp = text.lower()\n",
    "    temp = re.sub(\"'\", \"\", temp)  # to avoid removing contractions in english\n",
    "    temp = re.sub(\"@[A-Za-z0-9_]+\", \"\", temp)\n",
    "    temp = re.sub(\"#[A-Za-z0-9_]+\", \"\", temp)\n",
    "    temp = re.sub(r'http\\S+', '', temp)\n",
    "    temp = re.sub('[()!?]', ' ', temp)\n",
    "    temp = re.sub('\\[.*?\\]', ' ', temp)\n",
    "    temp = re.sub(\"[^a-z0-9]\", \" \", temp)\n",
    "    temp = temp.split()\n",
    "    temp = [w for w in temp if not w in stopwords]\n",
    "    temp = \" \".join(word for word in temp)\n",
    "    return temp"
   ],
   "metadata": {
    "collapsed": false,
    "pycharm": {
     "name": "#%%\n"
    }
   }
  },
  {
   "cell_type": "code",
   "execution_count": 18,
   "outputs": [],
   "source": [
    "def get_sentiment(sentiment):\n",
    "    if sentiment < 0:\n",
    "        return 'Negative'\n",
    "    elif sentiment == 0:\n",
    "        return 'Neutral'\n",
    "    else:\n",
    "        return 'Positive'\n",
    "\n",
    "def get_polarity(text):\n",
    "    blob = TextBlob(text)\n",
    "    return blob.sentiment.polarity\n",
    "\n",
    "def get_subjectivity(text):\n",
    "    blob = TextBlob(text)\n",
    "    return blob.sentiment.subjectivity"
   ],
   "metadata": {
    "collapsed": false,
    "pycharm": {
     "name": "#%%\n"
    }
   }
  },
  {
   "cell_type": "code",
   "execution_count": 19,
   "outputs": [
    {
     "name": "stderr",
     "output_type": "stream",
     "text": [
      "/Library/Frameworks/Python.framework/Versions/3.7/lib/python3.7/site-packages/ipykernel_launcher.py:4: DeprecationWarning: `np.float` is a deprecated alias for the builtin `float`. To silence this warning, use `float` by itself. Doing this will not modify any behavior and is safe. If you specifically wanted the numpy scalar type, use `np.float64` here.\n",
      "Deprecated in NumPy 1.20; for more details and guidance: https://numpy.org/devdocs/release/1.20.0-notes.html#deprecations\n",
      "  after removing the cwd from sys.path.\n"
     ]
    },
    {
     "data": {
      "text/plain": "                                         Review Title  \\\n0   launching pad teen stars one better early fox ...   \n1                                       mod squad 80s   \n2                                  mod squad eighties   \n3                                    jump jump street   \n4                                            reminder   \n5         show that launched johnny depp into stardom   \n6                                  one best shows 80s   \n7                                    excellent series   \n8                                            terrific   \n9   typical 1980s tv series it gave johnny depp hi...   \n10                                 great cop show 80s   \n11                                     fun shows past   \n12                                      21 jumpstreet   \n13  entertaining cop drama that plays like after s...   \n14  after johnny depp dustin nguyen left it wasnt ...   \n15         unfortunately some times life imitates art   \n16                                      hoaky but fun   \n17                                     21 jump street   \n18                       dvd release is total rip off   \n19                                    still good show   \n20       before there was 90210 there was jump street   \n21                                      great tv show   \n22  21 jump street is one best show that was ever ...   \n23  instantly forgettable were it not johnny depp ...   \n24                        not one my favourite series   \n\n                                               Review  Rating  \\\n0   This was one of the first Fox hour-long dramas...     NaN   \n1   This was definitely a quality show. This show ...     NaN   \n2   It took another 20 years, another generation, ...     8.0   \n3   This was Fox's first serious drama. It was aim...     8.0   \n4   This television series held its own. I remembe...     NaN   \n5   The show really was the Mod Squad of the 1980'...     8.0   \n6   I recently bought the first season and this sh...     NaN   \n7   This was a top notch series that featured yout...     9.0   \n8   The movie that came out was good, but it could...     9.0   \n9   Currently popular are the recent jump street m...     NaN   \n10  Great to see that the show has hit the DVD for...     NaN   \n11  I remember this as on of the shows that helped...     NaN   \n12  21 Jump Street is the best cop show ever. Here...     NaN   \n13  After seeing the 2012 movie adaptation with Jo...     7.0   \n14  What a groundbreaking show! Credit to the prod...     9.0   \n15  Airing during the Reagan era, this show eviden...     NaN   \n16  21 Jump Street was a show where it showed cops...     NaN   \n17  This is the best non-Danish television series ...     9.0   \n18  Like most people of my generation, I LOVED 21 ...     NaN   \n19  My friends continue to make fun of me for abso...     NaN   \n20  Oh, I hated Johnny Depp for years because of t...     NaN   \n21  The cast and storyline was amazing. Johnny Dep...    10.0   \n22  21 jump street is the best TV series ever made...    10.0   \n23  '21 Jumpstreet' only escaped being totally for...     2.0   \n24  Not one of my favourite series. I only watch 2...     5.0   \n\n                                         Clean_Review  Subjectivity  Polarity  \\\n0   this was one first fox hour long dramas fox de...      0.422701  0.250287   \n1   this was definitely quality show this show was...      0.519747  0.145758   \n2   it took another 20 years another generation be...      0.419887  0.147732   \n3   this was foxs first serious drama it was aimed...      0.456181  0.184965   \n4   this television series held its own i remember...      0.522222  0.266667   \n5   show really was mod squad 1980s kids that coul...      0.347500  0.131667   \n6   i recently bought first season this show is st...      0.512111  0.240667   \n7   this was top notch series that featured youthf...      0.591429  0.465714   \n8   movie that came out was good but it couldnt ho...      0.538750  0.261250   \n9   currently popular are recent jump street movie...      0.391745  0.096667   \n10  great see that show has hit dvd format watched...      0.582593  0.115000   \n11  i remember this as shows that helped launch fo...      0.390000  0.325000   \n12  21 jump street is best cop show ever here it i...      0.373225  0.106643   \n13  after seeing 2012 movie adaptation with jonah ...      0.429314  0.125588   \n14  what groundbreaking show credit producers cast...      0.583889  0.088333   \n15  airing during reagan era this show evidences r...      0.523280 -0.022090   \n16  21 jump street was show where it showed cops a...      0.579630  0.257407   \n17  this is best non danish television series ive ...      0.292857  0.292857   \n18  like most people my generation i loved 21 jump...      0.652130 -0.026667   \n19  my friends continue make fun me absolutely lov...      0.542911  0.247944   \n20  oh i hated johnny depp years because this show...      0.461631  0.075504   \n21  cast storyline was amazing johnny depp stole s...      0.612500  0.445833   \n22  21 jump street is best tv series ever madeed 2...      0.378498  0.390392   \n23  21 jumpstreet only escaped being totally forgo...      0.532523 -0.035270   \n24  not one my favourite series i only watch 21 ju...      0.391667  0.007456   \n\n   Sentiment  \n0   Positive  \n1   Positive  \n2   Positive  \n3   Positive  \n4   Positive  \n5   Positive  \n6   Positive  \n7   Positive  \n8   Positive  \n9   Positive  \n10  Positive  \n11  Positive  \n12  Positive  \n13  Positive  \n14  Positive  \n15  Negative  \n16  Positive  \n17  Positive  \n18  Negative  \n19  Positive  \n20  Positive  \n21  Positive  \n22  Positive  \n23  Negative  \n24  Positive  ",
      "text/html": "<div>\n<style scoped>\n    .dataframe tbody tr th:only-of-type {\n        vertical-align: middle;\n    }\n\n    .dataframe tbody tr th {\n        vertical-align: top;\n    }\n\n    .dataframe thead th {\n        text-align: right;\n    }\n</style>\n<table border=\"1\" class=\"dataframe\">\n  <thead>\n    <tr style=\"text-align: right;\">\n      <th></th>\n      <th>Review Title</th>\n      <th>Review</th>\n      <th>Rating</th>\n      <th>Clean_Review</th>\n      <th>Subjectivity</th>\n      <th>Polarity</th>\n      <th>Sentiment</th>\n    </tr>\n  </thead>\n  <tbody>\n    <tr>\n      <th>0</th>\n      <td>launching pad teen stars one better early fox ...</td>\n      <td>This was one of the first Fox hour-long dramas...</td>\n      <td>NaN</td>\n      <td>this was one first fox hour long dramas fox de...</td>\n      <td>0.422701</td>\n      <td>0.250287</td>\n      <td>Positive</td>\n    </tr>\n    <tr>\n      <th>1</th>\n      <td>mod squad 80s</td>\n      <td>This was definitely a quality show. This show ...</td>\n      <td>NaN</td>\n      <td>this was definitely quality show this show was...</td>\n      <td>0.519747</td>\n      <td>0.145758</td>\n      <td>Positive</td>\n    </tr>\n    <tr>\n      <th>2</th>\n      <td>mod squad eighties</td>\n      <td>It took another 20 years, another generation, ...</td>\n      <td>8.0</td>\n      <td>it took another 20 years another generation be...</td>\n      <td>0.419887</td>\n      <td>0.147732</td>\n      <td>Positive</td>\n    </tr>\n    <tr>\n      <th>3</th>\n      <td>jump jump street</td>\n      <td>This was Fox's first serious drama. It was aim...</td>\n      <td>8.0</td>\n      <td>this was foxs first serious drama it was aimed...</td>\n      <td>0.456181</td>\n      <td>0.184965</td>\n      <td>Positive</td>\n    </tr>\n    <tr>\n      <th>4</th>\n      <td>reminder</td>\n      <td>This television series held its own. I remembe...</td>\n      <td>NaN</td>\n      <td>this television series held its own i remember...</td>\n      <td>0.522222</td>\n      <td>0.266667</td>\n      <td>Positive</td>\n    </tr>\n    <tr>\n      <th>5</th>\n      <td>show that launched johnny depp into stardom</td>\n      <td>The show really was the Mod Squad of the 1980'...</td>\n      <td>8.0</td>\n      <td>show really was mod squad 1980s kids that coul...</td>\n      <td>0.347500</td>\n      <td>0.131667</td>\n      <td>Positive</td>\n    </tr>\n    <tr>\n      <th>6</th>\n      <td>one best shows 80s</td>\n      <td>I recently bought the first season and this sh...</td>\n      <td>NaN</td>\n      <td>i recently bought first season this show is st...</td>\n      <td>0.512111</td>\n      <td>0.240667</td>\n      <td>Positive</td>\n    </tr>\n    <tr>\n      <th>7</th>\n      <td>excellent series</td>\n      <td>This was a top notch series that featured yout...</td>\n      <td>9.0</td>\n      <td>this was top notch series that featured youthf...</td>\n      <td>0.591429</td>\n      <td>0.465714</td>\n      <td>Positive</td>\n    </tr>\n    <tr>\n      <th>8</th>\n      <td>terrific</td>\n      <td>The movie that came out was good, but it could...</td>\n      <td>9.0</td>\n      <td>movie that came out was good but it couldnt ho...</td>\n      <td>0.538750</td>\n      <td>0.261250</td>\n      <td>Positive</td>\n    </tr>\n    <tr>\n      <th>9</th>\n      <td>typical 1980s tv series it gave johnny depp hi...</td>\n      <td>Currently popular are the recent jump street m...</td>\n      <td>NaN</td>\n      <td>currently popular are recent jump street movie...</td>\n      <td>0.391745</td>\n      <td>0.096667</td>\n      <td>Positive</td>\n    </tr>\n    <tr>\n      <th>10</th>\n      <td>great cop show 80s</td>\n      <td>Great to see that the show has hit the DVD for...</td>\n      <td>NaN</td>\n      <td>great see that show has hit dvd format watched...</td>\n      <td>0.582593</td>\n      <td>0.115000</td>\n      <td>Positive</td>\n    </tr>\n    <tr>\n      <th>11</th>\n      <td>fun shows past</td>\n      <td>I remember this as on of the shows that helped...</td>\n      <td>NaN</td>\n      <td>i remember this as shows that helped launch fo...</td>\n      <td>0.390000</td>\n      <td>0.325000</td>\n      <td>Positive</td>\n    </tr>\n    <tr>\n      <th>12</th>\n      <td>21 jumpstreet</td>\n      <td>21 Jump Street is the best cop show ever. Here...</td>\n      <td>NaN</td>\n      <td>21 jump street is best cop show ever here it i...</td>\n      <td>0.373225</td>\n      <td>0.106643</td>\n      <td>Positive</td>\n    </tr>\n    <tr>\n      <th>13</th>\n      <td>entertaining cop drama that plays like after s...</td>\n      <td>After seeing the 2012 movie adaptation with Jo...</td>\n      <td>7.0</td>\n      <td>after seeing 2012 movie adaptation with jonah ...</td>\n      <td>0.429314</td>\n      <td>0.125588</td>\n      <td>Positive</td>\n    </tr>\n    <tr>\n      <th>14</th>\n      <td>after johnny depp dustin nguyen left it wasnt ...</td>\n      <td>What a groundbreaking show! Credit to the prod...</td>\n      <td>9.0</td>\n      <td>what groundbreaking show credit producers cast...</td>\n      <td>0.583889</td>\n      <td>0.088333</td>\n      <td>Positive</td>\n    </tr>\n    <tr>\n      <th>15</th>\n      <td>unfortunately some times life imitates art</td>\n      <td>Airing during the Reagan era, this show eviden...</td>\n      <td>NaN</td>\n      <td>airing during reagan era this show evidences r...</td>\n      <td>0.523280</td>\n      <td>-0.022090</td>\n      <td>Negative</td>\n    </tr>\n    <tr>\n      <th>16</th>\n      <td>hoaky but fun</td>\n      <td>21 Jump Street was a show where it showed cops...</td>\n      <td>NaN</td>\n      <td>21 jump street was show where it showed cops a...</td>\n      <td>0.579630</td>\n      <td>0.257407</td>\n      <td>Positive</td>\n    </tr>\n    <tr>\n      <th>17</th>\n      <td>21 jump street</td>\n      <td>This is the best non-Danish television series ...</td>\n      <td>9.0</td>\n      <td>this is best non danish television series ive ...</td>\n      <td>0.292857</td>\n      <td>0.292857</td>\n      <td>Positive</td>\n    </tr>\n    <tr>\n      <th>18</th>\n      <td>dvd release is total rip off</td>\n      <td>Like most people of my generation, I LOVED 21 ...</td>\n      <td>NaN</td>\n      <td>like most people my generation i loved 21 jump...</td>\n      <td>0.652130</td>\n      <td>-0.026667</td>\n      <td>Negative</td>\n    </tr>\n    <tr>\n      <th>19</th>\n      <td>still good show</td>\n      <td>My friends continue to make fun of me for abso...</td>\n      <td>NaN</td>\n      <td>my friends continue make fun me absolutely lov...</td>\n      <td>0.542911</td>\n      <td>0.247944</td>\n      <td>Positive</td>\n    </tr>\n    <tr>\n      <th>20</th>\n      <td>before there was 90210 there was jump street</td>\n      <td>Oh, I hated Johnny Depp for years because of t...</td>\n      <td>NaN</td>\n      <td>oh i hated johnny depp years because this show...</td>\n      <td>0.461631</td>\n      <td>0.075504</td>\n      <td>Positive</td>\n    </tr>\n    <tr>\n      <th>21</th>\n      <td>great tv show</td>\n      <td>The cast and storyline was amazing. Johnny Dep...</td>\n      <td>10.0</td>\n      <td>cast storyline was amazing johnny depp stole s...</td>\n      <td>0.612500</td>\n      <td>0.445833</td>\n      <td>Positive</td>\n    </tr>\n    <tr>\n      <th>22</th>\n      <td>21 jump street is one best show that was ever ...</td>\n      <td>21 jump street is the best TV series ever made...</td>\n      <td>10.0</td>\n      <td>21 jump street is best tv series ever madeed 2...</td>\n      <td>0.378498</td>\n      <td>0.390392</td>\n      <td>Positive</td>\n    </tr>\n    <tr>\n      <th>23</th>\n      <td>instantly forgettable were it not johnny depp ...</td>\n      <td>'21 Jumpstreet' only escaped being totally for...</td>\n      <td>2.0</td>\n      <td>21 jumpstreet only escaped being totally forgo...</td>\n      <td>0.532523</td>\n      <td>-0.035270</td>\n      <td>Negative</td>\n    </tr>\n    <tr>\n      <th>24</th>\n      <td>not one my favourite series</td>\n      <td>Not one of my favourite series. I only watch 2...</td>\n      <td>5.0</td>\n      <td>not one my favourite series i only watch 21 ju...</td>\n      <td>0.391667</td>\n      <td>0.007456</td>\n      <td>Positive</td>\n    </tr>\n  </tbody>\n</table>\n</div>"
     },
     "execution_count": 19,
     "metadata": {},
     "output_type": "execute_result"
    }
   ],
   "source": [
    "df['Review Title'] = df['Review Title'].apply(clean_text)\n",
    "df['Clean_Review'] = df['Review'].apply(clean_text)\n",
    "df['Subjectivity'] = (df['Review Title'] + df['Clean_Review']).apply(get_subjectivity)\n",
    "df['Polarity'] = (df['Review Title'] + df['Clean_Review']).apply(get_polarity)\n",
    "df['Sentiment'] = df['Polarity'].apply(get_sentiment)\n",
    "df"
   ],
   "metadata": {
    "collapsed": false,
    "pycharm": {
     "name": "#%%\n"
    }
   }
  },
  {
   "cell_type": "code",
   "execution_count": 20,
   "outputs": [
    {
     "data": {
      "text/plain": "'Positive'"
     },
     "execution_count": 20,
     "metadata": {},
     "output_type": "execute_result"
    }
   ],
   "source": [
    "df['Sentiment'].mode()[0]"
   ],
   "metadata": {
    "collapsed": false,
    "pycharm": {
     "name": "#%%\n"
    }
   }
  },
  {
   "cell_type": "code",
   "execution_count": 21,
   "outputs": [
    {
     "data": {
      "text/plain": "Positive    22\nNegative     3\nName: Sentiment, dtype: int64"
     },
     "execution_count": 21,
     "metadata": {},
     "output_type": "execute_result"
    }
   ],
   "source": [
    "df['Sentiment'].value_counts()"
   ],
   "metadata": {
    "collapsed": false,
    "pycharm": {
     "name": "#%%\n"
    }
   }
  },
  {
   "cell_type": "code",
   "execution_count": 22,
   "outputs": [
    {
     "data": {
      "text/plain": "<AxesSubplot:xlabel='Sentiment', ylabel='count'>"
     },
     "execution_count": 22,
     "metadata": {},
     "output_type": "execute_result"
    },
    {
     "data": {
      "text/plain": "<Figure size 432x288 with 1 Axes>",
      "image/png": "[encoded data removed]"
     },
     "metadata": {},
     "output_type": "display_data"
    }
   ],
   "source": [
    "sns.countplot(x='Sentiment', data=df)"
   ],
   "metadata": {
    "collapsed": false,
    "pycharm": {
     "name": "#%%\n"
    }
   }
  },
  {
   "cell_type": "markdown",
   "source": [
    "### Text Cleaning\n",
    "- Remove noise\n",
    "    - stopwords\n",
    "    - special characters\n",
    "    - punctuations\n",
    "    - emojis"
   ],
   "metadata": {
    "collapsed": false,
    "pycharm": {
     "name": "#%% md\n"
    }
   }
  },
  {
   "cell_type": "code",
   "execution_count": 23,
   "outputs": [
    {
     "data": {
      "text/plain": "['__add__',\n '__class__',\n '__contains__',\n '__delattr__',\n '__dir__',\n '__doc__',\n '__eq__',\n '__format__',\n '__ge__',\n '__getattribute__',\n '__getitem__',\n '__getnewargs__',\n '__gt__',\n '__hash__',\n '__init__',\n '__init_subclass__',\n '__iter__',\n '__le__',\n '__len__',\n '__lt__',\n '__mod__',\n '__mul__',\n '__ne__',\n '__new__',\n '__reduce__',\n '__reduce_ex__',\n '__repr__',\n '__rmod__',\n '__rmul__',\n '__setattr__',\n '__sizeof__',\n '__str__',\n '__subclasshook__',\n 'capitalize',\n 'casefold',\n 'center',\n 'count',\n 'encode',\n 'endswith',\n 'expandtabs',\n 'find',\n 'format',\n 'format_map',\n 'index',\n 'isalnum',\n 'isalpha',\n 'isascii',\n 'isdecimal',\n 'isdigit',\n 'isidentifier',\n 'islower',\n 'isnumeric',\n 'isprintable',\n 'isspace',\n 'istitle',\n 'isupper',\n 'join',\n 'ljust',\n 'lower',\n 'lstrip',\n 'maketrans',\n 'partition',\n 'replace',\n 'rfind',\n 'rindex',\n 'rjust',\n 'rpartition',\n 'rsplit',\n 'rstrip',\n 'split',\n 'splitlines',\n 'startswith',\n 'strip',\n 'swapcase',\n 'title',\n 'translate',\n 'upper',\n 'zfill']"
     },
     "execution_count": 23,
     "metadata": {},
     "output_type": "execute_result"
    }
   ],
   "source": [
    "dir('nfx')"
   ],
   "metadata": {
    "collapsed": false,
    "pycharm": {
     "name": "#%%\n"
    }
   }
  },
  {
   "cell_type": "code",
   "execution_count": 24,
   "outputs": [
    {
     "data": {
      "text/plain": "'this was one first fox hour long dramas fox definitely wore its heart its sleeve like wb now fox wanted lure teenage audience with its good looking young stars luckily those stars 21 jump street was rather good vehicle stood its own merits kind like mod squad 80s teens 21 jump street were cops hip cops they would infiltrate schools drug rings gangs wherever teenagers were trouble unlike mod squad though storylines were always passable quite often excellent almost every episode touched upon subjects that were taboo big 3 networks still are aids statutory rape drug use abortion child abuse presented it moralistic way but without being maudlin show kind faltered its last few seasons johnny depp was becoming star execs started pushing other stars into spotlight hoping cash rewards spin offs richard greico was most heavily promoted audience that didnt really care he became teen age heartthrob while but never achieved momentum carry his career skyward with this pushing stars storylines took back seat character preening end result was faltering ratings cancellation until it became actors showcase though 21 jump street was probably best drama tv'"
     },
     "execution_count": 24,
     "metadata": {},
     "output_type": "execute_result"
    }
   ],
   "source": [
    "df['Clean_Review'][0]"
   ],
   "metadata": {
    "collapsed": false,
    "pycharm": {
     "name": "#%%\n"
    }
   }
  },
  {
   "cell_type": "code",
   "execution_count": 25,
   "outputs": [
    {
     "name": "stdout",
     "output_type": "stream",
     "text": [
      "this was one first fox hour long dramas fox definitely wore its heart its sleeve like wb now fox wanted lure teenage audience with its good looking young stars luckily those stars 21 jump street was rather good vehicle stood its own merits kind like mod squad 80s teens 21 jump street were cops hip cops they would infiltrate schools drug rings gangs wherever teenagers were trouble unlike mod squad though storylines were always passable quite often excellent almost every episode touched upon subjects that were taboo big 3 networks still are aids statutory rape drug use abortion child abuse presented it moralistic way but without being maudlin show kind faltered its last few seasons johnny depp was becoming star execs started pushing other stars into spotlight hoping cash rewards spin offs richard greico was most heavily promoted audience that didnt really care he became teen age heartthrob while but never achieved momentum carry his career skyward with this pushing stars storylines took back seat character preening end result was faltering ratings cancellation until it became actors showcase though 21 jump street was probably best drama tv \n",
      "\n",
      "this was definitely quality show this show was far cry what fox network eventually became many scripts dealt with what young people go through day day basis used cop show show it issues like date rape drugs teen suicide school violence incest were all covered first two years this show when jump street premiered it was shot heard round world due fact that it was very first show air fox network which at time was only being broadcast sunday nights it ushered whole new era television also johnny depp wasnt only good thing about this show peter deluise holly robinson peete dustin nguyen all made this show one cult classics 1980s \n",
      "\n",
      "it took another 20 years another generation before we were ready another cop show with young people as undercover cops dealing with crime other social issues but where mod squad left off sixties 21 jump street took ball ran with it eighties personally i think 21 jump street was much better show it certainly had at least one cast member who became mega star johnny depp when depp left show it sputtered while but ultimately died when other regulars left as well i might not agree with all johnny depps opinions but i certainly have enormous respect his artistic vision he was good he was very good as officer tom hanson 21 jump street but he left at what turned out right time him before he was trapped as juvenile teen idol forever created one fantastic body work as one best players around he knew what he was capable back day rest us know it now too i was surprised that dustin nguyen didnt break out 21 jump street as well as big star he should have had great career as oriental leading man he had looks talent definitely martial arts skill way sixties handed off eighties person original captain jump street program frederic forrest he was one weird dude as hippie type captain real refugee tune turn drop out generation character didnt work so he was quickly dispatched steven williams came board as new captain more traditional police authority figure you can see lot future stars 21 jump street jason priestley brad pitt did episodes back day i liked stories very much series regulars were as human as flawed as some kids they were dealing with i wish it had lasted longer but maybe if johnny depp had stuck with it longer we might never have seen captain jack sparrow \n",
      "\n",
      "this was foxs first serious drama it was aimed at young audience 21 jump street had great cast including young johnny depp peter deluise holly robinson among cast members good writing innovative plot about young cops posing as high school students capture wide variety criminals school system show lasted few seasons fox without network infiltration like other major networks it lasted long enough leave its mark baby network now there are dozen shows like 21 jump street without cleverness strive be better than just average shows tv fact show was probably first american drama fox be filmed location vancouver british columbia canada cut costs beginning fox network lineup 21 jump street launched unique way looking at secondary schools with great cast it was never awarded emmy which it should have been even nominated best drama \n",
      "\n",
      "this television series held its own i remember waiting patiently next episode air when i was 13 loving every second it call it contrived superficial but i grew up with judy hoffs tom hansen doug penhall harry ioki adam fuller dennis booker i loved every second it johnny depp might renounce fact that he was ever connected with this show but it provided hours entertainment many individuals me it is reminder time my youth where i was completely innocent \n",
      "\n",
      "show really was mod squad 1980s kids that could not be taken seriously as cops but good captain there decided put them undercover as hs students though they were their early mid twenties there depp was show but that it suffered indeed when it left when other regulars leaving it would lead cancellation show was one very first shows land at fledging fox 1987 launch there did not shy away fron subjects day like drugs race crime etc \n",
      "\n",
      "i recently bought first season this show is still as good as anything television today if not better its been at least 10 years since i had seen episode so it was like watching show first time great theme song great actors terrific scripts if it wasnt some 1980s hair clothing this show could be airing prime time today without question its makes you want go back high school again walk halls with immunity because theres nothing that any gang or teacher can do you only problem is even after watching entire 1st season i have no idea what town show takes place oh well i truly hope that there are plans release rest seasons real soon \n",
      "\n",
      "this was top notch series that featured youthful looking police officers who would infiltrate high schools investigate crimes like drugs prostitution episodes were top notch well written timely watch i always enjoy watching them it was good concept if you get chance definitely watch some episodes it did wonders fox network johnny depps career out \n",
      "\n",
      "movie that came out was good but it couldnt hold candle this classic show that jump started johnny depps career i remember watching this it along with married with children jump started fox network as it featured youthful looking police officers infiltrating high schools order investigate crimes there drug dealing rape etc as well as other serious issues such as aids it was really good show anyone interested 80s tv ought give it look holly robinson peete reprised her role it channing tatum movie it involved good serious police work excellent ensemble performances check it out if you get chance out \n",
      "\n",
      "currently popular are recent jump street movies with channing tatum 21 jump street more recently 22 jump street i had never seen original 1980s tv series so i checked out two dvd set season one episodes very basic premise is same old church at 21 jump street is used as makeshift police headquarters sorts group 4 young looking 20 something cops who get assignments infiltrate high schools solve crimes typically some sort theft one episode two students auto mechanics class steal cars strip them overnight store parts put bare chassis back street later buy chassis small price re assemble cars sell it big profit with participation used car lot owner another someone is stealing calculators other electronic gear inside school after hours later 1st season episodes girl turns up dead raped officers have find students responsible there is murder it also then yet another episode student is working as prostitute helping home theft ring effort help her mother recover life drugs so not all it was minor stuff johnny depp is main star it is nice see him as normal 20 something long before he became quirky began speak somewhat affected way just light entertainment i enjoyed temporary throwback simpler time tv series isnt much like recent jump street movies \n",
      "\n",
      "great see that show has hit dvd format watched few episodes so far season 1 great show dont know why it was not reruns anywhere here canada noticed some over dubs some dialogue not sure if that was done back when show was fox or if it has been done when putting it dvd looks like some words are overdubbed could swear that ass was said originally but you get different word said watch actors mouth when dialogue seems bit louder briefly what gem though this show was always will be holly robinson is so sexy still is today i wonder what johnny depp thinks this being out now dvd he never liked doing show after 3rd season but stuck it out his contract duration would be nice hear his comments have him extra features too bad \n",
      "\n",
      "i remember this as shows that helped launch fox as network between this adventures beans baxter werewolf traci ullman simpsons i really enjoyed this show most its run last season with grieco did not leave me with too many fond memories but first several seasons i definitely made room my sunday lineup see this show most part stories were good i just wish there was someplace that showed re runs 21js with deluge cop shows nowadays i still think i could make time see 21js \n",
      "\n",
      "21 jump street is best cop show ever here it is 2002 still ive never enjoyed police tv program better team will always be my favorite tv show but 21 jump street is very close second i believe they were produced by same person stephen j cannell i wonder why team actors never made cameos steven williams dustin nguyen made appearances team oh well 21 jump street has never had equal police drama it should have been brought back regular tv i guess ill just have live with few episodes i have tape when i was child \n",
      "\n",
      "after seeing 2012 movie adaptation with jonah hill channing tatum i wanted go back watch series it was based during middle season 2 i lost interest set it aside until 2014 sequel 22 jump street came out so i decided pick up where i left off id say first 3 seasons are best season 5 is almost unwatchable it really goes downhill after johnny depp leaves i understand depp hated being show tried like crazy get kicked off it was cool that he peter deluise holly robinson returned movie cameos my eyes movie is sequel this series 25 years before schmidt jenko entered jump street there was tom hanson doug penhall judy hoffs h t ioki booker majority series they go undercover high school posing as students bust drug dealers rapists murderers other times they go undercover different places trying infiltrate gang or just trying protect themselves vengeful mobsters if you loved 2012 movie or early cop dramas you might enjoy 21 jump street complete series \n",
      "\n",
      "what groundbreaking show credit producers casting dustin nguyen mainstream role mainstream incredibly popular police drama i commend producers not making attempt whitewash harry iokis role looking at you people behind american series kung fu which should have featured bruce lee first three seasons were solid there was wonderful rapport amongst unit they looked out each other unfortunately direction got bit languid when dustin nguyen johnny depp no longer featured chemistry was missing something was lacking x factor i guess i was impressed with richard greicos appearance his spin off series booker was very underrated sadly it was shame officer dean garrett david barry gray officer kati rocky alexandra powers only appeared handful episodes as they had real potential \n",
      "\n",
      "airing during reagan era this show evidences reactionary politics that changed this country permanently much worse entering 1980s most americans were legitimately suspicious afraid their own government dating back repressive period viet nam war one main areas concern moderate liberals 1980s was abuse so called undercover operations by politically motivated police many which had unfairly targeted students left wing sympathies although 21 jump street didnt always betray its right wing bias openly it may have had effect propagandizing favor real world undercover operations aimed against youngsters kids make enemies all time which is usually harmless enough but what if that enemy is secretly working cops police like one portrayed by johnny depp should have wear badges \n",
      "\n",
      "21 jump street was show where it showed cops as attractive ultra hip stylish people time at which it came out was when cocaine heroin were really cool so this was kind like propaganda show where it had up side not doing drugs johnny depp peter deluise were always fast witted cool kids because they were drug free upholded law it usually seemed corny but something about it was fun always seeing them having fun while doing their jobs was so cool i can understand how johnny depp wanted quit because it didnt show lot things like police corruption or that it was completely unrealistic plots were contrived but with adequate directing campy script combined with good acting it was great show billy \n",
      "\n",
      "this is best non danish television series ive seen you know most people prefer their native tongue but i think they should have killed it when hanson depp left 1989 at age 11 i started learning english watching simpsons married with children 21 jump street sky one after all these years homer simpson al bundy course doug penhall are still my favorite tv personalities \n",
      "\n",
      "like most people my generation i loved 21 jump street like most girls my generation i loved bad boy johnny depp this one episode swallowed alive season 3 really stuck especially music are you sure by staple singers tunnel scene cant find my way home by steve winwood at very end anyway i had been waiting years dvd release years then it came i watched first season thinking wow so lame what heck is that electro crap music i just thought i had embellished show my memory that it just wasnt that good anyway well thats part true dialogs are sometimes so cheesy they make me want puke no wonder johnny depp couldnt wait get hell out this show i hadnt understood his move at time but now do i so search comfort i watched season 3 without bothering with season2 i watched swallowed alive aaaaaaaaaaaaaarrrrrrrrrrrrgggggggggggggghhhhhhhhhhhhhhhhhh totally ruined what have they done my episode even though i knew there wouldnt be original music because well none other episodes had their music i kinda hoped they would have replaced it with something that would keep spirit episode boy was i disappointed elevator music wouldnt have been worse so my box set made express ebay i am now 21 jump street free i was so looking forward jumping back my 15 year old skin well i guess that wont happen anytime soon you know what worst part is i had that episode tape some stupid family member taped over it life is so cruel \n",
      "\n",
      "my friends continue make fun me absolutely loving this show but i dont really care seeing episodes now 2002 only shows how fresh this show still is some these episodes could be aired today still be relevant have impact i definitely thought show was going bit downhill season 3 adding richard grieco cast did not help i liked neither him nor his character was happy see him gone overall i must say that second season was best with tightly written episodes strong characterization outstanding acting orpheus 3 3 springs mind as example truly breath taking acting johnny depps part well what more can i say that hasnt been said if you ever get chance check this show out heres hoping possible dvd release quality my tapes isnt what it used be i would hate lose my collection season 1 4 \n",
      "\n",
      "oh i hated johnny depp years because this show not that i watched it or knew who he was but he was this show it came at 7pm fox sundays it sucked why i dont know it just sucked boy did it suck so 1993 while working summer job podunk town i found it when i came home lunch one afternoon i wasnt sure what it was at first but i suspected it was that horrible pathetic show i figured id watch it nothing like seeing train wreck cheer you up bad day right but then i realized it was time go back work i couldnt go cos i had see full wreck then i realized i timed my lunch hour same time next day next you guessed it i liked show really i dont know why i hated show probably because like most people who are completely firm their negative opinions i had had no real exposure it i found after watching mind you that plots were decent actors passable excellent writing dialogue better than average depp peter deluise worked well together particulary when they worked as mcquaid brothers stephen williams became favorite actor mine with his portrayal captain fuller he was later x x files as much as they were used holly robinson particularly dustin nguyen were never used as well as they could have been but they were still good someone else mentioned that this because star vehicle after while despite amount future stars i tend disagree many these faces were being seen first time here no one could have guessed that theyd become famous brad pitt pauly shore sherilyn fenn jason priestly shannon doherty several others had fleeting guest spots show eventually went off do bigger things but there was also long list other actors show who went do very little or nothing at all another note heh that should be mentioned is that show was one first push lot popular music day soundtrack i remember one epsiode about awol military school student featured r e m s orange crush off just released green album i believe final johnny depp episode had oingo boingo song dark at end tunnel album dont knock boingo lead singer composer danny elfman has been respected film composer over 15 years now i believe soundtrack was released but i dont think many good songs were released it as show went it became little unbelievable that they could keep hitting same schools without students catching or talking each other rat out undercover officers writing got really bad some episodes depp seemed be giving bad performances just so he could get out his contract they allowed him skip several episodes completely or limited his appearances others as result after he left show went fox into general syndication last season more more shows were throwaways cast guest stars suffered as well with robinson left carry show almost by herself peter deluise guested handful early episodes while brother michael ended up about half all all last season is disappointing apart sparse handful ok episodes like others id love see these dvd but i really dont expect it it was great show while but when you lose good producers writers even best actors are going have tough time with working something out \n",
      "\n",
      "cast storyline was amazing johnny depp stole show his chemistry with other cast was amazing watch mcquaid brothers when johnny went uncover with that gang was great once johnny left show did go downhill \n",
      "\n",
      "21 jump street is best tv series ever madeed 21 jump street tells story undercover cops who go inti high schools as students this is one best series ever made best soundtrack best actors i really love this show i still do i follow this show when i was twelve years old i steel best show i know that was more cop series made creator stephen j cannell but this is best cop show ever made first 4 seasons were best except season 5 sucks ruined show because johnny depp dustin nguyen left show thats not all later show i founded that peter deluise left show less then 10 episodes i can only say that 4 season 21 jump street are best season 1 too season 4 my favorite episodes are season 1 pilot america what town my futures so bright i gotta wear shades worst night your life gotta finish riff is one best episodes season 1 were gang students take high school students as hostages is one best episodes ever made is first appearance steven williams as capt adam fuller bad influence blindsided 16 blown 35 this are best good episodes season 2 coustody clown besiged 1 2 two road after school special higher education is one best episode were was ioki accused pregnant teenage girl he didnt do hounor bound you ought be prison return waxer first episode christmas saigon were tels life story ioki were he come its all so best episode fear loathing with russell buckins were penhall hanson soupiest go academy back after hanson scurried case big disease with little name chapel love im ok you need work introducing christina applegate orpheus 3 3 were tels story henson who cant not forget his girlfriend after she was shoot is one best episode best years your life tels story penhall with suicide problem student who did suicide schools out season 3 fun with animals were hanson get his new partner slippininto darkness currency we trade were penhal made mistake try fix his problem were he was not by jump street anymore coach year dragon angel swallowed alive what about love woolly bullies dread ruturn russell buckins nemesis blinded by thousand points light were team go streets as homeless is one best episode third season locd out 1 2 were is hanson accused murder another police officer he did not do ioki is shoot season 4 draw line say it aint so pete is best episode season 4 story problem student with gamble problems eternal flame god is bullet old haunts new age out control stand by your man mike s p o w is one best episode wheels deals 2 return booker thing we said today is one best episode were ioki has face his past 3 years early were were some kid turn his parents police drop out high school run away later hi face with ioki i rely like this episode is one best episode research destroy back future were episode show what happened last 3 years 2245 its good episode but i dont know what it is this title awomp bomp aloobomb aloop bamboom la bizca how i saved senator blackout this are best episodes 21 jump street when you dont liked this episodes than you are not really fan 21 jump street igot nothing too say about season 5 except that season 5 ruined show with out johnny depp dustin nugyen peter deluise sal janco richard grieco this show sucks because they were stars this show only holly robinson steven williams are only actors that they stay show i just say one thing stay with first 4 seasons you liked \n",
      "\n",
      "21 jumpstreet only escaped being totally forgotten by television viewers because its early star johnny depp would go gain such widespread cinematic notoriety otherwise exaggerated after school special styled cop drama would be completely dismissed as incredibly cheesy ridiculous granted series which follows jump street program managed by one police captain four baby faced detectives who occasionally go undercover at high schools such investigate latest teenagers gone wild did bring attention pressing issues drug use teen pregnancy school violence racism other topics that dont even get ounce attention todays television programs geared toward young viewers but it did so such way that almost mirrored late 1970s early 1980s dramas like class 1984 which featured completely out control urban teens raising hell much confusion chagrin various adult authority who just assume wipe them out completely order avoid wasting time trying get them stop their craziness it is hard watch jumpstreet reruns take much any it seriously dialog was bad enough but situations themselves are written with such absurdity second season episode after school special student shoots teacher hoffs police captain both go undercover investigate gun dealers at school we find out that pretty much every student is packing heat lots teachers are or soon intend be as well as if this werent stupid enough gang seems take measures lightly considering amount arms floating around campus series became as dated cheesy as lot other cautionary television shows similar it highway heaven is one that comes mind especially at beginning second season unfortunately it was hard take seriously any youth centered issues it had hoped address leaving it only valuable as source nostalgia there were lot familiar faces guest starring roles almost as many mullets \n",
      "\n",
      "not one my favourite series i only watch 21 jump street few times predictable story lines clische type characters cop genre over acting scenes with added drama geared female audience depp became big part show hard believe depp started out few year earlier with nightmare elm street howerer there where some bright spots with characters scenes john debt has few charismatic moments few strong episodes left viewer moved 21 jump street had many forgettable 1980s cop style episode action films began die late 80s genre became dated i gave 21 jump street 5 out 10 \n",
      "\n"
     ]
    }
   ],
   "source": [
    "for i in range(0, df.shape[0]):\n",
    "    print(df['Clean_Review'][i], '\\n')"
   ],
   "metadata": {
    "collapsed": false,
    "pycharm": {
     "name": "#%%\n"
    }
   }
  },
  {
   "cell_type": "code",
   "execution_count": 26,
   "outputs": [
    {
     "data": {
      "text/plain": "                                         Review Title  \\\n0   launching pad teen stars one better early fox ...   \n1                                       mod squad 80s   \n2                                  mod squad eighties   \n3                                    jump jump street   \n4                                            reminder   \n5         show that launched johnny depp into stardom   \n6                                  one best shows 80s   \n7                                    excellent series   \n8                                            terrific   \n9   typical 1980s tv series it gave johnny depp hi...   \n10                                 great cop show 80s   \n11                                     fun shows past   \n12                                      21 jumpstreet   \n13  entertaining cop drama that plays like after s...   \n14  after johnny depp dustin nguyen left it wasnt ...   \n15         unfortunately some times life imitates art   \n16                                      hoaky but fun   \n17                                     21 jump street   \n18                       dvd release is total rip off   \n19                                    still good show   \n20       before there was 90210 there was jump street   \n21                                      great tv show   \n22  21 jump street is one best show that was ever ...   \n23  instantly forgettable were it not johnny depp ...   \n24                        not one my favourite series   \n\n                                               Review  Rating  \\\n0   This was one of the first Fox hour-long dramas...     NaN   \n1   This was definitely a quality show. This show ...     NaN   \n2   It took another 20 years, another generation, ...     8.0   \n3   This was Fox's first serious drama. It was aim...     8.0   \n4   This television series held its own. I remembe...     NaN   \n5   The show really was the Mod Squad of the 1980'...     8.0   \n6   I recently bought the first season and this sh...     NaN   \n7   This was a top notch series that featured yout...     9.0   \n8   The movie that came out was good, but it could...     9.0   \n9   Currently popular are the recent jump street m...     NaN   \n10  Great to see that the show has hit the DVD for...     NaN   \n11  I remember this as on of the shows that helped...     NaN   \n12  21 Jump Street is the best cop show ever. Here...     NaN   \n13  After seeing the 2012 movie adaptation with Jo...     7.0   \n14  What a groundbreaking show! Credit to the prod...     9.0   \n15  Airing during the Reagan era, this show eviden...     NaN   \n16  21 Jump Street was a show where it showed cops...     NaN   \n17  This is the best non-Danish television series ...     9.0   \n18  Like most people of my generation, I LOVED 21 ...     NaN   \n19  My friends continue to make fun of me for abso...     NaN   \n20  Oh, I hated Johnny Depp for years because of t...     NaN   \n21  The cast and storyline was amazing. Johnny Dep...    10.0   \n22  21 jump street is the best TV series ever made...    10.0   \n23  '21 Jumpstreet' only escaped being totally for...     2.0   \n24  Not one of my favourite series. I only watch 2...     5.0   \n\n                                         Clean_Review  Subjectivity  Polarity  \\\n0   this was one first fox hour long dramas fox de...      0.422701  0.250287   \n1   this was definitely quality show this show was...      0.519747  0.145758   \n2   it took another 20 years another generation be...      0.419887  0.147732   \n3   this was foxs first serious drama it was aimed...      0.456181  0.184965   \n4   this television series held its own i remember...      0.522222  0.266667   \n5   show really was mod squad 1980s kids that coul...      0.347500  0.131667   \n6   i recently bought first season this show is st...      0.512111  0.240667   \n7   this was top notch series that featured youthf...      0.591429  0.465714   \n8   movie that came out was good but it couldnt ho...      0.538750  0.261250   \n9   currently popular are recent jump street movie...      0.391745  0.096667   \n10  great see that show has hit dvd format watched...      0.582593  0.115000   \n11  i remember this as shows that helped launch fo...      0.390000  0.325000   \n12  21 jump street is best cop show ever here it i...      0.373225  0.106643   \n13  after seeing 2012 movie adaptation with jonah ...      0.429314  0.125588   \n14  what groundbreaking show credit producers cast...      0.583889  0.088333   \n15  airing during reagan era this show evidences r...      0.523280 -0.022090   \n16  21 jump street was show where it showed cops a...      0.579630  0.257407   \n17  this is best non danish television series ive ...      0.292857  0.292857   \n18  like most people my generation i loved 21 jump...      0.652130 -0.026667   \n19  my friends continue make fun me absolutely lov...      0.542911  0.247944   \n20  oh i hated johnny depp years because this show...      0.461631  0.075504   \n21  cast storyline was amazing johnny depp stole s...      0.612500  0.445833   \n22  21 jump street is best tv series ever madeed 2...      0.378498  0.390392   \n23  21 jumpstreet only escaped being totally forgo...      0.532523 -0.035270   \n24  not one my favourite series i only watch 21 ju...      0.391667  0.007456   \n\n   Sentiment  \n0   Positive  \n1   Positive  \n2   Positive  \n3   Positive  \n4   Positive  \n5   Positive  \n6   Positive  \n7   Positive  \n8   Positive  \n9   Positive  \n10  Positive  \n11  Positive  \n12  Positive  \n13  Positive  \n14  Positive  \n15  Negative  \n16  Positive  \n17  Positive  \n18  Negative  \n19  Positive  \n20  Positive  \n21  Positive  \n22  Positive  \n23  Negative  \n24  Positive  ",
      "text/html": "<div>\n<style scoped>\n    .dataframe tbody tr th:only-of-type {\n        vertical-align: middle;\n    }\n\n    .dataframe tbody tr th {\n        vertical-align: top;\n    }\n\n    .dataframe thead th {\n        text-align: right;\n    }\n</style>\n<table border=\"1\" class=\"dataframe\">\n  <thead>\n    <tr style=\"text-align: right;\">\n      <th></th>\n      <th>Review Title</th>\n      <th>Review</th>\n      <th>Rating</th>\n      <th>Clean_Review</th>\n      <th>Subjectivity</th>\n      <th>Polarity</th>\n      <th>Sentiment</th>\n    </tr>\n  </thead>\n  <tbody>\n    <tr>\n      <th>0</th>\n      <td>launching pad teen stars one better early fox ...</td>\n      <td>This was one of the first Fox hour-long dramas...</td>\n      <td>NaN</td>\n      <td>this was one first fox hour long dramas fox de...</td>\n      <td>0.422701</td>\n      <td>0.250287</td>\n      <td>Positive</td>\n    </tr>\n    <tr>\n      <th>1</th>\n      <td>mod squad 80s</td>\n      <td>This was definitely a quality show. This show ...</td>\n      <td>NaN</td>\n      <td>this was definitely quality show this show was...</td>\n      <td>0.519747</td>\n      <td>0.145758</td>\n      <td>Positive</td>\n    </tr>\n    <tr>\n      <th>2</th>\n      <td>mod squad eighties</td>\n      <td>It took another 20 years, another generation, ...</td>\n      <td>8.0</td>\n      <td>it took another 20 years another generation be...</td>\n      <td>0.419887</td>\n      <td>0.147732</td>\n      <td>Positive</td>\n    </tr>\n    <tr>\n      <th>3</th>\n      <td>jump jump street</td>\n      <td>This was Fox's first serious drama. It was aim...</td>\n      <td>8.0</td>\n      <td>this was foxs first serious drama it was aimed...</td>\n      <td>0.456181</td>\n      <td>0.184965</td>\n      <td>Positive</td>\n    </tr>\n    <tr>\n      <th>4</th>\n      <td>reminder</td>\n      <td>This television series held its own. I remembe...</td>\n      <td>NaN</td>\n      <td>this television series held its own i remember...</td>\n      <td>0.522222</td>\n      <td>0.266667</td>\n      <td>Positive</td>\n    </tr>\n    <tr>\n      <th>5</th>\n      <td>show that launched johnny depp into stardom</td>\n      <td>The show really was the Mod Squad of the 1980'...</td>\n      <td>8.0</td>\n      <td>show really was mod squad 1980s kids that coul...</td>\n      <td>0.347500</td>\n      <td>0.131667</td>\n      <td>Positive</td>\n    </tr>\n    <tr>\n      <th>6</th>\n      <td>one best shows 80s</td>\n      <td>I recently bought the first season and this sh...</td>\n      <td>NaN</td>\n      <td>i recently bought first season this show is st...</td>\n      <td>0.512111</td>\n      <td>0.240667</td>\n      <td>Positive</td>\n    </tr>\n    <tr>\n      <th>7</th>\n      <td>excellent series</td>\n      <td>This was a top notch series that featured yout...</td>\n      <td>9.0</td>\n      <td>this was top notch series that featured youthf...</td>\n      <td>0.591429</td>\n      <td>0.465714</td>\n      <td>Positive</td>\n    </tr>\n    <tr>\n      <th>8</th>\n      <td>terrific</td>\n      <td>The movie that came out was good, but it could...</td>\n      <td>9.0</td>\n      <td>movie that came out was good but it couldnt ho...</td>\n      <td>0.538750</td>\n      <td>0.261250</td>\n      <td>Positive</td>\n    </tr>\n    <tr>\n      <th>9</th>\n      <td>typical 1980s tv series it gave johnny depp hi...</td>\n      <td>Currently popular are the recent jump street m...</td>\n      <td>NaN</td>\n      <td>currently popular are recent jump street movie...</td>\n      <td>0.391745</td>\n      <td>0.096667</td>\n      <td>Positive</td>\n    </tr>\n    <tr>\n      <th>10</th>\n      <td>great cop show 80s</td>\n      <td>Great to see that the show has hit the DVD for...</td>\n      <td>NaN</td>\n      <td>great see that show has hit dvd format watched...</td>\n      <td>0.582593</td>\n      <td>0.115000</td>\n      <td>Positive</td>\n    </tr>\n    <tr>\n      <th>11</th>\n      <td>fun shows past</td>\n      <td>I remember this as on of the shows that helped...</td>\n      <td>NaN</td>\n      <td>i remember this as shows that helped launch fo...</td>\n      <td>0.390000</td>\n      <td>0.325000</td>\n      <td>Positive</td>\n    </tr>\n    <tr>\n      <th>12</th>\n      <td>21 jumpstreet</td>\n      <td>21 Jump Street is the best cop show ever. Here...</td>\n      <td>NaN</td>\n      <td>21 jump street is best cop show ever here it i...</td>\n      <td>0.373225</td>\n      <td>0.106643</td>\n      <td>Positive</td>\n    </tr>\n    <tr>\n      <th>13</th>\n      <td>entertaining cop drama that plays like after s...</td>\n      <td>After seeing the 2012 movie adaptation with Jo...</td>\n      <td>7.0</td>\n      <td>after seeing 2012 movie adaptation with jonah ...</td>\n      <td>0.429314</td>\n      <td>0.125588</td>\n      <td>Positive</td>\n    </tr>\n    <tr>\n      <th>14</th>\n      <td>after johnny depp dustin nguyen left it wasnt ...</td>\n      <td>What a groundbreaking show! Credit to the prod...</td>\n      <td>9.0</td>\n      <td>what groundbreaking show credit producers cast...</td>\n      <td>0.583889</td>\n      <td>0.088333</td>\n      <td>Positive</td>\n    </tr>\n    <tr>\n      <th>15</th>\n      <td>unfortunately some times life imitates art</td>\n      <td>Airing during the Reagan era, this show eviden...</td>\n      <td>NaN</td>\n      <td>airing during reagan era this show evidences r...</td>\n      <td>0.523280</td>\n      <td>-0.022090</td>\n      <td>Negative</td>\n    </tr>\n    <tr>\n      <th>16</th>\n      <td>hoaky but fun</td>\n      <td>21 Jump Street was a show where it showed cops...</td>\n      <td>NaN</td>\n      <td>21 jump street was show where it showed cops a...</td>\n      <td>0.579630</td>\n      <td>0.257407</td>\n      <td>Positive</td>\n    </tr>\n    <tr>\n      <th>17</th>\n      <td>21 jump street</td>\n      <td>This is the best non-Danish television series ...</td>\n      <td>9.0</td>\n      <td>this is best non danish television series ive ...</td>\n      <td>0.292857</td>\n      <td>0.292857</td>\n      <td>Positive</td>\n    </tr>\n    <tr>\n      <th>18</th>\n      <td>dvd release is total rip off</td>\n      <td>Like most people of my generation, I LOVED 21 ...</td>\n      <td>NaN</td>\n      <td>like most people my generation i loved 21 jump...</td>\n      <td>0.652130</td>\n      <td>-0.026667</td>\n      <td>Negative</td>\n    </tr>\n    <tr>\n      <th>19</th>\n      <td>still good show</td>\n      <td>My friends continue to make fun of me for abso...</td>\n      <td>NaN</td>\n      <td>my friends continue make fun me absolutely lov...</td>\n      <td>0.542911</td>\n      <td>0.247944</td>\n      <td>Positive</td>\n    </tr>\n    <tr>\n      <th>20</th>\n      <td>before there was 90210 there was jump street</td>\n      <td>Oh, I hated Johnny Depp for years because of t...</td>\n      <td>NaN</td>\n      <td>oh i hated johnny depp years because this show...</td>\n      <td>0.461631</td>\n      <td>0.075504</td>\n      <td>Positive</td>\n    </tr>\n    <tr>\n      <th>21</th>\n      <td>great tv show</td>\n      <td>The cast and storyline was amazing. Johnny Dep...</td>\n      <td>10.0</td>\n      <td>cast storyline was amazing johnny depp stole s...</td>\n      <td>0.612500</td>\n      <td>0.445833</td>\n      <td>Positive</td>\n    </tr>\n    <tr>\n      <th>22</th>\n      <td>21 jump street is one best show that was ever ...</td>\n      <td>21 jump street is the best TV series ever made...</td>\n      <td>10.0</td>\n      <td>21 jump street is best tv series ever madeed 2...</td>\n      <td>0.378498</td>\n      <td>0.390392</td>\n      <td>Positive</td>\n    </tr>\n    <tr>\n      <th>23</th>\n      <td>instantly forgettable were it not johnny depp ...</td>\n      <td>'21 Jumpstreet' only escaped being totally for...</td>\n      <td>2.0</td>\n      <td>21 jumpstreet only escaped being totally forgo...</td>\n      <td>0.532523</td>\n      <td>-0.035270</td>\n      <td>Negative</td>\n    </tr>\n    <tr>\n      <th>24</th>\n      <td>not one my favourite series</td>\n      <td>Not one of my favourite series. I only watch 2...</td>\n      <td>5.0</td>\n      <td>not one my favourite series i only watch 21 ju...</td>\n      <td>0.391667</td>\n      <td>0.007456</td>\n      <td>Positive</td>\n    </tr>\n  </tbody>\n</table>\n</div>"
     },
     "execution_count": 26,
     "metadata": {},
     "output_type": "execute_result"
    }
   ],
   "source": [
    "df"
   ],
   "metadata": {
    "collapsed": false,
    "pycharm": {
     "name": "#%%\n"
    }
   }
  },
  {
   "cell_type": "code",
   "execution_count": 27,
   "outputs": [
    {
     "name": "stderr",
     "output_type": "stream",
     "text": [
      "[nltk_data] Error loading stopwords: <urlopen error [SSL:\n",
      "[nltk_data]     CERTIFICATE_VERIFY_FAILED] certificate verify failed:\n",
      "[nltk_data]     unable to get local issuer certificate (_ssl.c:1076)>\n",
      "[nltk_data] Error loading punkt: <urlopen error [SSL:\n",
      "[nltk_data]     CERTIFICATE_VERIFY_FAILED] certificate verify failed:\n",
      "[nltk_data]     unable to get local issuer certificate (_ssl.c:1076)>\n",
      "[nltk_data] Error loading wordnet: <urlopen error [SSL:\n",
      "[nltk_data]     CERTIFICATE_VERIFY_FAILED] certificate verify failed:\n",
      "[nltk_data]     unable to get local issuer certificate (_ssl.c:1076)>\n"
     ]
    }
   ],
   "source": [
    "import nltk\n",
    "import text2emotion as te"
   ],
   "metadata": {
    "collapsed": false,
    "pycharm": {
     "name": "#%%\n"
    }
   }
  },
  {
   "cell_type": "code",
   "execution_count": 28,
   "outputs": [
    {
     "data": {
      "text/plain": "25"
     },
     "execution_count": 28,
     "metadata": {},
     "output_type": "execute_result"
    }
   ],
   "source": [
    "df.shape[0]"
   ],
   "metadata": {
    "collapsed": false,
    "pycharm": {
     "name": "#%%\n"
    }
   }
  },
  {
   "cell_type": "markdown",
   "source": [
    "import nltk\n",
    "import ssl\n",
    "\n",
    "try:\n",
    "    _create_unverified_https_context = ssl._create_unverified_context\n",
    "except AttributeError:\n",
    "    pass\n",
    "else:\n",
    "    ssl._create_default_https_context = _create_unverified_https_context\n",
    "\n",
    "nltk.download()"
   ],
   "metadata": {
    "collapsed": false,
    "pycharm": {
     "name": "#%% md\n"
    }
   }
  },
  {
   "cell_type": "markdown",
   "source": [
    "# sorted emo_scale\n",
    "df_emo = pd.Series()\n",
    "for i in range(df.shape[0]):\n",
    "    emo_scale = te.get_emotion(df['Review Title'][i] + df['Clean_Review'][i])\n",
    "    emo_scale_sort = {k: v for k, v in sorted(emo_scale.items(), key=lambda item: item[1], reverse=True)}\n",
    "    df_emo.loc[i] = emo_scale_sort\n",
    "\n",
    "df['Emotion Scale'] = df_emo\n",
    "df.head()"
   ],
   "metadata": {
    "collapsed": false,
    "pycharm": {
     "name": "#%% md\n"
    }
   }
  },
  {
   "cell_type": "code",
   "execution_count": 29,
   "outputs": [],
   "source": [
    "df['Emotion Scale'] = (df['Review Title'] + df['Clean_Review']).apply(te.get_emotion)"
   ],
   "metadata": {
    "collapsed": false,
    "pycharm": {
     "name": "#%%\n"
    }
   }
  },
  {
   "cell_type": "code",
   "execution_count": 30,
   "outputs": [
    {
     "data": {
      "text/plain": "0     {'Happy': 0.15, 'Angry': 0.09, 'Surprise': 0.1...\n1     {'Happy': 0.17, 'Angry': 0.06, 'Surprise': 0.2...\n2     {'Happy': 0.17, 'Angry': 0.07, 'Surprise': 0.3...\n3     {'Happy': 0.12, 'Angry': 0.0, 'Surprise': 0.3,...\n4     {'Happy': 0.22, 'Angry': 0.11, 'Surprise': 0.2...\n5     {'Happy': 0.2, 'Angry': 0.07, 'Surprise': 0.2,...\n6     {'Happy': 0.13, 'Angry': 0.0, 'Surprise': 0.39...\n7     {'Happy': 0.19, 'Angry': 0.0, 'Surprise': 0.29...\n8     {'Happy': 0.26, 'Angry': 0.0, 'Surprise': 0.26...\n9     {'Happy': 0.04, 'Angry': 0.02, 'Surprise': 0.3...\n10    {'Happy': 0.11, 'Angry': 0.15, 'Surprise': 0.2...\n11    {'Happy': 0.2, 'Angry': 0.0, 'Surprise': 0.33,...\n12    {'Happy': 0.16, 'Angry': 0.0, 'Surprise': 0.42...\n13    {'Happy': 0.16, 'Angry': 0.03, 'Surprise': 0.3...\n14    {'Happy': 0.12, 'Angry': 0.04, 'Surprise': 0.2...\n15    {'Happy': 0.08, 'Angry': 0.0, 'Surprise': 0.08...\n16    {'Happy': 0.44, 'Angry': 0.0, 'Surprise': 0.24...\n17    {'Happy': 0.17, 'Angry': 0.08, 'Surprise': 0.5...\n18    {'Happy': 0.07, 'Angry': 0.02, 'Surprise': 0.3...\n19    {'Happy': 0.19, 'Angry': 0.06, 'Surprise': 0.3...\n20    {'Happy': 0.15, 'Angry': 0.03, 'Surprise': 0.2...\n21    {'Happy': 0.22, 'Angry': 0.0, 'Surprise': 0.56...\n22    {'Happy': 0.07, 'Angry': 0.05, 'Surprise': 0.4...\n23    {'Happy': 0.02, 'Angry': 0.16, 'Surprise': 0.1...\n24    {'Happy': 0.15, 'Angry': 0.04, 'Surprise': 0.1...\nName: Emotion Scale, dtype: object"
     },
     "execution_count": 30,
     "metadata": {},
     "output_type": "execute_result"
    }
   ],
   "source": [
    "df['Emotion Scale']"
   ],
   "metadata": {
    "collapsed": false,
    "pycharm": {
     "name": "#%%\n"
    }
   }
  },
  {
   "cell_type": "code",
   "execution_count": 31,
   "outputs": [
    {
     "data": {
      "text/plain": "dict_keys(['Happy', 'Angry', 'Surprise', 'Sad', 'Fear'])"
     },
     "execution_count": 31,
     "metadata": {},
     "output_type": "execute_result"
    }
   ],
   "source": [
    "df['Emotion Scale'][0].keys()"
   ],
   "metadata": {
    "collapsed": false,
    "pycharm": {
     "name": "#%%\n"
    }
   }
  },
  {
   "cell_type": "code",
   "execution_count": 32,
   "outputs": [
    {
     "name": "stdout",
     "output_type": "stream",
     "text": [
      "{'Happy': 0.15, 'Angry': 0.09, 'Surprise': 0.17, 'Sad': 0.35, 'Fear': 0.24}\n",
      "1.0\n",
      "1.0\n",
      "{'Happy': 0.17, 'Angry': 0.06, 'Surprise': 0.22, 'Sad': 0.22, 'Fear': 0.33}\n",
      "1.0\n",
      "1.0\n",
      "{'Happy': 0.17, 'Angry': 0.07, 'Surprise': 0.33, 'Sad': 0.22, 'Fear': 0.2}\n",
      "0.99\n",
      "0.99\n",
      "{'Happy': 0.12, 'Angry': 0.0, 'Surprise': 0.3, 'Sad': 0.27, 'Fear': 0.3}\n",
      "0.99\n",
      "0.99\n",
      "{'Happy': 0.22, 'Angry': 0.11, 'Surprise': 0.22, 'Sad': 0.22, 'Fear': 0.22}\n",
      "0.99\n",
      "0.99\n",
      "{'Happy': 0.2, 'Angry': 0.07, 'Surprise': 0.2, 'Sad': 0.27, 'Fear': 0.27}\n",
      "1.01\n",
      "1.01\n",
      "{'Happy': 0.13, 'Angry': 0.0, 'Surprise': 0.39, 'Sad': 0.17, 'Fear': 0.3}\n",
      "0.99\n",
      "0.99\n",
      "{'Happy': 0.19, 'Angry': 0.0, 'Surprise': 0.29, 'Sad': 0.24, 'Fear': 0.29}\n",
      "1.01\n",
      "1.01\n",
      "{'Happy': 0.26, 'Angry': 0.0, 'Surprise': 0.26, 'Sad': 0.11, 'Fear': 0.37}\n",
      "1.0\n",
      "1.0\n",
      "{'Happy': 0.04, 'Angry': 0.02, 'Surprise': 0.35, 'Sad': 0.33, 'Fear': 0.26}\n",
      "1.0\n",
      "1.0\n",
      "{'Happy': 0.11, 'Angry': 0.15, 'Surprise': 0.22, 'Sad': 0.3, 'Fear': 0.22}\n",
      "1.0\n",
      "1.0\n",
      "{'Happy': 0.2, 'Angry': 0.0, 'Surprise': 0.33, 'Sad': 0.2, 'Fear': 0.27}\n",
      "1.0\n",
      "1.0\n",
      "{'Happy': 0.16, 'Angry': 0.0, 'Surprise': 0.42, 'Sad': 0.42, 'Fear': 0.0}\n",
      "1.0\n",
      "1.0\n",
      "{'Happy': 0.16, 'Angry': 0.03, 'Surprise': 0.35, 'Sad': 0.19, 'Fear': 0.26}\n",
      "0.99\n",
      "0.99\n",
      "{'Happy': 0.12, 'Angry': 0.04, 'Surprise': 0.2, 'Sad': 0.32, 'Fear': 0.32}\n",
      "1.0\n",
      "1.0\n",
      "{'Happy': 0.08, 'Angry': 0.0, 'Surprise': 0.08, 'Sad': 0.33, 'Fear': 0.5}\n",
      "0.99\n",
      "0.99\n",
      "{'Happy': 0.44, 'Angry': 0.0, 'Surprise': 0.24, 'Sad': 0.2, 'Fear': 0.12}\n",
      "0.9999999999999999\n",
      "0.9999999999999999\n",
      "{'Happy': 0.17, 'Angry': 0.08, 'Surprise': 0.58, 'Sad': 0.08, 'Fear': 0.08}\n",
      "0.9899999999999999\n",
      "0.9899999999999999\n",
      "{'Happy': 0.07, 'Angry': 0.02, 'Surprise': 0.36, 'Sad': 0.38, 'Fear': 0.16}\n",
      "0.9900000000000001\n",
      "0.9900000000000001\n",
      "{'Happy': 0.19, 'Angry': 0.06, 'Surprise': 0.33, 'Sad': 0.22, 'Fear': 0.19}\n",
      "0.99\n",
      "0.99\n",
      "{'Happy': 0.15, 'Angry': 0.03, 'Surprise': 0.25, 'Sad': 0.25, 'Fear': 0.32}\n",
      "1.0\n",
      "1.0\n",
      "{'Happy': 0.22, 'Angry': 0.0, 'Surprise': 0.56, 'Sad': 0.0, 'Fear': 0.22}\n",
      "1.0\n",
      "1.0\n",
      "{'Happy': 0.07, 'Angry': 0.05, 'Surprise': 0.41, 'Sad': 0.32, 'Fear': 0.15}\n",
      "1.0\n",
      "1.0\n",
      "{'Happy': 0.02, 'Angry': 0.16, 'Surprise': 0.19, 'Sad': 0.3, 'Fear': 0.33}\n",
      "1.0\n",
      "1.0\n",
      "{'Happy': 0.15, 'Angry': 0.04, 'Surprise': 0.15, 'Sad': 0.31, 'Fear': 0.35}\n",
      "0.9999999999999999\n",
      "0.9999999999999999\n",
      "0.9971999999999999\n"
     ]
    }
   ],
   "source": [
    "full_sum = 0\n",
    "for this_zero in df['Emotion Scale']:\n",
    "    # this_zero = df['Emotion Scale'][0]\n",
    "    print(this_zero)\n",
    "    sum_zero = sum(this_zero[k] for k in this_zero)\n",
    "    print(sum_zero)\n",
    "    the_sum = 0\n",
    "    for i in this_zero:\n",
    "        the_sum += this_zero[i]\n",
    "    print(the_sum)\n",
    "    full_sum += the_sum\n",
    "full_sum /= df['Emotion Scale'].count()\n",
    "print(full_sum)"
   ],
   "metadata": {
    "collapsed": false,
    "pycharm": {
     "name": "#%%\n"
    }
   }
  },
  {
   "cell_type": "code",
   "execution_count": 33,
   "outputs": [
    {
     "name": "stdout",
     "output_type": "stream",
     "text": [
      "{'Happy': 3.96, 'Angry': 1.08, 'Surprise': 7.400000000000001, 'Sad': 6.219999999999999, 'Fear': 6.2700000000000005}\n",
      "{'Happy': 0.1584, 'Angry': 0.0432, 'Surprise': 0.296, 'Sad': 0.2488, 'Fear': 0.2508}\n"
     ]
    }
   ],
   "source": [
    "base_dict = {k:0 for k in df['Emotion Scale'][0]}\n",
    "for i in df['Emotion Scale']:\n",
    "    # print(i)\n",
    "    for k in i:\n",
    "        #print(i[k])\n",
    "        base_dict[k] += i[k]\n",
    "tot_emo_dict = {k:round(base_dict[k]/df['Emotion Scale'].count(),4) for k in base_dict}\n",
    "print(base_dict)\n",
    "print(tot_emo_dict)"
   ],
   "metadata": {
    "collapsed": false,
    "pycharm": {
     "name": "#%%\n"
    }
   }
  },
  {
   "cell_type": "markdown",
   "source": [
    "### Keyword Extraction\n",
    "    - extract most common words per class of emotion"
   ],
   "metadata": {
    "collapsed": false,
    "pycharm": {
     "name": "#%% md\n"
    }
   }
  },
  {
   "cell_type": "code",
   "execution_count": 34,
   "outputs": [],
   "source": [
    "from collections import Counter"
   ],
   "metadata": {
    "collapsed": false,
    "pycharm": {
     "name": "#%%\n"
    }
   }
  },
  {
   "cell_type": "code",
   "execution_count": 34,
   "outputs": [],
   "source": [],
   "metadata": {
    "collapsed": false,
    "pycharm": {
     "name": "#%%\n"
    }
   }
  }
 ],
 "metadata": {
  "kernelspec": {
   "display_name": "Python 3",
   "language": "python",
   "name": "python3"
  },
  "language_info": {
   "codemirror_mode": {
    "name": "ipython",
    "version": 2
   },
   "file_extension": ".py",
   "mimetype": "text/x-python",
   "name": "python",
   "nbconvert_exporter": "python",
   "pygments_lexer": "ipython2",
   "version": "2.7.6"
  }
 },
 "nbformat": 4,
 "nbformat_minor": 0
}