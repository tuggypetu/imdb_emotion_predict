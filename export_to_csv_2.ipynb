{
 "cells": [
  {
   "cell_type": "code",
   "execution_count": null,
   "metadata": {
    "collapsed": true,
    "pycharm": {
     "name": "#%%\n"
    }
   },
   "outputs": [],
   "source": []
  },
  {
   "cell_type": "code",
   "execution_count": 1,
   "outputs": [
    {
     "name": "stderr",
     "output_type": "stream",
     "text": [
      "[nltk_data] Error loading stopwords: <urlopen error [SSL:\n",
      "[nltk_data]     CERTIFICATE_VERIFY_FAILED] certificate verify failed:\n",
      "[nltk_data]     unable to get local issuer certificate (_ssl.c:1076)>\n",
      "[nltk_data] Error loading punkt: <urlopen error [SSL:\n",
      "[nltk_data]     CERTIFICATE_VERIFY_FAILED] certificate verify failed:\n",
      "[nltk_data]     unable to get local issuer certificate (_ssl.c:1076)>\n",
      "[nltk_data] Error loading wordnet: <urlopen error [SSL:\n",
      "[nltk_data]     CERTIFICATE_VERIFY_FAILED] certificate verify failed:\n",
      "[nltk_data]     unable to get local issuer certificate (_ssl.c:1076)>\n"
     ]
    }
   ],
   "source": [
    "from Movie import Movie\n",
    "from MovieList import MovieList\n",
    "\n",
    "import pandas as pd\n",
    "import numpy as np\n",
    "\n",
    "from pathlib import Path"
   ],
   "metadata": {
    "collapsed": false,
    "pycharm": {
     "name": "#%%\n"
    }
   }
  },
  {
   "cell_type": "code",
   "execution_count": 2,
   "outputs": [
    {
     "data": {
      "text/plain": "    Top               Movie Title   MovieID\n0     1         Top Gun: Maverick   1745960\n1     2  Jurassic World: Dominion   8041270\n2     3                    Hustle   8009428\n3     4                   Top Gun   0092099\n4     5                 Lightyear  10298810\n..  ...                       ...       ...\n95   96          CBI 5: The Brain   7311164\n96   97            Licorice Pizza  11271038\n97   98               The Goonies   0089218\n98   99   Where the Crawdads Sing   9411972\n99  100                Goodfellas   0099685\n\n[100 rows x 3 columns]",
      "text/html": "<div>\n<style scoped>\n    .dataframe tbody tr th:only-of-type {\n        vertical-align: middle;\n    }\n\n    .dataframe tbody tr th {\n        vertical-align: top;\n    }\n\n    .dataframe thead th {\n        text-align: right;\n    }\n</style>\n<table border=\"1\" class=\"dataframe\">\n  <thead>\n    <tr style=\"text-align: right;\">\n      <th></th>\n      <th>Top</th>\n      <th>Movie Title</th>\n      <th>MovieID</th>\n    </tr>\n  </thead>\n  <tbody>\n    <tr>\n      <th>0</th>\n      <td>1</td>\n      <td>Top Gun: Maverick</td>\n      <td>1745960</td>\n    </tr>\n    <tr>\n      <th>1</th>\n      <td>2</td>\n      <td>Jurassic World: Dominion</td>\n      <td>8041270</td>\n    </tr>\n    <tr>\n      <th>2</th>\n      <td>3</td>\n      <td>Hustle</td>\n      <td>8009428</td>\n    </tr>\n    <tr>\n      <th>3</th>\n      <td>4</td>\n      <td>Top Gun</td>\n      <td>0092099</td>\n    </tr>\n    <tr>\n      <th>4</th>\n      <td>5</td>\n      <td>Lightyear</td>\n      <td>10298810</td>\n    </tr>\n    <tr>\n      <th>...</th>\n      <td>...</td>\n      <td>...</td>\n      <td>...</td>\n    </tr>\n    <tr>\n      <th>95</th>\n      <td>96</td>\n      <td>CBI 5: The Brain</td>\n      <td>7311164</td>\n    </tr>\n    <tr>\n      <th>96</th>\n      <td>97</td>\n      <td>Licorice Pizza</td>\n      <td>11271038</td>\n    </tr>\n    <tr>\n      <th>97</th>\n      <td>98</td>\n      <td>The Goonies</td>\n      <td>0089218</td>\n    </tr>\n    <tr>\n      <th>98</th>\n      <td>99</td>\n      <td>Where the Crawdads Sing</td>\n      <td>9411972</td>\n    </tr>\n    <tr>\n      <th>99</th>\n      <td>100</td>\n      <td>Goodfellas</td>\n      <td>0099685</td>\n    </tr>\n  </tbody>\n</table>\n<p>100 rows × 3 columns</p>\n</div>"
     },
     "execution_count": 2,
     "metadata": {},
     "output_type": "execute_result"
    }
   ],
   "source": [
    "movies = MovieList()\n",
    "Popular_100_movies = movies.get_pop100_mov()\n",
    "Popular_100_movies"
   ],
   "metadata": {
    "collapsed": false,
    "pycharm": {
     "name": "#%%\n"
    }
   }
  },
  {
   "cell_type": "code",
   "execution_count": 3,
   "outputs": [
    {
     "name": "stdout",
     "output_type": "stream",
     "text": [
      "1, 2, \n",
      "\n",
      "CPU times: user 38.4 s, sys: 3.01 s, total: 41.4 s\n",
      "Wall time: 1min 39s\n"
     ]
    }
   ],
   "source": [
    "%%time\n",
    "list_df = []\n",
    "list_df2 = []\n",
    "for _id in Popular_100_movies['Top']:\n",
    "    if _id == 1 or _id == 2:\n",
    "        movie = Movie(movie_id=Popular_100_movies['MovieID'][_id-1])\n",
    "        n_movie = Movie(movie_id=Popular_100_movies['MovieID'][_id-1])\n",
    "        b_movie = Movie(movie_id=Popular_100_movies['MovieID'][_id-1])\n",
    "        row = movie.get_movie_row()\n",
    "        list_df.append(row)\n",
    "        row2 = n_movie.get_movie_sent_emo_row()\n",
    "        list_df2.append(row2)\n",
    "        if not Path(f\"data/all_indiv/{Popular_100_movies['Movie Title'][_id-1]}.csv\").is_file():\n",
    "            df_reviews = b_movie.get_movie_review_df()\n",
    "            df_reviews.to_csv(f\"data/all_indiv/{Popular_100_movies['Movie Title'][_id-1]}.csv\", index=False)\n",
    "        print(_id, end=', ')\n",
    "print('\\n')\n",
    "# df_row_join = pd.DataFrame(list_df, columns=['Rating', 'Year', 'Languages', 'Genres', 'Plot', 'Directors', 'Actors'])\n",
    "# df2_join = pd.DataFrame(list_df2, columns=['Subjectivity', 'Polarity', 'Common Sentiment', 'Emotion Scale'])\n",
    "# df_row_join = df_row_join.join(df2_join)\n",
    "# Popular_100_movies_to_csv = Popular_100_movies.join(df_row_join)\n",
    "# Popular_100_movies_to_csv.to_csv(\"data/top/Popular 100 Movies (2022-06-19).csv\", index=False)\n",
    "# Popular_100_movies_to_csv"
   ],
   "metadata": {
    "collapsed": false,
    "pycharm": {
     "name": "#%%\n"
    }
   }
  },
  {
   "cell_type": "code",
   "execution_count": 4,
   "outputs": [],
   "source": [
    "# Popular_100_movies_to_csv.to_csv(\"data/top/Popular 100 Movies (2022-06-17).csv\", index=False)"
   ],
   "metadata": {
    "collapsed": false,
    "pycharm": {
     "name": "#%%\n"
    }
   }
  },
  {
   "cell_type": "code",
   "execution_count": 5,
   "outputs": [
    {
     "ename": "NameError",
     "evalue": "name 'Popular_100_movies_to_csv' is not defined",
     "output_type": "error",
     "traceback": [
      "\u001B[0;31m---------------------------------------------------------------------------\u001B[0m",
      "\u001B[0;31mNameError\u001B[0m                                 Traceback (most recent call last)",
      "\u001B[0;32m/var/folders/qx/m5twkz1d4x59mlkfs6y0_z1h0000gn/T/ipykernel_2512/675027536.py\u001B[0m in \u001B[0;36m<module>\u001B[0;34m\u001B[0m\n\u001B[0;32m----> 1\u001B[0;31m \u001B[0mPopular_100_movies_to_csv\u001B[0m\u001B[0;34m\u001B[0m\u001B[0;34m\u001B[0m\u001B[0m\n\u001B[0m",
      "\u001B[0;31mNameError\u001B[0m: name 'Popular_100_movies_to_csv' is not defined"
     ]
    }
   ],
   "source": [
    "Popular_100_movies_to_csv"
   ],
   "metadata": {
    "collapsed": false,
    "pycharm": {
     "name": "#%%\n"
    }
   }
  },
  {
   "cell_type": "code",
   "execution_count": null,
   "outputs": [],
   "source": [],
   "metadata": {
    "collapsed": false,
    "pycharm": {
     "name": "#%%\n"
    }
   }
  }
 ],
 "metadata": {
  "kernelspec": {
   "display_name": "Python 3",
   "language": "python",
   "name": "python3"
  },
  "language_info": {
   "codemirror_mode": {
    "name": "ipython",
    "version": 2
   },
   "file_extension": ".py",
   "mimetype": "text/x-python",
   "name": "python",
   "nbconvert_exporter": "python",
   "pygments_lexer": "ipython2",
   "version": "2.7.6"
  }
 },
 "nbformat": 4,
 "nbformat_minor": 0
}