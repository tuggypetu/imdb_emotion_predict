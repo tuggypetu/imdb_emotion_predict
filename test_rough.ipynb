{
 "cells": [
  {
   "cell_type": "code",
   "execution_count": 10,
   "outputs": [],
   "source": [
    "import imdb\n",
    "import numpy as np\n",
    "import pandas as pd\n",
    "import re\n",
    "from textblob import TextBlob"
   ],
   "metadata": {
    "collapsed": false,
    "pycharm": {
     "name": "#%%\n"
    }
   }
  },
  {
   "cell_type": "code",
   "execution_count": 11,
   "outputs": [],
   "source": [
    "\n",
    "def get_reviews():\n",
    "    \"\"\"\"\"\"\n",
    "    ia = imdb.Cinemagoer()\n",
    "    get_movie_reviews = ia.get_movie_reviews('0111161')['data']['reviews']\n",
    "    review_list = []\n",
    "    for review in get_movie_reviews:\n",
    "        review_list.append([review['rating'], review['title'], review['content']])\n",
    "    df = pd.DataFrame(review_list, columns=[ 'Rating', 'Review Title', 'Review'])\n",
    "    return df\n",
    "\n",
    "def cleaned_review_text():\n",
    "    \"\"\"Clean Review Text.\"\"\"\n",
    "    stopwords = [\"for\", \"on\", \"an\", \"a\", \"of\", \"and\", \"in\", \"the\", \"to\", \"from\"]\n",
    "    df = get_reviews()\n",
    "    df_ct = pd.Series()\n",
    "    df_cr = pd.Series()\n",
    "    dfc = pd.DataFrame(columns=['Cleaned Review Title', 'Cleaned Review'])\n",
    "    for i in ['Review Title', 'Review']:\n",
    "        count = 0\n",
    "        for text in df[f'{i}']:\n",
    "            if type(text) is float or type(text) is int:\n",
    "                temp = \"\"\n",
    "            else:\n",
    "                temp = text.lower()\n",
    "                temp = re.sub(\"'\", \"\", temp)  # to avoid removing contractions in english\n",
    "                temp = re.sub(\"@[A-Za-z0-9_]+\", \"\", temp)\n",
    "                temp = re.sub(\"#[A-Za-z0-9_]+\", \"\", temp)\n",
    "                temp = re.sub(r'http\\S+', '', temp)\n",
    "                temp = re.sub('[()!?]', ' ', temp)\n",
    "                temp = re.sub('\\[.*?\\]', ' ', temp)\n",
    "                temp = re.sub(\"[^a-z0-9]\", \" \", temp)\n",
    "                temp = temp.split()\n",
    "                temp = [w for w in temp if not w in stopwords]\n",
    "                temp = \" \".join(word for word in temp)\n",
    "            if i == 'Review':\n",
    "                df_cr.loc[count] = temp\n",
    "            else:\n",
    "                df_ct.loc[count] = temp\n",
    "            count += 1\n",
    "        dfc['Cleaned Review Title'], dfc['Cleaned Review'] = df_ct, df_cr\n",
    "        # dfc['Rating'] = df['Rating']\n",
    "        return dfc\n",
    "\n",
    "def get_subjectivity_data():\n",
    "    \"\"\"\"\"\"\n",
    "    cr = cleaned_review_text()\n",
    "    dft = pd.DataFrame()\n",
    "    dft['TR Combo'] = cr['Cleaned Review Title'] + ' ' + cr['Cleaned Review']\n",
    "    se = pd.Series()\n",
    "    dfs = pd.DataFrame(columns=['Subjectivity'])\n",
    "    count = 0\n",
    "    for text in dft['TR Combo']:\n",
    "        blob = TextBlob(text)\n",
    "        subj = blob.sentiment.subjectivity\n",
    "        se.loc[count] = subj\n",
    "        count += 1\n",
    "    dfs['Subjectivity'] = se\n",
    "    dfs\n",
    "    return dfs"
   ],
   "metadata": {
    "collapsed": false,
    "pycharm": {
     "name": "#%%\n"
    }
   }
  },
  {
   "cell_type": "code",
   "execution_count": 12,
   "outputs": [
    {
     "name": "stdout",
     "output_type": "stream",
     "text": [
      "CPU times: user 41.2 ms, sys: 3.93 ms, total: 45.1 ms\n",
      "Wall time: 2.09 s\n"
     ]
    },
    {
     "data": {
      "text/plain": "                                                   TR\n0   Tied for the best movie I have ever seen Why d...\n1   Some birds aren't meant to be caged. The Shaws...\n2   A classic piece of unforgettable film-making. ...\n3   Don't Rent Shawshank. I'm trying to save you m...\n4   This is How Movies Should Be Made This movie i...\n5   The Shawshank Redemption One of the finest fil...\n6   An incredible movie. One that lives with you. ...\n7   Stephen King's best adapted movie Misery and S...\n8   Enthralling, fantastic, intriguing, truly rema...\n9   IMDb and the Greatest Film of All Time Two imp...\n10  All-time prison film classic Based on a novell...\n11  A Popular Film That Deserves Its Popularity If...\n12  This Review Is Unneeded You have already watch...\n13  Prepare to be moved I have never seen such an ...\n14  I Know My Name Is Captain Obvious This is the ...\n15  \"I Had To Go To Prison To Learn To Be A Crook\"...\n16  Shawshank Redeems Hollywood Can Hollywood, usu...\n17  A Middle Finger To Pigs Everywhere WHAT. A. MO...\n18  Simply amazing. The best film of the 90's. The...\n19  Simply known as \"The Movie\" Whenever I talk ab...\n20  Fantastic Film This is a great film. It is wel...\n21  Eternal Hope I've lost count of the number of ...\n22  Masterpiece Shawshank Redemption, The (1994)**...\n23  Two movies in one The reason I became a member...\n24  \"I'm a convicted murderer who provides sound f...",
      "text/html": "<div>\n<style scoped>\n    .dataframe tbody tr th:only-of-type {\n        vertical-align: middle;\n    }\n\n    .dataframe tbody tr th {\n        vertical-align: top;\n    }\n\n    .dataframe thead th {\n        text-align: right;\n    }\n</style>\n<table border=\"1\" class=\"dataframe\">\n  <thead>\n    <tr style=\"text-align: right;\">\n      <th></th>\n      <th>TR</th>\n    </tr>\n  </thead>\n  <tbody>\n    <tr>\n      <th>0</th>\n      <td>Tied for the best movie I have ever seen Why d...</td>\n    </tr>\n    <tr>\n      <th>1</th>\n      <td>Some birds aren't meant to be caged. The Shaws...</td>\n    </tr>\n    <tr>\n      <th>2</th>\n      <td>A classic piece of unforgettable film-making. ...</td>\n    </tr>\n    <tr>\n      <th>3</th>\n      <td>Don't Rent Shawshank. I'm trying to save you m...</td>\n    </tr>\n    <tr>\n      <th>4</th>\n      <td>This is How Movies Should Be Made This movie i...</td>\n    </tr>\n    <tr>\n      <th>5</th>\n      <td>The Shawshank Redemption One of the finest fil...</td>\n    </tr>\n    <tr>\n      <th>6</th>\n      <td>An incredible movie. One that lives with you. ...</td>\n    </tr>\n    <tr>\n      <th>7</th>\n      <td>Stephen King's best adapted movie Misery and S...</td>\n    </tr>\n    <tr>\n      <th>8</th>\n      <td>Enthralling, fantastic, intriguing, truly rema...</td>\n    </tr>\n    <tr>\n      <th>9</th>\n      <td>IMDb and the Greatest Film of All Time Two imp...</td>\n    </tr>\n    <tr>\n      <th>10</th>\n      <td>All-time prison film classic Based on a novell...</td>\n    </tr>\n    <tr>\n      <th>11</th>\n      <td>A Popular Film That Deserves Its Popularity If...</td>\n    </tr>\n    <tr>\n      <th>12</th>\n      <td>This Review Is Unneeded You have already watch...</td>\n    </tr>\n    <tr>\n      <th>13</th>\n      <td>Prepare to be moved I have never seen such an ...</td>\n    </tr>\n    <tr>\n      <th>14</th>\n      <td>I Know My Name Is Captain Obvious This is the ...</td>\n    </tr>\n    <tr>\n      <th>15</th>\n      <td>\"I Had To Go To Prison To Learn To Be A Crook\"...</td>\n    </tr>\n    <tr>\n      <th>16</th>\n      <td>Shawshank Redeems Hollywood Can Hollywood, usu...</td>\n    </tr>\n    <tr>\n      <th>17</th>\n      <td>A Middle Finger To Pigs Everywhere WHAT. A. MO...</td>\n    </tr>\n    <tr>\n      <th>18</th>\n      <td>Simply amazing. The best film of the 90's. The...</td>\n    </tr>\n    <tr>\n      <th>19</th>\n      <td>Simply known as \"The Movie\" Whenever I talk ab...</td>\n    </tr>\n    <tr>\n      <th>20</th>\n      <td>Fantastic Film This is a great film. It is wel...</td>\n    </tr>\n    <tr>\n      <th>21</th>\n      <td>Eternal Hope I've lost count of the number of ...</td>\n    </tr>\n    <tr>\n      <th>22</th>\n      <td>Masterpiece Shawshank Redemption, The (1994)**...</td>\n    </tr>\n    <tr>\n      <th>23</th>\n      <td>Two movies in one The reason I became a member...</td>\n    </tr>\n    <tr>\n      <th>24</th>\n      <td>\"I'm a convicted murderer who provides sound f...</td>\n    </tr>\n  </tbody>\n</table>\n</div>"
     },
     "execution_count": 12,
     "metadata": {},
     "output_type": "execute_result"
    }
   ],
   "source": [
    "%%time\n",
    "rev = get_reviews()\n",
    "dfz = pd.DataFrame()\n",
    "dfz['TR'] = rev['Review Title'] + ' ' + rev['Review']\n",
    "# for tex in dfz['TR']:\n",
    "#     print(tex)\n",
    "#     print()\n",
    "\n",
    "dfz"
   ],
   "metadata": {
    "collapsed": false,
    "pycharm": {
     "name": "#%%\n"
    }
   }
  },
  {
   "cell_type": "code",
   "execution_count": 13,
   "outputs": [
    {
     "name": "stderr",
     "output_type": "stream",
     "text": [
      "/Library/Frameworks/Python.framework/Versions/3.7/lib/python3.7/site-packages/ipykernel_launcher.py:15: DeprecationWarning: The default dtype for empty Series will be 'object' instead of 'float64' in a future version. Specify a dtype explicitly to silence this warning.\n",
      "  from ipykernel import kernelapp as app\n",
      "/Library/Frameworks/Python.framework/Versions/3.7/lib/python3.7/site-packages/ipykernel_launcher.py:16: DeprecationWarning: The default dtype for empty Series will be 'object' instead of 'float64' in a future version. Specify a dtype explicitly to silence this warning.\n",
      "  app.launch_new_instance()\n"
     ]
    },
    {
     "data": {
      "text/plain": "                                 Cleaned Review Title  Cleaned Review  Rating\n0                    tied best movie i have ever seen             NaN    10.0\n1                     some birds arent meant be caged             NaN    10.0\n2             classic piece unforgettable film making             NaN    10.0\n3                                 dont rent shawshank             NaN    10.0\n4                   this is how movies should be made             NaN    10.0\n5                                shawshank redemption             NaN    10.0\n6            incredible movie one that lives with you             NaN    10.0\n7                    stephen kings best adapted movie             NaN    10.0\n8   enthralling fantastic intriguing truly remarkable             NaN    10.0\n9                         imdb greatest film all time             NaN    10.0\n10                       all time prison film classic             NaN    10.0\n11          popular film that deserves its popularity             NaN     9.0\n12                            this review is unneeded             NaN     9.0\n13                                   prepare be moved             NaN     NaN\n14                  i know my name is captain obvious             NaN     9.0\n15                     i had go prison learn be crook             NaN     9.0\n16                        shawshank redeems hollywood             NaN    10.0\n17                      middle finger pigs everywhere             NaN     9.0\n18                       simply amazing best film 90s             NaN    10.0\n19                              simply known as movie             NaN    10.0\n20                                     fantastic film             NaN     9.0\n21                                       eternal hope             NaN    10.0\n22                                        masterpiece             NaN     NaN\n23                                     two movies one             NaN     NaN\n24  im convicted murderer who provides sound finan...             NaN    10.0",
      "text/html": "<div>\n<style scoped>\n    .dataframe tbody tr th:only-of-type {\n        vertical-align: middle;\n    }\n\n    .dataframe tbody tr th {\n        vertical-align: top;\n    }\n\n    .dataframe thead th {\n        text-align: right;\n    }\n</style>\n<table border=\"1\" class=\"dataframe\">\n  <thead>\n    <tr style=\"text-align: right;\">\n      <th></th>\n      <th>Cleaned Review Title</th>\n      <th>Cleaned Review</th>\n      <th>Rating</th>\n    </tr>\n  </thead>\n  <tbody>\n    <tr>\n      <th>0</th>\n      <td>tied best movie i have ever seen</td>\n      <td>NaN</td>\n      <td>10.0</td>\n    </tr>\n    <tr>\n      <th>1</th>\n      <td>some birds arent meant be caged</td>\n      <td>NaN</td>\n      <td>10.0</td>\n    </tr>\n    <tr>\n      <th>2</th>\n      <td>classic piece unforgettable film making</td>\n      <td>NaN</td>\n      <td>10.0</td>\n    </tr>\n    <tr>\n      <th>3</th>\n      <td>dont rent shawshank</td>\n      <td>NaN</td>\n      <td>10.0</td>\n    </tr>\n    <tr>\n      <th>4</th>\n      <td>this is how movies should be made</td>\n      <td>NaN</td>\n      <td>10.0</td>\n    </tr>\n    <tr>\n      <th>5</th>\n      <td>shawshank redemption</td>\n      <td>NaN</td>\n      <td>10.0</td>\n    </tr>\n    <tr>\n      <th>6</th>\n      <td>incredible movie one that lives with you</td>\n      <td>NaN</td>\n      <td>10.0</td>\n    </tr>\n    <tr>\n      <th>7</th>\n      <td>stephen kings best adapted movie</td>\n      <td>NaN</td>\n      <td>10.0</td>\n    </tr>\n    <tr>\n      <th>8</th>\n      <td>enthralling fantastic intriguing truly remarkable</td>\n      <td>NaN</td>\n      <td>10.0</td>\n    </tr>\n    <tr>\n      <th>9</th>\n      <td>imdb greatest film all time</td>\n      <td>NaN</td>\n      <td>10.0</td>\n    </tr>\n    <tr>\n      <th>10</th>\n      <td>all time prison film classic</td>\n      <td>NaN</td>\n      <td>10.0</td>\n    </tr>\n    <tr>\n      <th>11</th>\n      <td>popular film that deserves its popularity</td>\n      <td>NaN</td>\n      <td>9.0</td>\n    </tr>\n    <tr>\n      <th>12</th>\n      <td>this review is unneeded</td>\n      <td>NaN</td>\n      <td>9.0</td>\n    </tr>\n    <tr>\n      <th>13</th>\n      <td>prepare be moved</td>\n      <td>NaN</td>\n      <td>NaN</td>\n    </tr>\n    <tr>\n      <th>14</th>\n      <td>i know my name is captain obvious</td>\n      <td>NaN</td>\n      <td>9.0</td>\n    </tr>\n    <tr>\n      <th>15</th>\n      <td>i had go prison learn be crook</td>\n      <td>NaN</td>\n      <td>9.0</td>\n    </tr>\n    <tr>\n      <th>16</th>\n      <td>shawshank redeems hollywood</td>\n      <td>NaN</td>\n      <td>10.0</td>\n    </tr>\n    <tr>\n      <th>17</th>\n      <td>middle finger pigs everywhere</td>\n      <td>NaN</td>\n      <td>9.0</td>\n    </tr>\n    <tr>\n      <th>18</th>\n      <td>simply amazing best film 90s</td>\n      <td>NaN</td>\n      <td>10.0</td>\n    </tr>\n    <tr>\n      <th>19</th>\n      <td>simply known as movie</td>\n      <td>NaN</td>\n      <td>10.0</td>\n    </tr>\n    <tr>\n      <th>20</th>\n      <td>fantastic film</td>\n      <td>NaN</td>\n      <td>9.0</td>\n    </tr>\n    <tr>\n      <th>21</th>\n      <td>eternal hope</td>\n      <td>NaN</td>\n      <td>10.0</td>\n    </tr>\n    <tr>\n      <th>22</th>\n      <td>masterpiece</td>\n      <td>NaN</td>\n      <td>NaN</td>\n    </tr>\n    <tr>\n      <th>23</th>\n      <td>two movies one</td>\n      <td>NaN</td>\n      <td>NaN</td>\n    </tr>\n    <tr>\n      <th>24</th>\n      <td>im convicted murderer who provides sound finan...</td>\n      <td>NaN</td>\n      <td>10.0</td>\n    </tr>\n  </tbody>\n</table>\n</div>"
     },
     "execution_count": 13,
     "metadata": {},
     "output_type": "execute_result"
    }
   ],
   "source": [
    "cle_rev = cleaned_review_text()\n",
    "cle_rev"
   ],
   "metadata": {
    "collapsed": false,
    "pycharm": {
     "name": "#%%\n"
    }
   }
  },
  {
   "cell_type": "code",
   "execution_count": 14,
   "outputs": [
    {
     "data": {
      "text/plain": "Empty DataFrame\nColumns: [Subjectivity]\nIndex: []",
      "text/html": "<div>\n<style scoped>\n    .dataframe tbody tr th:only-of-type {\n        vertical-align: middle;\n    }\n\n    .dataframe tbody tr th {\n        vertical-align: top;\n    }\n\n    .dataframe thead th {\n        text-align: right;\n    }\n</style>\n<table border=\"1\" class=\"dataframe\">\n  <thead>\n    <tr style=\"text-align: right;\">\n      <th></th>\n      <th>Subjectivity</th>\n    </tr>\n  </thead>\n  <tbody>\n  </tbody>\n</table>\n</div>"
     },
     "execution_count": 14,
     "metadata": {},
     "output_type": "execute_result"
    }
   ],
   "source": [
    "df0 = pd.DataFrame(columns=['Subjectivity'])\n",
    "df0['Subjectivity'].loc[0] = 23\n",
    "df0"
   ],
   "metadata": {
    "collapsed": false,
    "pycharm": {
     "name": "#%%\n"
    }
   }
  },
  {
   "cell_type": "code",
   "execution_count": 15,
   "outputs": [
    {
     "name": "stderr",
     "output_type": "stream",
     "text": [
      "/Library/Frameworks/Python.framework/Versions/3.7/lib/python3.7/site-packages/ipykernel_launcher.py:15: DeprecationWarning: The default dtype for empty Series will be 'object' instead of 'float64' in a future version. Specify a dtype explicitly to silence this warning.\n",
      "  from ipykernel import kernelapp as app\n",
      "/Library/Frameworks/Python.framework/Versions/3.7/lib/python3.7/site-packages/ipykernel_launcher.py:16: DeprecationWarning: The default dtype for empty Series will be 'object' instead of 'float64' in a future version. Specify a dtype explicitly to silence this warning.\n",
      "  app.launch_new_instance()\n"
     ]
    },
    {
     "data": {
      "text/plain": "                                 Cleaned Review Title  Cleaned Review  Rating\n0                    tied best movie i have ever seen             NaN    10.0\n1                     some birds arent meant be caged             NaN    10.0\n2             classic piece unforgettable film making             NaN    10.0\n3                                 dont rent shawshank             NaN    10.0\n4                   this is how movies should be made             NaN    10.0\n5                                shawshank redemption             NaN    10.0\n6            incredible movie one that lives with you             NaN    10.0\n7                    stephen kings best adapted movie             NaN    10.0\n8   enthralling fantastic intriguing truly remarkable             NaN    10.0\n9                         imdb greatest film all time             NaN    10.0\n10                       all time prison film classic             NaN    10.0\n11          popular film that deserves its popularity             NaN     9.0\n12                            this review is unneeded             NaN     9.0\n13                                   prepare be moved             NaN     NaN\n14                  i know my name is captain obvious             NaN     9.0\n15                     i had go prison learn be crook             NaN     9.0\n16                        shawshank redeems hollywood             NaN    10.0\n17                      middle finger pigs everywhere             NaN     9.0\n18                       simply amazing best film 90s             NaN    10.0\n19                              simply known as movie             NaN    10.0\n20                                     fantastic film             NaN     9.0\n21                                       eternal hope             NaN    10.0\n22                                        masterpiece             NaN     NaN\n23                                     two movies one             NaN     NaN\n24  im convicted murderer who provides sound finan...             NaN    10.0",
      "text/html": "<div>\n<style scoped>\n    .dataframe tbody tr th:only-of-type {\n        vertical-align: middle;\n    }\n\n    .dataframe tbody tr th {\n        vertical-align: top;\n    }\n\n    .dataframe thead th {\n        text-align: right;\n    }\n</style>\n<table border=\"1\" class=\"dataframe\">\n  <thead>\n    <tr style=\"text-align: right;\">\n      <th></th>\n      <th>Cleaned Review Title</th>\n      <th>Cleaned Review</th>\n      <th>Rating</th>\n    </tr>\n  </thead>\n  <tbody>\n    <tr>\n      <th>0</th>\n      <td>tied best movie i have ever seen</td>\n      <td>NaN</td>\n      <td>10.0</td>\n    </tr>\n    <tr>\n      <th>1</th>\n      <td>some birds arent meant be caged</td>\n      <td>NaN</td>\n      <td>10.0</td>\n    </tr>\n    <tr>\n      <th>2</th>\n      <td>classic piece unforgettable film making</td>\n      <td>NaN</td>\n      <td>10.0</td>\n    </tr>\n    <tr>\n      <th>3</th>\n      <td>dont rent shawshank</td>\n      <td>NaN</td>\n      <td>10.0</td>\n    </tr>\n    <tr>\n      <th>4</th>\n      <td>this is how movies should be made</td>\n      <td>NaN</td>\n      <td>10.0</td>\n    </tr>\n    <tr>\n      <th>5</th>\n      <td>shawshank redemption</td>\n      <td>NaN</td>\n      <td>10.0</td>\n    </tr>\n    <tr>\n      <th>6</th>\n      <td>incredible movie one that lives with you</td>\n      <td>NaN</td>\n      <td>10.0</td>\n    </tr>\n    <tr>\n      <th>7</th>\n      <td>stephen kings best adapted movie</td>\n      <td>NaN</td>\n      <td>10.0</td>\n    </tr>\n    <tr>\n      <th>8</th>\n      <td>enthralling fantastic intriguing truly remarkable</td>\n      <td>NaN</td>\n      <td>10.0</td>\n    </tr>\n    <tr>\n      <th>9</th>\n      <td>imdb greatest film all time</td>\n      <td>NaN</td>\n      <td>10.0</td>\n    </tr>\n    <tr>\n      <th>10</th>\n      <td>all time prison film classic</td>\n      <td>NaN</td>\n      <td>10.0</td>\n    </tr>\n    <tr>\n      <th>11</th>\n      <td>popular film that deserves its popularity</td>\n      <td>NaN</td>\n      <td>9.0</td>\n    </tr>\n    <tr>\n      <th>12</th>\n      <td>this review is unneeded</td>\n      <td>NaN</td>\n      <td>9.0</td>\n    </tr>\n    <tr>\n      <th>13</th>\n      <td>prepare be moved</td>\n      <td>NaN</td>\n      <td>NaN</td>\n    </tr>\n    <tr>\n      <th>14</th>\n      <td>i know my name is captain obvious</td>\n      <td>NaN</td>\n      <td>9.0</td>\n    </tr>\n    <tr>\n      <th>15</th>\n      <td>i had go prison learn be crook</td>\n      <td>NaN</td>\n      <td>9.0</td>\n    </tr>\n    <tr>\n      <th>16</th>\n      <td>shawshank redeems hollywood</td>\n      <td>NaN</td>\n      <td>10.0</td>\n    </tr>\n    <tr>\n      <th>17</th>\n      <td>middle finger pigs everywhere</td>\n      <td>NaN</td>\n      <td>9.0</td>\n    </tr>\n    <tr>\n      <th>18</th>\n      <td>simply amazing best film 90s</td>\n      <td>NaN</td>\n      <td>10.0</td>\n    </tr>\n    <tr>\n      <th>19</th>\n      <td>simply known as movie</td>\n      <td>NaN</td>\n      <td>10.0</td>\n    </tr>\n    <tr>\n      <th>20</th>\n      <td>fantastic film</td>\n      <td>NaN</td>\n      <td>9.0</td>\n    </tr>\n    <tr>\n      <th>21</th>\n      <td>eternal hope</td>\n      <td>NaN</td>\n      <td>10.0</td>\n    </tr>\n    <tr>\n      <th>22</th>\n      <td>masterpiece</td>\n      <td>NaN</td>\n      <td>NaN</td>\n    </tr>\n    <tr>\n      <th>23</th>\n      <td>two movies one</td>\n      <td>NaN</td>\n      <td>NaN</td>\n    </tr>\n    <tr>\n      <th>24</th>\n      <td>im convicted murderer who provides sound finan...</td>\n      <td>NaN</td>\n      <td>10.0</td>\n    </tr>\n  </tbody>\n</table>\n</div>"
     },
     "execution_count": 15,
     "metadata": {},
     "output_type": "execute_result"
    }
   ],
   "source": [
    "cr = cleaned_review_text()\n",
    "cr"
   ],
   "metadata": {
    "collapsed": false,
    "pycharm": {
     "name": "#%%\n"
    }
   }
  },
  {
   "cell_type": "code",
   "execution_count": 16,
   "outputs": [
    {
     "name": "stderr",
     "output_type": "stream",
     "text": [
      "/Library/Frameworks/Python.framework/Versions/3.7/lib/python3.7/site-packages/ipykernel_launcher.py:3: DeprecationWarning: The default dtype for empty Series will be 'object' instead of 'float64' in a future version. Specify a dtype explicitly to silence this warning.\n",
      "  This is separate from the ipykernel package so we can avoid doing imports until\n"
     ]
    },
    {
     "ename": "TypeError",
     "evalue": "The `text` argument passed to `__init__(text)` must be a string, not <class 'float'>",
     "output_type": "error",
     "traceback": [
      "\u001B[0;31m---------------------------------------------------------------------------\u001B[0m",
      "\u001B[0;31mTypeError\u001B[0m                                 Traceback (most recent call last)",
      "\u001B[0;32m/var/folders/qx/m5twkz1d4x59mlkfs6y0_z1h0000gn/T/ipykernel_1091/2610463677.py\u001B[0m in \u001B[0;36m<module>\u001B[0;34m\u001B[0m\n\u001B[1;32m      5\u001B[0m \u001B[0mcount\u001B[0m \u001B[0;34m=\u001B[0m \u001B[0;36m0\u001B[0m\u001B[0;34m\u001B[0m\u001B[0;34m\u001B[0m\u001B[0m\n\u001B[1;32m      6\u001B[0m \u001B[0;32mfor\u001B[0m \u001B[0mtext\u001B[0m \u001B[0;32min\u001B[0m \u001B[0mdft\u001B[0m\u001B[0;34m[\u001B[0m\u001B[0;34m'TR Combo'\u001B[0m\u001B[0;34m]\u001B[0m\u001B[0;34m:\u001B[0m\u001B[0;34m\u001B[0m\u001B[0;34m\u001B[0m\u001B[0m\n\u001B[0;32m----> 7\u001B[0;31m     \u001B[0mblob\u001B[0m \u001B[0;34m=\u001B[0m \u001B[0mTextBlob\u001B[0m\u001B[0;34m(\u001B[0m\u001B[0mtext\u001B[0m\u001B[0;34m)\u001B[0m\u001B[0;34m\u001B[0m\u001B[0;34m\u001B[0m\u001B[0m\n\u001B[0m\u001B[1;32m      8\u001B[0m     \u001B[0msubj\u001B[0m \u001B[0;34m=\u001B[0m \u001B[0mblob\u001B[0m\u001B[0;34m.\u001B[0m\u001B[0msentiment\u001B[0m\u001B[0;34m.\u001B[0m\u001B[0msubjectivity\u001B[0m\u001B[0;34m\u001B[0m\u001B[0;34m\u001B[0m\u001B[0m\n\u001B[1;32m      9\u001B[0m     \u001B[0mse\u001B[0m\u001B[0;34m.\u001B[0m\u001B[0mloc\u001B[0m\u001B[0;34m[\u001B[0m\u001B[0mcount\u001B[0m\u001B[0;34m]\u001B[0m \u001B[0;34m=\u001B[0m \u001B[0msubj\u001B[0m\u001B[0;34m\u001B[0m\u001B[0;34m\u001B[0m\u001B[0m\n",
      "\u001B[0;32m/Library/Frameworks/Python.framework/Versions/3.7/lib/python3.7/site-packages/textblob/blob.py\u001B[0m in \u001B[0;36m__init__\u001B[0;34m(self, text, tokenizer, pos_tagger, np_extractor, analyzer, parser, classifier, clean_html)\u001B[0m\n\u001B[1;32m    383\u001B[0m         \u001B[0;32mif\u001B[0m \u001B[0;32mnot\u001B[0m \u001B[0misinstance\u001B[0m\u001B[0;34m(\u001B[0m\u001B[0mtext\u001B[0m\u001B[0;34m,\u001B[0m \u001B[0mbasestring\u001B[0m\u001B[0;34m)\u001B[0m\u001B[0;34m:\u001B[0m\u001B[0;34m\u001B[0m\u001B[0;34m\u001B[0m\u001B[0m\n\u001B[1;32m    384\u001B[0m             raise TypeError('The `text` argument passed to `__init__(text)` '\n\u001B[0;32m--> 385\u001B[0;31m                             'must be a string, not {0}'.format(type(text)))\n\u001B[0m\u001B[1;32m    386\u001B[0m         \u001B[0;32mif\u001B[0m \u001B[0mclean_html\u001B[0m\u001B[0;34m:\u001B[0m\u001B[0;34m\u001B[0m\u001B[0;34m\u001B[0m\u001B[0m\n\u001B[1;32m    387\u001B[0m             raise NotImplementedError(\"clean_html has been deprecated. \"\n",
      "\u001B[0;31mTypeError\u001B[0m: The `text` argument passed to `__init__(text)` must be a string, not <class 'float'>"
     ]
    }
   ],
   "source": [
    "dft = pd.DataFrame()\n",
    "dft['TR Combo'] = cr['Cleaned Review Title'] + ' ' + cr['Cleaned Review']\n",
    "se = pd.Series()\n",
    "dfs = pd.DataFrame(columns=['Subjectivity'])\n",
    "count = 0\n",
    "for text in dft['TR Combo']:\n",
    "    blob = TextBlob(text)\n",
    "    subj = blob.sentiment.subjectivity\n",
    "    se.loc[count] = subj\n",
    "    count += 1\n",
    "dfs['Subjectivity'] = se\n",
    "dfs"
   ],
   "metadata": {
    "collapsed": false,
    "pycharm": {
     "name": "#%%\n"
    }
   }
  },
  {
   "cell_type": "code",
   "execution_count": null,
   "outputs": [],
   "source": [
    "su = get_subjectivity_data()\n",
    "su"
   ],
   "metadata": {
    "collapsed": false,
    "pycharm": {
     "name": "#%%\n"
    }
   }
  },
  {
   "cell_type": "code",
   "execution_count": null,
   "outputs": [],
   "source": [],
   "metadata": {
    "collapsed": false,
    "pycharm": {
     "name": "#%%\n"
    }
   }
  }
 ],
 "metadata": {
  "kernelspec": {
   "display_name": "Python 3",
   "language": "python",
   "name": "python3"
  },
  "language_info": {
   "codemirror_mode": {
    "name": "ipython",
    "version": 2
   },
   "file_extension": ".py",
   "mimetype": "text/x-python",
   "name": "python",
   "nbconvert_exporter": "python",
   "pygments_lexer": "ipython2",
   "version": "2.7.6"
  }
 },
 "nbformat": 4,
 "nbformat_minor": 0
}