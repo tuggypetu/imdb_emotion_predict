{
 "cells": [
  {
   "cell_type": "code",
   "execution_count": null,
   "metadata": {
    "collapsed": true,
    "pycharm": {
     "name": "#%%\n"
    }
   },
   "outputs": [],
   "source": []
  },
  {
   "cell_type": "code",
   "execution_count": 1,
   "outputs": [
    {
     "name": "stderr",
     "output_type": "stream",
     "text": [
      "[nltk_data] Error loading stopwords: <urlopen error [SSL:\n",
      "[nltk_data]     CERTIFICATE_VERIFY_FAILED] certificate verify failed:\n",
      "[nltk_data]     unable to get local issuer certificate (_ssl.c:1076)>\n",
      "[nltk_data] Error loading punkt: <urlopen error [SSL:\n",
      "[nltk_data]     CERTIFICATE_VERIFY_FAILED] certificate verify failed:\n",
      "[nltk_data]     unable to get local issuer certificate (_ssl.c:1076)>\n",
      "[nltk_data] Error loading wordnet: <urlopen error [SSL:\n",
      "[nltk_data]     CERTIFICATE_VERIFY_FAILED] certificate verify failed:\n",
      "[nltk_data]     unable to get local issuer certificate (_ssl.c:1076)>\n"
     ]
    }
   ],
   "source": [
    "from Movie import Movie\n",
    "from MovieList import MovieList\n",
    "\n",
    "import pandas as pd\n",
    "import numpy as np\n",
    "\n",
    "from pathlib import Path"
   ],
   "metadata": {
    "collapsed": false,
    "pycharm": {
     "name": "#%%\n"
    }
   }
  },
  {
   "cell_type": "code",
   "execution_count": 2,
   "outputs": [
    {
     "data": {
      "text/plain": "     Top            Movie Title   MovieID\n0      1               Jai Bhim  15097216\n1      2             Anbe Sivam   0367495\n2      3            Hanky Panky   0079221\n3      4                Nayakan   0093603\n4      5      Pariyerum Perumal   8176054\n..   ...                    ...       ...\n245  246           Colour Photo  13097434\n246  247                     24   4981966\n247  248  Velaiyilla Pattathari   3822396\n248  249               Rockstar   1839596\n249  250  Oye Lucky! Lucky Oye!   1292703\n\n[250 rows x 3 columns]",
      "text/html": "<div>\n<style scoped>\n    .dataframe tbody tr th:only-of-type {\n        vertical-align: middle;\n    }\n\n    .dataframe tbody tr th {\n        vertical-align: top;\n    }\n\n    .dataframe thead th {\n        text-align: right;\n    }\n</style>\n<table border=\"1\" class=\"dataframe\">\n  <thead>\n    <tr style=\"text-align: right;\">\n      <th></th>\n      <th>Top</th>\n      <th>Movie Title</th>\n      <th>MovieID</th>\n    </tr>\n  </thead>\n  <tbody>\n    <tr>\n      <th>0</th>\n      <td>1</td>\n      <td>Jai Bhim</td>\n      <td>15097216</td>\n    </tr>\n    <tr>\n      <th>1</th>\n      <td>2</td>\n      <td>Anbe Sivam</td>\n      <td>0367495</td>\n    </tr>\n    <tr>\n      <th>2</th>\n      <td>3</td>\n      <td>Hanky Panky</td>\n      <td>0079221</td>\n    </tr>\n    <tr>\n      <th>3</th>\n      <td>4</td>\n      <td>Nayakan</td>\n      <td>0093603</td>\n    </tr>\n    <tr>\n      <th>4</th>\n      <td>5</td>\n      <td>Pariyerum Perumal</td>\n      <td>8176054</td>\n    </tr>\n    <tr>\n      <th>...</th>\n      <td>...</td>\n      <td>...</td>\n      <td>...</td>\n    </tr>\n    <tr>\n      <th>245</th>\n      <td>246</td>\n      <td>Colour Photo</td>\n      <td>13097434</td>\n    </tr>\n    <tr>\n      <th>246</th>\n      <td>247</td>\n      <td>24</td>\n      <td>4981966</td>\n    </tr>\n    <tr>\n      <th>247</th>\n      <td>248</td>\n      <td>Velaiyilla Pattathari</td>\n      <td>3822396</td>\n    </tr>\n    <tr>\n      <th>248</th>\n      <td>249</td>\n      <td>Rockstar</td>\n      <td>1839596</td>\n    </tr>\n    <tr>\n      <th>249</th>\n      <td>250</td>\n      <td>Oye Lucky! Lucky Oye!</td>\n      <td>1292703</td>\n    </tr>\n  </tbody>\n</table>\n<p>250 rows × 3 columns</p>\n</div>"
     },
     "execution_count": 2,
     "metadata": {},
     "output_type": "execute_result"
    }
   ],
   "source": [
    "movies = MovieList()\n",
    "Top_250_ind_movies = movies.get_top250_ind_mov()\n",
    "Top_250_ind_movies"
   ],
   "metadata": {
    "collapsed": false,
    "pycharm": {
     "name": "#%%\n"
    }
   }
  },
  {
   "cell_type": "code",
   "execution_count": 3,
   "outputs": [
    {
     "name": "stdout",
     "output_type": "stream",
     "text": [
      "1, 2, 3, 4, 5, 6, 7, 8, 9, 10, 11, 12, 13, 14, 15, 16, 17, 18, 19, 20, 21, 22, 23, 24, 25, 26, 27, 28, 29, 30, 31, 32, 33, 34, 35, 36, 37, 38, 39, 40, 41, 42, 43, 44, 45, 46, 47, 48, 49, 50, 51, 52, 53, 54, 55, 56, 57, 58, 59, 60, 61, 62, 63, 64, 65, 66, 67, 68, 69, 70, 71, 72, 73, 74, 75, 76, 77, 78, 79, 80, 81, 82, 83, 84, 85, 86, 87, 88, 89, 90, 91, 92, 93, 94, 95, 96, 97, 98, 99, 100, 101, 102, 103, 104, 105, 106, 107, 108, 109, 110, 111, 112, 113, 114, 115, 116, 117, 118, 119, 120, 121, 122, 123, 124, 125, 126, 127, 128, 129, 130, 131, 132, 133, 134, 135, 136, 137, 138, 139, 140, 141, 142, 143, 144, 145, 146, 147, 148, 149, 150, 151, 152, 153, 154, 155, 156, 157, 158, 159, 160, 161, 162, 163, 164, 165, 166, 167, 168, 169, 170, 171, 172, 173, 174, 175, 176, 177, 178, 179, 180, 181, 182, 183, 184, 185, 186, 187, 188, 189, 190, 191, 192, 193, 194, 195, 196, 197, 198, 199, 200, 201, 202, 203, 204, 205, 206, 207, 208, 209, 210, 211, 212, 213, 214, 215, 216, 217, 218, 219, 220, 221, 222, 223, 224, 225, 226, 227, 228, 229, 230, 231, 232, 233, 234, 235, 236, 237, 238, 239, 240, 241, 242, 243, 244, 245, 246, 247, 248, 249, 250, \n",
      "\n",
      "CPU times: user 1h 40min 7s, sys: 7min 32s, total: 1h 47min 39s\n",
      "Wall time: 3h 27min 25s\n"
     ]
    },
    {
     "data": {
      "text/plain": "     Top            Movie Title   MovieID  Rating  Year             Languages  \\\n0      1               Jai Bhim  15097216     8.9  2021  Tamil, Hindi, Telugu   \n1      2             Anbe Sivam   0367495     8.7  2003                 Tamil   \n2      3            Hanky Panky   0079221     8.5  1979                 Hindi   \n3      4                Nayakan   0093603     8.6  1987          Hindi, Tamil   \n4      5      Pariyerum Perumal   8176054     8.7  2018                 Tamil   \n..   ...                    ...       ...     ...   ...                   ...   \n245  246           Colour Photo  13097434     8.2  2020                Telugu   \n246  247                     24   4981966     7.9  2016                 Tamil   \n247  248  Velaiyilla Pattathari   3822396     7.8  2014                 Tamil   \n248  249               Rockstar   1839596     7.7  2011                 Hindi   \n249  250  Oye Lucky! Lucky Oye!   1292703     7.7  2008                 Hindi   \n\n                                               Genres  \\\n0                               Crime, Drama, Mystery   \n1                            Adventure, Comedy, Drama   \n2                                     Comedy, Romance   \n3                                        Crime, Drama   \n4                                               Drama   \n..                                                ...   \n245                                             Drama   \n246  Action, Comedy, Drama, Musical, Sci-Fi, Thriller   \n247                             Action, Comedy, Drama   \n248                             Drama, Music, Romance   \n249                      Action, Comedy, Crime, Drama   \n\n                                                  Plot  \\\n0    Rajakannu and his wife Sengeni belong to a low...   \n1    Evocative and provocative, this masterfully cr...   \n2    Ramprasad is a recent college graduate who fin...   \n3    A small boy (Ratnavelu) from Tamilnadu sees hi...   \n4                                                 <NA>   \n..                                                 ...   \n245  Jayakrishna is a dark-skinned guy who falls he...   \n246  A Sci-Fi family revenge drama happening betwee...   \n247  Raghuvaran (Dhanush) is an unemployed engineer...   \n248  The film follows Janardhan Jhakar in a series ...   \n249  Inspired by the incredible true story of Lucky...   \n\n                    Directors  \\\n0               T.J. Gnanavel   \n1                   Sundar C.   \n2        Hrishikesh Mukherjee   \n3                 Mani Ratnam   \n4    Mari Selvaraj, Prabunath   \n..                        ...   \n245               Sandeep Raj   \n246           Vikram K. Kumar   \n247                    Velraj   \n248                Imtiaz Ali   \n249          Dibakar Banerjee   \n\n                                                Actors  Subjectivity  \\\n0    Suriya, Lijo Mol Jose, Manikandan K., Rajisha ...      0.600009   \n1    Kamal Haasan, Madhavan, Kiran Rathod, Nassar, ...      0.499269   \n2    Amol Palekar, Bindiya Goswami, Deven Verma, Sh...      0.560177   \n3    Kamal Haasan, Saranya Ponvannan, Delhi Ganesh,...      0.539775   \n4    Kathir, Anandhi, Yogi Babu, Lijeesh, Hari Kris...      0.526484   \n..                                                 ...           ...   \n245  Suhas, Chandini Chowdary, Sunil, Harsha Chemud...      0.618135   \n246  Suriya, Samantha Ruth Prabhu, Nithya Menen, Sa...      0.537231   \n247  Dhanush, Saranya Ponvannan, Amala Paul, Samuth...      0.560025   \n248  Ranbir Kapoor, Nargis Fakhri, Shammi Kapoor, K...      0.535715   \n249  Abhay Deol, Paresh Rawal, Nitu Chandra, Archan...      0.597033   \n\n     Polarity Common Sentiment  \\\n0    0.354810         Positive   \n1    0.251624         Positive   \n2    0.299482         Positive   \n3    0.321526         Positive   \n4    0.289215         Positive   \n..        ...              ...   \n245  0.370019         Positive   \n246  0.236553         Positive   \n247  0.397238         Positive   \n248  0.245767         Positive   \n249  0.304892         Positive   \n\n                                         Emotion Scale  \n0    {'Happy': 0.1852, 'Angry': 0.0916, 'Surprise':...  \n1    {'Happy': 0.1648, 'Angry': 0.0332, 'Surprise':...  \n2    {'Happy': 0.2172, 'Angry': 0.0376, 'Surprise':...  \n3    {'Happy': 0.1844, 'Angry': 0.0592, 'Surprise':...  \n4    {'Happy': 0.14, 'Angry': 0.046, 'Surprise': 0....  \n..                                                 ...  \n245  {'Happy': 0.268, 'Angry': 0.0368, 'Surprise': ...  \n246  {'Happy': 0.142, 'Angry': 0.0388, 'Surprise': ...  \n247  {'Happy': 0.2753, 'Angry': 0.0347, 'Surprise':...  \n248  {'Happy': 0.1812, 'Angry': 0.0532, 'Surprise':...  \n249  {'Happy': 0.2836, 'Angry': 0.0324, 'Surprise':...  \n\n[250 rows x 14 columns]",
      "text/html": "<div>\n<style scoped>\n    .dataframe tbody tr th:only-of-type {\n        vertical-align: middle;\n    }\n\n    .dataframe tbody tr th {\n        vertical-align: top;\n    }\n\n    .dataframe thead th {\n        text-align: right;\n    }\n</style>\n<table border=\"1\" class=\"dataframe\">\n  <thead>\n    <tr style=\"text-align: right;\">\n      <th></th>\n      <th>Top</th>\n      <th>Movie Title</th>\n      <th>MovieID</th>\n      <th>Rating</th>\n      <th>Year</th>\n      <th>Languages</th>\n      <th>Genres</th>\n      <th>Plot</th>\n      <th>Directors</th>\n      <th>Actors</th>\n      <th>Subjectivity</th>\n      <th>Polarity</th>\n      <th>Common Sentiment</th>\n      <th>Emotion Scale</th>\n    </tr>\n  </thead>\n  <tbody>\n    <tr>\n      <th>0</th>\n      <td>1</td>\n      <td>Jai Bhim</td>\n      <td>15097216</td>\n      <td>8.9</td>\n      <td>2021</td>\n      <td>Tamil, Hindi, Telugu</td>\n      <td>Crime, Drama, Mystery</td>\n      <td>Rajakannu and his wife Sengeni belong to a low...</td>\n      <td>T.J. Gnanavel</td>\n      <td>Suriya, Lijo Mol Jose, Manikandan K., Rajisha ...</td>\n      <td>0.600009</td>\n      <td>0.354810</td>\n      <td>Positive</td>\n      <td>{'Happy': 0.1852, 'Angry': 0.0916, 'Surprise':...</td>\n    </tr>\n    <tr>\n      <th>1</th>\n      <td>2</td>\n      <td>Anbe Sivam</td>\n      <td>0367495</td>\n      <td>8.7</td>\n      <td>2003</td>\n      <td>Tamil</td>\n      <td>Adventure, Comedy, Drama</td>\n      <td>Evocative and provocative, this masterfully cr...</td>\n      <td>Sundar C.</td>\n      <td>Kamal Haasan, Madhavan, Kiran Rathod, Nassar, ...</td>\n      <td>0.499269</td>\n      <td>0.251624</td>\n      <td>Positive</td>\n      <td>{'Happy': 0.1648, 'Angry': 0.0332, 'Surprise':...</td>\n    </tr>\n    <tr>\n      <th>2</th>\n      <td>3</td>\n      <td>Hanky Panky</td>\n      <td>0079221</td>\n      <td>8.5</td>\n      <td>1979</td>\n      <td>Hindi</td>\n      <td>Comedy, Romance</td>\n      <td>Ramprasad is a recent college graduate who fin...</td>\n      <td>Hrishikesh Mukherjee</td>\n      <td>Amol Palekar, Bindiya Goswami, Deven Verma, Sh...</td>\n      <td>0.560177</td>\n      <td>0.299482</td>\n      <td>Positive</td>\n      <td>{'Happy': 0.2172, 'Angry': 0.0376, 'Surprise':...</td>\n    </tr>\n    <tr>\n      <th>3</th>\n      <td>4</td>\n      <td>Nayakan</td>\n      <td>0093603</td>\n      <td>8.6</td>\n      <td>1987</td>\n      <td>Hindi, Tamil</td>\n      <td>Crime, Drama</td>\n      <td>A small boy (Ratnavelu) from Tamilnadu sees hi...</td>\n      <td>Mani Ratnam</td>\n      <td>Kamal Haasan, Saranya Ponvannan, Delhi Ganesh,...</td>\n      <td>0.539775</td>\n      <td>0.321526</td>\n      <td>Positive</td>\n      <td>{'Happy': 0.1844, 'Angry': 0.0592, 'Surprise':...</td>\n    </tr>\n    <tr>\n      <th>4</th>\n      <td>5</td>\n      <td>Pariyerum Perumal</td>\n      <td>8176054</td>\n      <td>8.7</td>\n      <td>2018</td>\n      <td>Tamil</td>\n      <td>Drama</td>\n      <td>&lt;NA&gt;</td>\n      <td>Mari Selvaraj, Prabunath</td>\n      <td>Kathir, Anandhi, Yogi Babu, Lijeesh, Hari Kris...</td>\n      <td>0.526484</td>\n      <td>0.289215</td>\n      <td>Positive</td>\n      <td>{'Happy': 0.14, 'Angry': 0.046, 'Surprise': 0....</td>\n    </tr>\n    <tr>\n      <th>...</th>\n      <td>...</td>\n      <td>...</td>\n      <td>...</td>\n      <td>...</td>\n      <td>...</td>\n      <td>...</td>\n      <td>...</td>\n      <td>...</td>\n      <td>...</td>\n      <td>...</td>\n      <td>...</td>\n      <td>...</td>\n      <td>...</td>\n      <td>...</td>\n    </tr>\n    <tr>\n      <th>245</th>\n      <td>246</td>\n      <td>Colour Photo</td>\n      <td>13097434</td>\n      <td>8.2</td>\n      <td>2020</td>\n      <td>Telugu</td>\n      <td>Drama</td>\n      <td>Jayakrishna is a dark-skinned guy who falls he...</td>\n      <td>Sandeep Raj</td>\n      <td>Suhas, Chandini Chowdary, Sunil, Harsha Chemud...</td>\n      <td>0.618135</td>\n      <td>0.370019</td>\n      <td>Positive</td>\n      <td>{'Happy': 0.268, 'Angry': 0.0368, 'Surprise': ...</td>\n    </tr>\n    <tr>\n      <th>246</th>\n      <td>247</td>\n      <td>24</td>\n      <td>4981966</td>\n      <td>7.9</td>\n      <td>2016</td>\n      <td>Tamil</td>\n      <td>Action, Comedy, Drama, Musical, Sci-Fi, Thriller</td>\n      <td>A Sci-Fi family revenge drama happening betwee...</td>\n      <td>Vikram K. Kumar</td>\n      <td>Suriya, Samantha Ruth Prabhu, Nithya Menen, Sa...</td>\n      <td>0.537231</td>\n      <td>0.236553</td>\n      <td>Positive</td>\n      <td>{'Happy': 0.142, 'Angry': 0.0388, 'Surprise': ...</td>\n    </tr>\n    <tr>\n      <th>247</th>\n      <td>248</td>\n      <td>Velaiyilla Pattathari</td>\n      <td>3822396</td>\n      <td>7.8</td>\n      <td>2014</td>\n      <td>Tamil</td>\n      <td>Action, Comedy, Drama</td>\n      <td>Raghuvaran (Dhanush) is an unemployed engineer...</td>\n      <td>Velraj</td>\n      <td>Dhanush, Saranya Ponvannan, Amala Paul, Samuth...</td>\n      <td>0.560025</td>\n      <td>0.397238</td>\n      <td>Positive</td>\n      <td>{'Happy': 0.2753, 'Angry': 0.0347, 'Surprise':...</td>\n    </tr>\n    <tr>\n      <th>248</th>\n      <td>249</td>\n      <td>Rockstar</td>\n      <td>1839596</td>\n      <td>7.7</td>\n      <td>2011</td>\n      <td>Hindi</td>\n      <td>Drama, Music, Romance</td>\n      <td>The film follows Janardhan Jhakar in a series ...</td>\n      <td>Imtiaz Ali</td>\n      <td>Ranbir Kapoor, Nargis Fakhri, Shammi Kapoor, K...</td>\n      <td>0.535715</td>\n      <td>0.245767</td>\n      <td>Positive</td>\n      <td>{'Happy': 0.1812, 'Angry': 0.0532, 'Surprise':...</td>\n    </tr>\n    <tr>\n      <th>249</th>\n      <td>250</td>\n      <td>Oye Lucky! Lucky Oye!</td>\n      <td>1292703</td>\n      <td>7.7</td>\n      <td>2008</td>\n      <td>Hindi</td>\n      <td>Action, Comedy, Crime, Drama</td>\n      <td>Inspired by the incredible true story of Lucky...</td>\n      <td>Dibakar Banerjee</td>\n      <td>Abhay Deol, Paresh Rawal, Nitu Chandra, Archan...</td>\n      <td>0.597033</td>\n      <td>0.304892</td>\n      <td>Positive</td>\n      <td>{'Happy': 0.2836, 'Angry': 0.0324, 'Surprise':...</td>\n    </tr>\n  </tbody>\n</table>\n<p>250 rows × 14 columns</p>\n</div>"
     },
     "execution_count": 3,
     "metadata": {},
     "output_type": "execute_result"
    }
   ],
   "source": [
    "%%time\n",
    "list_df = []\n",
    "list_df2 = []\n",
    "for _id in Top_250_ind_movies['Top']:\n",
    "    movie = Movie(movie_id=Top_250_ind_movies['MovieID'][_id-1])\n",
    "    n_movie = Movie(movie_id=Top_250_ind_movies['MovieID'][_id-1])\n",
    "    b_movie = Movie(movie_id=Top_250_ind_movies['MovieID'][_id-1])\n",
    "    row = movie.get_movie_row()\n",
    "    list_df.append(row)\n",
    "    row2 = n_movie.get_movie_sent_emo_row()\n",
    "    list_df2.append(row2)\n",
    "    filename = f\"{Top_250_ind_movies['Movie Title'][_id-1]}\".replace('/', '|')\n",
    "    # if not Path(f\"data/all_indiv/{filename}.csv\").is_file():\n",
    "    df_reviews = b_movie.get_movie_review_df()\n",
    "    df_reviews.to_csv(f\"data/all_indiv/{filename}.csv\", index=False)\n",
    "    print(_id, end=', ')\n",
    "print('\\n')\n",
    "df_row_join = pd.DataFrame(list_df, columns=['Rating', 'Year', 'Languages', 'Genres', 'Plot', 'Directors', 'Actors'])\n",
    "df2_join = pd.DataFrame(list_df2, columns=['Subjectivity', 'Polarity', 'Common Sentiment', 'Emotion Scale'])\n",
    "df_row_join = df_row_join.join(df2_join)\n",
    "Top_250_ind_movies_to_csv = Top_250_ind_movies.join(df_row_join)\n",
    "Top_250_ind_movies_to_csv"
   ],
   "metadata": {
    "collapsed": false,
    "pycharm": {
     "name": "#%%\n"
    }
   }
  },
  {
   "cell_type": "code",
   "execution_count": 5,
   "outputs": [],
   "source": [
    "Top_250_ind_movies_to_csv.to_csv(\"data/top/Top 250 Indian Movies.csv\", index=False)"
   ],
   "metadata": {
    "collapsed": false,
    "pycharm": {
     "name": "#%%\n"
    }
   }
  },
  {
   "cell_type": "code",
   "execution_count": 6,
   "outputs": [
    {
     "data": {
      "text/plain": "     Top            Movie Title   MovieID  Rating  Year             Languages  \\\n0      1               Jai Bhim  15097216     8.9  2021  Tamil, Hindi, Telugu   \n1      2             Anbe Sivam   0367495     8.7  2003                 Tamil   \n2      3            Hanky Panky   0079221     8.5  1979                 Hindi   \n3      4                Nayakan   0093603     8.6  1987          Hindi, Tamil   \n4      5      Pariyerum Perumal   8176054     8.7  2018                 Tamil   \n..   ...                    ...       ...     ...   ...                   ...   \n245  246           Colour Photo  13097434     8.2  2020                Telugu   \n246  247                     24   4981966     7.9  2016                 Tamil   \n247  248  Velaiyilla Pattathari   3822396     7.8  2014                 Tamil   \n248  249               Rockstar   1839596     7.7  2011                 Hindi   \n249  250  Oye Lucky! Lucky Oye!   1292703     7.7  2008                 Hindi   \n\n                                               Genres  \\\n0                               Crime, Drama, Mystery   \n1                            Adventure, Comedy, Drama   \n2                                     Comedy, Romance   \n3                                        Crime, Drama   \n4                                               Drama   \n..                                                ...   \n245                                             Drama   \n246  Action, Comedy, Drama, Musical, Sci-Fi, Thriller   \n247                             Action, Comedy, Drama   \n248                             Drama, Music, Romance   \n249                      Action, Comedy, Crime, Drama   \n\n                                                  Plot  \\\n0    Rajakannu and his wife Sengeni belong to a low...   \n1    Evocative and provocative, this masterfully cr...   \n2    Ramprasad is a recent college graduate who fin...   \n3    A small boy (Ratnavelu) from Tamilnadu sees hi...   \n4                                                 <NA>   \n..                                                 ...   \n245  Jayakrishna is a dark-skinned guy who falls he...   \n246  A Sci-Fi family revenge drama happening betwee...   \n247  Raghuvaran (Dhanush) is an unemployed engineer...   \n248  The film follows Janardhan Jhakar in a series ...   \n249  Inspired by the incredible true story of Lucky...   \n\n                    Directors  \\\n0               T.J. Gnanavel   \n1                   Sundar C.   \n2        Hrishikesh Mukherjee   \n3                 Mani Ratnam   \n4    Mari Selvaraj, Prabunath   \n..                        ...   \n245               Sandeep Raj   \n246           Vikram K. Kumar   \n247                    Velraj   \n248                Imtiaz Ali   \n249          Dibakar Banerjee   \n\n                                                Actors  Subjectivity  \\\n0    Suriya, Lijo Mol Jose, Manikandan K., Rajisha ...      0.600009   \n1    Kamal Haasan, Madhavan, Kiran Rathod, Nassar, ...      0.499269   \n2    Amol Palekar, Bindiya Goswami, Deven Verma, Sh...      0.560177   \n3    Kamal Haasan, Saranya Ponvannan, Delhi Ganesh,...      0.539775   \n4    Kathir, Anandhi, Yogi Babu, Lijeesh, Hari Kris...      0.526484   \n..                                                 ...           ...   \n245  Suhas, Chandini Chowdary, Sunil, Harsha Chemud...      0.618135   \n246  Suriya, Samantha Ruth Prabhu, Nithya Menen, Sa...      0.537231   \n247  Dhanush, Saranya Ponvannan, Amala Paul, Samuth...      0.560025   \n248  Ranbir Kapoor, Nargis Fakhri, Shammi Kapoor, K...      0.535715   \n249  Abhay Deol, Paresh Rawal, Nitu Chandra, Archan...      0.597033   \n\n     Polarity Common Sentiment  \\\n0    0.354810         Positive   \n1    0.251624         Positive   \n2    0.299482         Positive   \n3    0.321526         Positive   \n4    0.289215         Positive   \n..        ...              ...   \n245  0.370019         Positive   \n246  0.236553         Positive   \n247  0.397238         Positive   \n248  0.245767         Positive   \n249  0.304892         Positive   \n\n                                         Emotion Scale  \n0    {'Happy': 0.1852, 'Angry': 0.0916, 'Surprise':...  \n1    {'Happy': 0.1648, 'Angry': 0.0332, 'Surprise':...  \n2    {'Happy': 0.2172, 'Angry': 0.0376, 'Surprise':...  \n3    {'Happy': 0.1844, 'Angry': 0.0592, 'Surprise':...  \n4    {'Happy': 0.14, 'Angry': 0.046, 'Surprise': 0....  \n..                                                 ...  \n245  {'Happy': 0.268, 'Angry': 0.0368, 'Surprise': ...  \n246  {'Happy': 0.142, 'Angry': 0.0388, 'Surprise': ...  \n247  {'Happy': 0.2753, 'Angry': 0.0347, 'Surprise':...  \n248  {'Happy': 0.1812, 'Angry': 0.0532, 'Surprise':...  \n249  {'Happy': 0.2836, 'Angry': 0.0324, 'Surprise':...  \n\n[250 rows x 14 columns]",
      "text/html": "<div>\n<style scoped>\n    .dataframe tbody tr th:only-of-type {\n        vertical-align: middle;\n    }\n\n    .dataframe tbody tr th {\n        vertical-align: top;\n    }\n\n    .dataframe thead th {\n        text-align: right;\n    }\n</style>\n<table border=\"1\" class=\"dataframe\">\n  <thead>\n    <tr style=\"text-align: right;\">\n      <th></th>\n      <th>Top</th>\n      <th>Movie Title</th>\n      <th>MovieID</th>\n      <th>Rating</th>\n      <th>Year</th>\n      <th>Languages</th>\n      <th>Genres</th>\n      <th>Plot</th>\n      <th>Directors</th>\n      <th>Actors</th>\n      <th>Subjectivity</th>\n      <th>Polarity</th>\n      <th>Common Sentiment</th>\n      <th>Emotion Scale</th>\n    </tr>\n  </thead>\n  <tbody>\n    <tr>\n      <th>0</th>\n      <td>1</td>\n      <td>Jai Bhim</td>\n      <td>15097216</td>\n      <td>8.9</td>\n      <td>2021</td>\n      <td>Tamil, Hindi, Telugu</td>\n      <td>Crime, Drama, Mystery</td>\n      <td>Rajakannu and his wife Sengeni belong to a low...</td>\n      <td>T.J. Gnanavel</td>\n      <td>Suriya, Lijo Mol Jose, Manikandan K., Rajisha ...</td>\n      <td>0.600009</td>\n      <td>0.354810</td>\n      <td>Positive</td>\n      <td>{'Happy': 0.1852, 'Angry': 0.0916, 'Surprise':...</td>\n    </tr>\n    <tr>\n      <th>1</th>\n      <td>2</td>\n      <td>Anbe Sivam</td>\n      <td>0367495</td>\n      <td>8.7</td>\n      <td>2003</td>\n      <td>Tamil</td>\n      <td>Adventure, Comedy, Drama</td>\n      <td>Evocative and provocative, this masterfully cr...</td>\n      <td>Sundar C.</td>\n      <td>Kamal Haasan, Madhavan, Kiran Rathod, Nassar, ...</td>\n      <td>0.499269</td>\n      <td>0.251624</td>\n      <td>Positive</td>\n      <td>{'Happy': 0.1648, 'Angry': 0.0332, 'Surprise':...</td>\n    </tr>\n    <tr>\n      <th>2</th>\n      <td>3</td>\n      <td>Hanky Panky</td>\n      <td>0079221</td>\n      <td>8.5</td>\n      <td>1979</td>\n      <td>Hindi</td>\n      <td>Comedy, Romance</td>\n      <td>Ramprasad is a recent college graduate who fin...</td>\n      <td>Hrishikesh Mukherjee</td>\n      <td>Amol Palekar, Bindiya Goswami, Deven Verma, Sh...</td>\n      <td>0.560177</td>\n      <td>0.299482</td>\n      <td>Positive</td>\n      <td>{'Happy': 0.2172, 'Angry': 0.0376, 'Surprise':...</td>\n    </tr>\n    <tr>\n      <th>3</th>\n      <td>4</td>\n      <td>Nayakan</td>\n      <td>0093603</td>\n      <td>8.6</td>\n      <td>1987</td>\n      <td>Hindi, Tamil</td>\n      <td>Crime, Drama</td>\n      <td>A small boy (Ratnavelu) from Tamilnadu sees hi...</td>\n      <td>Mani Ratnam</td>\n      <td>Kamal Haasan, Saranya Ponvannan, Delhi Ganesh,...</td>\n      <td>0.539775</td>\n      <td>0.321526</td>\n      <td>Positive</td>\n      <td>{'Happy': 0.1844, 'Angry': 0.0592, 'Surprise':...</td>\n    </tr>\n    <tr>\n      <th>4</th>\n      <td>5</td>\n      <td>Pariyerum Perumal</td>\n      <td>8176054</td>\n      <td>8.7</td>\n      <td>2018</td>\n      <td>Tamil</td>\n      <td>Drama</td>\n      <td>&lt;NA&gt;</td>\n      <td>Mari Selvaraj, Prabunath</td>\n      <td>Kathir, Anandhi, Yogi Babu, Lijeesh, Hari Kris...</td>\n      <td>0.526484</td>\n      <td>0.289215</td>\n      <td>Positive</td>\n      <td>{'Happy': 0.14, 'Angry': 0.046, 'Surprise': 0....</td>\n    </tr>\n    <tr>\n      <th>...</th>\n      <td>...</td>\n      <td>...</td>\n      <td>...</td>\n      <td>...</td>\n      <td>...</td>\n      <td>...</td>\n      <td>...</td>\n      <td>...</td>\n      <td>...</td>\n      <td>...</td>\n      <td>...</td>\n      <td>...</td>\n      <td>...</td>\n      <td>...</td>\n    </tr>\n    <tr>\n      <th>245</th>\n      <td>246</td>\n      <td>Colour Photo</td>\n      <td>13097434</td>\n      <td>8.2</td>\n      <td>2020</td>\n      <td>Telugu</td>\n      <td>Drama</td>\n      <td>Jayakrishna is a dark-skinned guy who falls he...</td>\n      <td>Sandeep Raj</td>\n      <td>Suhas, Chandini Chowdary, Sunil, Harsha Chemud...</td>\n      <td>0.618135</td>\n      <td>0.370019</td>\n      <td>Positive</td>\n      <td>{'Happy': 0.268, 'Angry': 0.0368, 'Surprise': ...</td>\n    </tr>\n    <tr>\n      <th>246</th>\n      <td>247</td>\n      <td>24</td>\n      <td>4981966</td>\n      <td>7.9</td>\n      <td>2016</td>\n      <td>Tamil</td>\n      <td>Action, Comedy, Drama, Musical, Sci-Fi, Thriller</td>\n      <td>A Sci-Fi family revenge drama happening betwee...</td>\n      <td>Vikram K. Kumar</td>\n      <td>Suriya, Samantha Ruth Prabhu, Nithya Menen, Sa...</td>\n      <td>0.537231</td>\n      <td>0.236553</td>\n      <td>Positive</td>\n      <td>{'Happy': 0.142, 'Angry': 0.0388, 'Surprise': ...</td>\n    </tr>\n    <tr>\n      <th>247</th>\n      <td>248</td>\n      <td>Velaiyilla Pattathari</td>\n      <td>3822396</td>\n      <td>7.8</td>\n      <td>2014</td>\n      <td>Tamil</td>\n      <td>Action, Comedy, Drama</td>\n      <td>Raghuvaran (Dhanush) is an unemployed engineer...</td>\n      <td>Velraj</td>\n      <td>Dhanush, Saranya Ponvannan, Amala Paul, Samuth...</td>\n      <td>0.560025</td>\n      <td>0.397238</td>\n      <td>Positive</td>\n      <td>{'Happy': 0.2753, 'Angry': 0.0347, 'Surprise':...</td>\n    </tr>\n    <tr>\n      <th>248</th>\n      <td>249</td>\n      <td>Rockstar</td>\n      <td>1839596</td>\n      <td>7.7</td>\n      <td>2011</td>\n      <td>Hindi</td>\n      <td>Drama, Music, Romance</td>\n      <td>The film follows Janardhan Jhakar in a series ...</td>\n      <td>Imtiaz Ali</td>\n      <td>Ranbir Kapoor, Nargis Fakhri, Shammi Kapoor, K...</td>\n      <td>0.535715</td>\n      <td>0.245767</td>\n      <td>Positive</td>\n      <td>{'Happy': 0.1812, 'Angry': 0.0532, 'Surprise':...</td>\n    </tr>\n    <tr>\n      <th>249</th>\n      <td>250</td>\n      <td>Oye Lucky! Lucky Oye!</td>\n      <td>1292703</td>\n      <td>7.7</td>\n      <td>2008</td>\n      <td>Hindi</td>\n      <td>Action, Comedy, Crime, Drama</td>\n      <td>Inspired by the incredible true story of Lucky...</td>\n      <td>Dibakar Banerjee</td>\n      <td>Abhay Deol, Paresh Rawal, Nitu Chandra, Archan...</td>\n      <td>0.597033</td>\n      <td>0.304892</td>\n      <td>Positive</td>\n      <td>{'Happy': 0.2836, 'Angry': 0.0324, 'Surprise':...</td>\n    </tr>\n  </tbody>\n</table>\n<p>250 rows × 14 columns</p>\n</div>"
     },
     "execution_count": 6,
     "metadata": {},
     "output_type": "execute_result"
    }
   ],
   "source": [
    "Top_250_ind_movies_to_csv"
   ],
   "metadata": {
    "collapsed": false,
    "pycharm": {
     "name": "#%%\n"
    }
   }
  },
  {
   "cell_type": "code",
   "execution_count": null,
   "outputs": [],
   "source": [],
   "metadata": {
    "collapsed": false,
    "pycharm": {
     "name": "#%%\n"
    }
   }
  }
 ],
 "metadata": {
  "kernelspec": {
   "display_name": "Python 3",
   "language": "python",
   "name": "python3"
  },
  "language_info": {
   "codemirror_mode": {
    "name": "ipython",
    "version": 2
   },
   "file_extension": ".py",
   "mimetype": "text/x-python",
   "name": "python",
   "nbconvert_exporter": "python",
   "pygments_lexer": "ipython2",
   "version": "2.7.6"
  }
 },
 "nbformat": 4,
 "nbformat_minor": 0
}