{
 "cells": [
  {
   "cell_type": "code",
   "execution_count": 9,
   "outputs": [],
   "source": [
    "from Movie import Movie\n",
    "from MovieList import MovieList\n",
    "\n",
    "import pandas as pd\n",
    "import numpy as np\n",
    "\n",
    "from pathlib import Path\n",
    "\n",
    "import asyncio"
   ],
   "metadata": {
    "collapsed": false,
    "pycharm": {
     "name": "#%%\n"
    }
   }
  },
  {
   "cell_type": "code",
   "execution_count": 10,
   "outputs": [
    {
     "data": {
      "text/plain": "     Top               Movie Title   MovieID\n0      1  The Shawshank Redemption   0111161\n1      2             The Godfather   0068646\n2      3           The Dark Knight   0468569\n3      4     The Godfather Part II   0071562\n4      5              12 Angry Men   0050083\n..   ...                       ...       ...\n245  246                  Jai Bhim  15097216\n246  247                   Aladdin   0103639\n247  248                    Gandhi   0083987\n248  249                  The Help   1454029\n249  250      Beauty and the Beast   0101414\n\n[250 rows x 3 columns]",
      "text/html": "<div>\n<style scoped>\n    .dataframe tbody tr th:only-of-type {\n        vertical-align: middle;\n    }\n\n    .dataframe tbody tr th {\n        vertical-align: top;\n    }\n\n    .dataframe thead th {\n        text-align: right;\n    }\n</style>\n<table border=\"1\" class=\"dataframe\">\n  <thead>\n    <tr style=\"text-align: right;\">\n      <th></th>\n      <th>Top</th>\n      <th>Movie Title</th>\n      <th>MovieID</th>\n    </tr>\n  </thead>\n  <tbody>\n    <tr>\n      <th>0</th>\n      <td>1</td>\n      <td>The Shawshank Redemption</td>\n      <td>0111161</td>\n    </tr>\n    <tr>\n      <th>1</th>\n      <td>2</td>\n      <td>The Godfather</td>\n      <td>0068646</td>\n    </tr>\n    <tr>\n      <th>2</th>\n      <td>3</td>\n      <td>The Dark Knight</td>\n      <td>0468569</td>\n    </tr>\n    <tr>\n      <th>3</th>\n      <td>4</td>\n      <td>The Godfather Part II</td>\n      <td>0071562</td>\n    </tr>\n    <tr>\n      <th>4</th>\n      <td>5</td>\n      <td>12 Angry Men</td>\n      <td>0050083</td>\n    </tr>\n    <tr>\n      <th>...</th>\n      <td>...</td>\n      <td>...</td>\n      <td>...</td>\n    </tr>\n    <tr>\n      <th>245</th>\n      <td>246</td>\n      <td>Jai Bhim</td>\n      <td>15097216</td>\n    </tr>\n    <tr>\n      <th>246</th>\n      <td>247</td>\n      <td>Aladdin</td>\n      <td>0103639</td>\n    </tr>\n    <tr>\n      <th>247</th>\n      <td>248</td>\n      <td>Gandhi</td>\n      <td>0083987</td>\n    </tr>\n    <tr>\n      <th>248</th>\n      <td>249</td>\n      <td>The Help</td>\n      <td>1454029</td>\n    </tr>\n    <tr>\n      <th>249</th>\n      <td>250</td>\n      <td>Beauty and the Beast</td>\n      <td>0101414</td>\n    </tr>\n  </tbody>\n</table>\n<p>250 rows × 3 columns</p>\n</div>"
     },
     "execution_count": 10,
     "metadata": {},
     "output_type": "execute_result"
    }
   ],
   "source": [
    "movies = MovieList()\n",
    "Top_250_movies = movies.get_top250_mov()\n",
    "Top_250_movies"
   ],
   "metadata": {
    "collapsed": false,
    "pycharm": {
     "name": "#%%\n"
    }
   }
  },
  {
   "cell_type": "code",
   "execution_count": 11,
   "outputs": [],
   "source": [
    "# Top_250_movies[''] = Movie()"
   ],
   "metadata": {
    "collapsed": false,
    "pycharm": {
     "name": "#%%\n"
    }
   }
  },
  {
   "cell_type": "code",
   "execution_count": 12,
   "outputs": [],
   "source": [
    "# df_row_join = pd.DataFrame(columns=['Rating', 'Year', 'Languages', 'Genres', 'Plot', 'Directors', 'Actors'])\n",
    "# for _id in Top_250_movies['MovieID']:\n",
    "#     movie = Movie(_id)\n",
    "#     row = movie.movie_row\n",
    "#     df_row_join.loc[len(df_row_join)] = row\n",
    "# df_row_join"
   ],
   "metadata": {
    "collapsed": false,
    "pycharm": {
     "name": "#%%\n"
    }
   }
  },
  {
   "cell_type": "code",
   "execution_count": 13,
   "outputs": [],
   "source": [
    "id0 = Top_250_movies['MovieID'][0]"
   ],
   "metadata": {
    "collapsed": false,
    "pycharm": {
     "name": "#%%\n"
    }
   }
  },
  {
   "cell_type": "code",
   "execution_count": 14,
   "outputs": [],
   "source": [
    "movie = Movie(movie_id=id0)\n",
    "# movie.movie_row"
   ],
   "metadata": {
    "collapsed": false,
    "pycharm": {
     "name": "#%%\n"
    }
   }
  },
  {
   "cell_type": "code",
   "execution_count": 15,
   "outputs": [
    {
     "name": "stdout",
     "output_type": "stream",
     "text": [
      "Top\n",
      "Movie Title\n",
      "MovieID\n"
     ]
    }
   ],
   "source": [
    "for gg in Top_250_movies:\n",
    "    print(gg)"
   ],
   "metadata": {
    "collapsed": false,
    "pycharm": {
     "name": "#%%\n"
    }
   }
  },
  {
   "cell_type": "code",
   "execution_count": 16,
   "outputs": [
    {
     "name": "stdout",
     "output_type": "stream",
     "text": [
      "1, 2, 3, 4, 5, 6, 7, 8, 9, 10, 11, 12, 13, 14, 15, 16, 17, 18, 19, 20, 21, 22, 23, 24, 25, 26, 27, 28, 29, 30, 31, 32, 33, 34, 35, 36, 37, 38, 39, 40, 41, 42, 43, 44, 45, 46, 47, 48, 49, 50, 51, 52, 53, 54, 55, 56, 57, 58, 59, 60, 61, 62, 63, 64, 65, 66, 67, 68, 69, 70, 71, 72, 73, 74, 75, 76, 77, 78, 79, 80, 81, 82, 83, 84, 85, 86, 87, 88, 89, 90, 91, 92, 93, 94, 95, 96, 97, 98, 99, 100, 101, 102, 103, 104, 105, 106, 107, 108, 109, 110, 111, 112, 113, 114, 115, 116, 117, 118, 119, 120, 121, 122, 123, 124, 125, 126, 127, 128, 129, 130, 131, 132, 133, 134, 135, 136, 137, 138, 139, 140, 141, 142, 143, 144, 145, 146, 147, 148, 149, 150, 151, 152, 153, 154, 155, 156, 157, 158, 159, 160, 161, 162, 163, 164, 165, 166, 167, 168, 169, 170, 171, 172, 173, 174, 175, 176, 177, 178, 179, 180, 181, 182, 183, 184, 185, 186, 187, 188, 189, 190, 191, 192, 193, 194, 195, 196, 197, 198, 199, 200, 201, 202, 203, 204, 205, 206, 207, 208, 209, 210, 211, 212, 213, 214, 215, 216, 217, 218, 219, 220, 221, 222, 223, 224, 225, 226, 227, 228, 229, 230, 231, 232, 233, 234, 235, 236, 237, 238, 239, 240, 241, 242, 243, 244, 245, 246, 247, 248, 249, 250, \n",
      "CPU times: user 2h 43min 14s, sys: 12min 35s, total: 2h 55min 50s\n",
      "Wall time: 4h 24min 29s\n"
     ]
    },
    {
     "data": {
      "text/plain": "     Top               Movie Title   MovieID  Rating  Year  \\\n0      1  The Shawshank Redemption   0111161     9.3  1994   \n1      2             The Godfather   0068646     9.2  1972   \n2      3           The Dark Knight   0468569     9.0  2008   \n3      4     The Godfather Part II   0071562     9.0  1974   \n4      5              12 Angry Men   0050083     9.0  1957   \n..   ...                       ...       ...     ...   ...   \n245  246                  Jai Bhim  15097216     8.9  2021   \n246  247                   Aladdin   0103639     8.0  1992   \n247  248                    Gandhi   0083987     8.1  1982   \n248  249                  The Help   1454029     8.1  2011   \n249  250      Beauty and the Beast   0101414     8.0  1991   \n\n                                      Languages  \\\n0                                       English   \n1                       English, Italian, Latin   \n2                             English, Mandarin   \n3    English, Italian, Spanish, Latin, Sicilian   \n4                                       English   \n..                                          ...   \n245                        Tamil, Hindi, Telugu   \n246                                     English   \n247                              English, Hindi   \n248                                     English   \n249                             English, French   \n\n                                                Genres  \\\n0                                                Drama   \n1                                         Crime, Drama   \n2                       Action, Crime, Drama, Thriller   \n3                                         Crime, Drama   \n4                                         Crime, Drama   \n..                                                 ...   \n245                              Crime, Drama, Mystery   \n246  Animation, Adventure, Comedy, Family, Fantasy,...   \n247                                   Biography, Drama   \n248                                              Drama   \n249       Animation, Family, Fantasy, Musical, Romance   \n\n                                                  Plot  \\\n0    Chronicles the experiences of a formerly succe...   \n1    The Godfather \"Don\" Vito Corleone is the head ...   \n2    Set within a year after the events of Batman B...   \n3    The continuing saga of the Corleone crime fami...   \n4    The defense and the prosecution have rested, a...   \n..                                                 ...   \n245  Rajakannu and his wife Sengeni belong to a low...   \n246  Aladdin is a poor street urchin who spends his...   \n247  In 1893, Mohandas K. Gandhi is thrown off a So...   \n248  Set in Mississippi during the 1960s, Skeeter (...   \n249  Having lived a life in selfishness, young Prin...   \n\n                     Directors  \\\n0               Frank Darabont   \n1         Francis Ford Coppola   \n2            Christopher Nolan   \n3         Francis Ford Coppola   \n4                 Sidney Lumet   \n..                         ...   \n245              T.J. Gnanavel   \n246  Ron Clements, John Musker   \n247       Richard Attenborough   \n248                Tate Taylor   \n249  Gary Trousdale, Kirk Wise   \n\n                                                Actors  Subjectivity  \\\n0    Tim Robbins, Morgan Freeman, Bob Gunton, Willi...      0.549926   \n1    Marlon Brando, Al Pacino, James Caan, Richard ...      0.574209   \n2    Christian Bale, Heath Ledger, Aaron Eckhart, M...      0.536259   \n3    Al Pacino, Robert Duvall, Diane Keaton, Robert...      0.592063   \n4    Martin Balsam, John Fiedler, Lee J. Cobb, E.G....      0.588905   \n..                                                 ...           ...   \n245  Suriya, Lijo Mol Jose, Manikandan K., Rajisha ...      0.600009   \n246  Scott Weinger, Robin Williams, Linda Larkin, J...      0.568534   \n247  Ben Kingsley, Rohini Hattangadi, Roshan Seth, ...      0.482517   \n248  Emma Stone, Viola Davis, Bryce Dallas Howard, ...      0.505584   \n249  Robby Benson, Jesse Corti, Rex Everhart, Angel...      0.569984   \n\n     Polarity Common Sentiment  \\\n0    0.303588         Positive   \n1    0.269673         Positive   \n2    0.317979         Positive   \n3    0.342123         Positive   \n4    0.212368         Positive   \n..        ...              ...   \n245  0.354810         Positive   \n246  0.295137         Positive   \n247  0.218215         Positive   \n248  0.122831         Positive   \n249  0.336097         Positive   \n\n                                         Emotion Scale  \n0    {'Happy': 0.164, 'Angry': 0.0572, 'Surprise': ...  \n1    {'Happy': 0.1108, 'Angry': 0.05, 'Surprise': 0...  \n2    {'Happy': 0.134, 'Angry': 0.0256, 'Surprise': ...  \n3    {'Happy': 0.138, 'Angry': 0.0368, 'Surprise': ...  \n4    {'Happy': 0.122, 'Angry': 0.058, 'Surprise': 0...  \n..                                                 ...  \n245  {'Happy': 0.1852, 'Angry': 0.0916, 'Surprise':...  \n246  {'Happy': 0.2556, 'Angry': 0.0472, 'Surprise':...  \n247  {'Happy': 0.1496, 'Angry': 0.0584, 'Surprise':...  \n248  {'Happy': 0.104, 'Angry': 0.0348, 'Surprise': ...  \n249  {'Happy': 0.2724, 'Angry': 0.0304, 'Surprise':...  \n\n[250 rows x 14 columns]",
      "text/html": "<div>\n<style scoped>\n    .dataframe tbody tr th:only-of-type {\n        vertical-align: middle;\n    }\n\n    .dataframe tbody tr th {\n        vertical-align: top;\n    }\n\n    .dataframe thead th {\n        text-align: right;\n    }\n</style>\n<table border=\"1\" class=\"dataframe\">\n  <thead>\n    <tr style=\"text-align: right;\">\n      <th></th>\n      <th>Top</th>\n      <th>Movie Title</th>\n      <th>MovieID</th>\n      <th>Rating</th>\n      <th>Year</th>\n      <th>Languages</th>\n      <th>Genres</th>\n      <th>Plot</th>\n      <th>Directors</th>\n      <th>Actors</th>\n      <th>Subjectivity</th>\n      <th>Polarity</th>\n      <th>Common Sentiment</th>\n      <th>Emotion Scale</th>\n    </tr>\n  </thead>\n  <tbody>\n    <tr>\n      <th>0</th>\n      <td>1</td>\n      <td>The Shawshank Redemption</td>\n      <td>0111161</td>\n      <td>9.3</td>\n      <td>1994</td>\n      <td>English</td>\n      <td>Drama</td>\n      <td>Chronicles the experiences of a formerly succe...</td>\n      <td>Frank Darabont</td>\n      <td>Tim Robbins, Morgan Freeman, Bob Gunton, Willi...</td>\n      <td>0.549926</td>\n      <td>0.303588</td>\n      <td>Positive</td>\n      <td>{'Happy': 0.164, 'Angry': 0.0572, 'Surprise': ...</td>\n    </tr>\n    <tr>\n      <th>1</th>\n      <td>2</td>\n      <td>The Godfather</td>\n      <td>0068646</td>\n      <td>9.2</td>\n      <td>1972</td>\n      <td>English, Italian, Latin</td>\n      <td>Crime, Drama</td>\n      <td>The Godfather \"Don\" Vito Corleone is the head ...</td>\n      <td>Francis Ford Coppola</td>\n      <td>Marlon Brando, Al Pacino, James Caan, Richard ...</td>\n      <td>0.574209</td>\n      <td>0.269673</td>\n      <td>Positive</td>\n      <td>{'Happy': 0.1108, 'Angry': 0.05, 'Surprise': 0...</td>\n    </tr>\n    <tr>\n      <th>2</th>\n      <td>3</td>\n      <td>The Dark Knight</td>\n      <td>0468569</td>\n      <td>9.0</td>\n      <td>2008</td>\n      <td>English, Mandarin</td>\n      <td>Action, Crime, Drama, Thriller</td>\n      <td>Set within a year after the events of Batman B...</td>\n      <td>Christopher Nolan</td>\n      <td>Christian Bale, Heath Ledger, Aaron Eckhart, M...</td>\n      <td>0.536259</td>\n      <td>0.317979</td>\n      <td>Positive</td>\n      <td>{'Happy': 0.134, 'Angry': 0.0256, 'Surprise': ...</td>\n    </tr>\n    <tr>\n      <th>3</th>\n      <td>4</td>\n      <td>The Godfather Part II</td>\n      <td>0071562</td>\n      <td>9.0</td>\n      <td>1974</td>\n      <td>English, Italian, Spanish, Latin, Sicilian</td>\n      <td>Crime, Drama</td>\n      <td>The continuing saga of the Corleone crime fami...</td>\n      <td>Francis Ford Coppola</td>\n      <td>Al Pacino, Robert Duvall, Diane Keaton, Robert...</td>\n      <td>0.592063</td>\n      <td>0.342123</td>\n      <td>Positive</td>\n      <td>{'Happy': 0.138, 'Angry': 0.0368, 'Surprise': ...</td>\n    </tr>\n    <tr>\n      <th>4</th>\n      <td>5</td>\n      <td>12 Angry Men</td>\n      <td>0050083</td>\n      <td>9.0</td>\n      <td>1957</td>\n      <td>English</td>\n      <td>Crime, Drama</td>\n      <td>The defense and the prosecution have rested, a...</td>\n      <td>Sidney Lumet</td>\n      <td>Martin Balsam, John Fiedler, Lee J. Cobb, E.G....</td>\n      <td>0.588905</td>\n      <td>0.212368</td>\n      <td>Positive</td>\n      <td>{'Happy': 0.122, 'Angry': 0.058, 'Surprise': 0...</td>\n    </tr>\n    <tr>\n      <th>...</th>\n      <td>...</td>\n      <td>...</td>\n      <td>...</td>\n      <td>...</td>\n      <td>...</td>\n      <td>...</td>\n      <td>...</td>\n      <td>...</td>\n      <td>...</td>\n      <td>...</td>\n      <td>...</td>\n      <td>...</td>\n      <td>...</td>\n      <td>...</td>\n    </tr>\n    <tr>\n      <th>245</th>\n      <td>246</td>\n      <td>Jai Bhim</td>\n      <td>15097216</td>\n      <td>8.9</td>\n      <td>2021</td>\n      <td>Tamil, Hindi, Telugu</td>\n      <td>Crime, Drama, Mystery</td>\n      <td>Rajakannu and his wife Sengeni belong to a low...</td>\n      <td>T.J. Gnanavel</td>\n      <td>Suriya, Lijo Mol Jose, Manikandan K., Rajisha ...</td>\n      <td>0.600009</td>\n      <td>0.354810</td>\n      <td>Positive</td>\n      <td>{'Happy': 0.1852, 'Angry': 0.0916, 'Surprise':...</td>\n    </tr>\n    <tr>\n      <th>246</th>\n      <td>247</td>\n      <td>Aladdin</td>\n      <td>0103639</td>\n      <td>8.0</td>\n      <td>1992</td>\n      <td>English</td>\n      <td>Animation, Adventure, Comedy, Family, Fantasy,...</td>\n      <td>Aladdin is a poor street urchin who spends his...</td>\n      <td>Ron Clements, John Musker</td>\n      <td>Scott Weinger, Robin Williams, Linda Larkin, J...</td>\n      <td>0.568534</td>\n      <td>0.295137</td>\n      <td>Positive</td>\n      <td>{'Happy': 0.2556, 'Angry': 0.0472, 'Surprise':...</td>\n    </tr>\n    <tr>\n      <th>247</th>\n      <td>248</td>\n      <td>Gandhi</td>\n      <td>0083987</td>\n      <td>8.1</td>\n      <td>1982</td>\n      <td>English, Hindi</td>\n      <td>Biography, Drama</td>\n      <td>In 1893, Mohandas K. Gandhi is thrown off a So...</td>\n      <td>Richard Attenborough</td>\n      <td>Ben Kingsley, Rohini Hattangadi, Roshan Seth, ...</td>\n      <td>0.482517</td>\n      <td>0.218215</td>\n      <td>Positive</td>\n      <td>{'Happy': 0.1496, 'Angry': 0.0584, 'Surprise':...</td>\n    </tr>\n    <tr>\n      <th>248</th>\n      <td>249</td>\n      <td>The Help</td>\n      <td>1454029</td>\n      <td>8.1</td>\n      <td>2011</td>\n      <td>English</td>\n      <td>Drama</td>\n      <td>Set in Mississippi during the 1960s, Skeeter (...</td>\n      <td>Tate Taylor</td>\n      <td>Emma Stone, Viola Davis, Bryce Dallas Howard, ...</td>\n      <td>0.505584</td>\n      <td>0.122831</td>\n      <td>Positive</td>\n      <td>{'Happy': 0.104, 'Angry': 0.0348, 'Surprise': ...</td>\n    </tr>\n    <tr>\n      <th>249</th>\n      <td>250</td>\n      <td>Beauty and the Beast</td>\n      <td>0101414</td>\n      <td>8.0</td>\n      <td>1991</td>\n      <td>English, French</td>\n      <td>Animation, Family, Fantasy, Musical, Romance</td>\n      <td>Having lived a life in selfishness, young Prin...</td>\n      <td>Gary Trousdale, Kirk Wise</td>\n      <td>Robby Benson, Jesse Corti, Rex Everhart, Angel...</td>\n      <td>0.569984</td>\n      <td>0.336097</td>\n      <td>Positive</td>\n      <td>{'Happy': 0.2724, 'Angry': 0.0304, 'Surprise':...</td>\n    </tr>\n  </tbody>\n</table>\n<p>250 rows × 14 columns</p>\n</div>"
     },
     "execution_count": 16,
     "metadata": {},
     "output_type": "execute_result"
    }
   ],
   "source": [
    "%%time\n",
    "list_df = []\n",
    "list_df2 = []\n",
    "for _id in Top_250_movies['Top']:\n",
    "    movie = Movie(movie_id=Top_250_movies['MovieID'][_id-1])\n",
    "    n_movie = Movie(movie_id=Top_250_movies['MovieID'][_id-1])\n",
    "    b_movie = Movie(movie_id=Top_250_movies['MovieID'][_id-1])\n",
    "    row = movie.get_movie_row()\n",
    "    list_df.append(row)\n",
    "    row2 = n_movie.get_movie_sent_emo_row()\n",
    "    list_df2.append(row2)\n",
    "    # if not Path(f\"data/all_indiv/{Top_250_movies['Movie Title'][_id-1]}.csv\").is_file():\n",
    "    df_reviews = b_movie.get_movie_review_df()\n",
    "    df_reviews.to_csv(f\"data/all_indiv/{Top_250_movies['Movie Title'][_id-1]}.csv\", index=False)\n",
    "    print(_id, end=', ')\n",
    "print()\n",
    "df_row_join = pd.DataFrame(list_df, columns=['Rating', 'Year', 'Languages', 'Genres', 'Plot', 'Directors', 'Actors'])\n",
    "df2_join = pd.DataFrame(list_df2, columns=['Subjectivity', 'Polarity', 'Common Sentiment', 'Emotion Scale'])\n",
    "df_row_join = df_row_join.join(df2_join)\n",
    "Top_250_movies_to_csv = Top_250_movies.join(df_row_join)\n",
    "Top_250_movies_to_csv.to_csv(\"data/top/Top 250 Movies.csv\", index=False)\n",
    "Top_250_movies_to_csv"
   ],
   "metadata": {
    "collapsed": false,
    "pycharm": {
     "name": "#%%\n"
    }
   }
  },
  {
   "cell_type": "code",
   "execution_count": 17,
   "outputs": [
    {
     "data": {
      "text/plain": "     Top               Movie Title   MovieID  Rating  Year  \\\n0      1  The Shawshank Redemption   0111161     9.3  1994   \n1      2             The Godfather   0068646     9.2  1972   \n2      3           The Dark Knight   0468569     9.0  2008   \n3      4     The Godfather Part II   0071562     9.0  1974   \n4      5              12 Angry Men   0050083     9.0  1957   \n..   ...                       ...       ...     ...   ...   \n245  246                  Jai Bhim  15097216     8.9  2021   \n246  247                   Aladdin   0103639     8.0  1992   \n247  248                    Gandhi   0083987     8.1  1982   \n248  249                  The Help   1454029     8.1  2011   \n249  250      Beauty and the Beast   0101414     8.0  1991   \n\n                                      Languages  \\\n0                                       English   \n1                       English, Italian, Latin   \n2                             English, Mandarin   \n3    English, Italian, Spanish, Latin, Sicilian   \n4                                       English   \n..                                          ...   \n245                        Tamil, Hindi, Telugu   \n246                                     English   \n247                              English, Hindi   \n248                                     English   \n249                             English, French   \n\n                                                Genres  \\\n0                                                Drama   \n1                                         Crime, Drama   \n2                       Action, Crime, Drama, Thriller   \n3                                         Crime, Drama   \n4                                         Crime, Drama   \n..                                                 ...   \n245                              Crime, Drama, Mystery   \n246  Animation, Adventure, Comedy, Family, Fantasy,...   \n247                                   Biography, Drama   \n248                                              Drama   \n249       Animation, Family, Fantasy, Musical, Romance   \n\n                                                  Plot  \\\n0    Chronicles the experiences of a formerly succe...   \n1    The Godfather \"Don\" Vito Corleone is the head ...   \n2    Set within a year after the events of Batman B...   \n3    The continuing saga of the Corleone crime fami...   \n4    The defense and the prosecution have rested, a...   \n..                                                 ...   \n245  Rajakannu and his wife Sengeni belong to a low...   \n246  Aladdin is a poor street urchin who spends his...   \n247  In 1893, Mohandas K. Gandhi is thrown off a So...   \n248  Set in Mississippi during the 1960s, Skeeter (...   \n249  Having lived a life in selfishness, young Prin...   \n\n                     Directors  \\\n0               Frank Darabont   \n1         Francis Ford Coppola   \n2            Christopher Nolan   \n3         Francis Ford Coppola   \n4                 Sidney Lumet   \n..                         ...   \n245              T.J. Gnanavel   \n246  Ron Clements, John Musker   \n247       Richard Attenborough   \n248                Tate Taylor   \n249  Gary Trousdale, Kirk Wise   \n\n                                                Actors  Subjectivity  \\\n0    Tim Robbins, Morgan Freeman, Bob Gunton, Willi...      0.549926   \n1    Marlon Brando, Al Pacino, James Caan, Richard ...      0.574209   \n2    Christian Bale, Heath Ledger, Aaron Eckhart, M...      0.536259   \n3    Al Pacino, Robert Duvall, Diane Keaton, Robert...      0.592063   \n4    Martin Balsam, John Fiedler, Lee J. Cobb, E.G....      0.588905   \n..                                                 ...           ...   \n245  Suriya, Lijo Mol Jose, Manikandan K., Rajisha ...      0.600009   \n246  Scott Weinger, Robin Williams, Linda Larkin, J...      0.568534   \n247  Ben Kingsley, Rohini Hattangadi, Roshan Seth, ...      0.482517   \n248  Emma Stone, Viola Davis, Bryce Dallas Howard, ...      0.505584   \n249  Robby Benson, Jesse Corti, Rex Everhart, Angel...      0.569984   \n\n     Polarity Common Sentiment  \\\n0    0.303588         Positive   \n1    0.269673         Positive   \n2    0.317979         Positive   \n3    0.342123         Positive   \n4    0.212368         Positive   \n..        ...              ...   \n245  0.354810         Positive   \n246  0.295137         Positive   \n247  0.218215         Positive   \n248  0.122831         Positive   \n249  0.336097         Positive   \n\n                                         Emotion Scale  \n0    {'Happy': 0.164, 'Angry': 0.0572, 'Surprise': ...  \n1    {'Happy': 0.1108, 'Angry': 0.05, 'Surprise': 0...  \n2    {'Happy': 0.134, 'Angry': 0.0256, 'Surprise': ...  \n3    {'Happy': 0.138, 'Angry': 0.0368, 'Surprise': ...  \n4    {'Happy': 0.122, 'Angry': 0.058, 'Surprise': 0...  \n..                                                 ...  \n245  {'Happy': 0.1852, 'Angry': 0.0916, 'Surprise':...  \n246  {'Happy': 0.2556, 'Angry': 0.0472, 'Surprise':...  \n247  {'Happy': 0.1496, 'Angry': 0.0584, 'Surprise':...  \n248  {'Happy': 0.104, 'Angry': 0.0348, 'Surprise': ...  \n249  {'Happy': 0.2724, 'Angry': 0.0304, 'Surprise':...  \n\n[250 rows x 14 columns]",
      "text/html": "<div>\n<style scoped>\n    .dataframe tbody tr th:only-of-type {\n        vertical-align: middle;\n    }\n\n    .dataframe tbody tr th {\n        vertical-align: top;\n    }\n\n    .dataframe thead th {\n        text-align: right;\n    }\n</style>\n<table border=\"1\" class=\"dataframe\">\n  <thead>\n    <tr style=\"text-align: right;\">\n      <th></th>\n      <th>Top</th>\n      <th>Movie Title</th>\n      <th>MovieID</th>\n      <th>Rating</th>\n      <th>Year</th>\n      <th>Languages</th>\n      <th>Genres</th>\n      <th>Plot</th>\n      <th>Directors</th>\n      <th>Actors</th>\n      <th>Subjectivity</th>\n      <th>Polarity</th>\n      <th>Common Sentiment</th>\n      <th>Emotion Scale</th>\n    </tr>\n  </thead>\n  <tbody>\n    <tr>\n      <th>0</th>\n      <td>1</td>\n      <td>The Shawshank Redemption</td>\n      <td>0111161</td>\n      <td>9.3</td>\n      <td>1994</td>\n      <td>English</td>\n      <td>Drama</td>\n      <td>Chronicles the experiences of a formerly succe...</td>\n      <td>Frank Darabont</td>\n      <td>Tim Robbins, Morgan Freeman, Bob Gunton, Willi...</td>\n      <td>0.549926</td>\n      <td>0.303588</td>\n      <td>Positive</td>\n      <td>{'Happy': 0.164, 'Angry': 0.0572, 'Surprise': ...</td>\n    </tr>\n    <tr>\n      <th>1</th>\n      <td>2</td>\n      <td>The Godfather</td>\n      <td>0068646</td>\n      <td>9.2</td>\n      <td>1972</td>\n      <td>English, Italian, Latin</td>\n      <td>Crime, Drama</td>\n      <td>The Godfather \"Don\" Vito Corleone is the head ...</td>\n      <td>Francis Ford Coppola</td>\n      <td>Marlon Brando, Al Pacino, James Caan, Richard ...</td>\n      <td>0.574209</td>\n      <td>0.269673</td>\n      <td>Positive</td>\n      <td>{'Happy': 0.1108, 'Angry': 0.05, 'Surprise': 0...</td>\n    </tr>\n    <tr>\n      <th>2</th>\n      <td>3</td>\n      <td>The Dark Knight</td>\n      <td>0468569</td>\n      <td>9.0</td>\n      <td>2008</td>\n      <td>English, Mandarin</td>\n      <td>Action, Crime, Drama, Thriller</td>\n      <td>Set within a year after the events of Batman B...</td>\n      <td>Christopher Nolan</td>\n      <td>Christian Bale, Heath Ledger, Aaron Eckhart, M...</td>\n      <td>0.536259</td>\n      <td>0.317979</td>\n      <td>Positive</td>\n      <td>{'Happy': 0.134, 'Angry': 0.0256, 'Surprise': ...</td>\n    </tr>\n    <tr>\n      <th>3</th>\n      <td>4</td>\n      <td>The Godfather Part II</td>\n      <td>0071562</td>\n      <td>9.0</td>\n      <td>1974</td>\n      <td>English, Italian, Spanish, Latin, Sicilian</td>\n      <td>Crime, Drama</td>\n      <td>The continuing saga of the Corleone crime fami...</td>\n      <td>Francis Ford Coppola</td>\n      <td>Al Pacino, Robert Duvall, Diane Keaton, Robert...</td>\n      <td>0.592063</td>\n      <td>0.342123</td>\n      <td>Positive</td>\n      <td>{'Happy': 0.138, 'Angry': 0.0368, 'Surprise': ...</td>\n    </tr>\n    <tr>\n      <th>4</th>\n      <td>5</td>\n      <td>12 Angry Men</td>\n      <td>0050083</td>\n      <td>9.0</td>\n      <td>1957</td>\n      <td>English</td>\n      <td>Crime, Drama</td>\n      <td>The defense and the prosecution have rested, a...</td>\n      <td>Sidney Lumet</td>\n      <td>Martin Balsam, John Fiedler, Lee J. Cobb, E.G....</td>\n      <td>0.588905</td>\n      <td>0.212368</td>\n      <td>Positive</td>\n      <td>{'Happy': 0.122, 'Angry': 0.058, 'Surprise': 0...</td>\n    </tr>\n    <tr>\n      <th>...</th>\n      <td>...</td>\n      <td>...</td>\n      <td>...</td>\n      <td>...</td>\n      <td>...</td>\n      <td>...</td>\n      <td>...</td>\n      <td>...</td>\n      <td>...</td>\n      <td>...</td>\n      <td>...</td>\n      <td>...</td>\n      <td>...</td>\n      <td>...</td>\n    </tr>\n    <tr>\n      <th>245</th>\n      <td>246</td>\n      <td>Jai Bhim</td>\n      <td>15097216</td>\n      <td>8.9</td>\n      <td>2021</td>\n      <td>Tamil, Hindi, Telugu</td>\n      <td>Crime, Drama, Mystery</td>\n      <td>Rajakannu and his wife Sengeni belong to a low...</td>\n      <td>T.J. Gnanavel</td>\n      <td>Suriya, Lijo Mol Jose, Manikandan K., Rajisha ...</td>\n      <td>0.600009</td>\n      <td>0.354810</td>\n      <td>Positive</td>\n      <td>{'Happy': 0.1852, 'Angry': 0.0916, 'Surprise':...</td>\n    </tr>\n    <tr>\n      <th>246</th>\n      <td>247</td>\n      <td>Aladdin</td>\n      <td>0103639</td>\n      <td>8.0</td>\n      <td>1992</td>\n      <td>English</td>\n      <td>Animation, Adventure, Comedy, Family, Fantasy,...</td>\n      <td>Aladdin is a poor street urchin who spends his...</td>\n      <td>Ron Clements, John Musker</td>\n      <td>Scott Weinger, Robin Williams, Linda Larkin, J...</td>\n      <td>0.568534</td>\n      <td>0.295137</td>\n      <td>Positive</td>\n      <td>{'Happy': 0.2556, 'Angry': 0.0472, 'Surprise':...</td>\n    </tr>\n    <tr>\n      <th>247</th>\n      <td>248</td>\n      <td>Gandhi</td>\n      <td>0083987</td>\n      <td>8.1</td>\n      <td>1982</td>\n      <td>English, Hindi</td>\n      <td>Biography, Drama</td>\n      <td>In 1893, Mohandas K. Gandhi is thrown off a So...</td>\n      <td>Richard Attenborough</td>\n      <td>Ben Kingsley, Rohini Hattangadi, Roshan Seth, ...</td>\n      <td>0.482517</td>\n      <td>0.218215</td>\n      <td>Positive</td>\n      <td>{'Happy': 0.1496, 'Angry': 0.0584, 'Surprise':...</td>\n    </tr>\n    <tr>\n      <th>248</th>\n      <td>249</td>\n      <td>The Help</td>\n      <td>1454029</td>\n      <td>8.1</td>\n      <td>2011</td>\n      <td>English</td>\n      <td>Drama</td>\n      <td>Set in Mississippi during the 1960s, Skeeter (...</td>\n      <td>Tate Taylor</td>\n      <td>Emma Stone, Viola Davis, Bryce Dallas Howard, ...</td>\n      <td>0.505584</td>\n      <td>0.122831</td>\n      <td>Positive</td>\n      <td>{'Happy': 0.104, 'Angry': 0.0348, 'Surprise': ...</td>\n    </tr>\n    <tr>\n      <th>249</th>\n      <td>250</td>\n      <td>Beauty and the Beast</td>\n      <td>0101414</td>\n      <td>8.0</td>\n      <td>1991</td>\n      <td>English, French</td>\n      <td>Animation, Family, Fantasy, Musical, Romance</td>\n      <td>Having lived a life in selfishness, young Prin...</td>\n      <td>Gary Trousdale, Kirk Wise</td>\n      <td>Robby Benson, Jesse Corti, Rex Everhart, Angel...</td>\n      <td>0.569984</td>\n      <td>0.336097</td>\n      <td>Positive</td>\n      <td>{'Happy': 0.2724, 'Angry': 0.0304, 'Surprise':...</td>\n    </tr>\n  </tbody>\n</table>\n<p>250 rows × 14 columns</p>\n</div>"
     },
     "execution_count": 17,
     "metadata": {},
     "output_type": "execute_result"
    }
   ],
   "source": [
    "Top_250_movies_to_csv"
   ],
   "metadata": {
    "collapsed": false,
    "pycharm": {
     "name": "#%%\n"
    }
   }
  },
  {
   "cell_type": "code",
   "execution_count": 17,
   "outputs": [],
   "source": [],
   "metadata": {
    "collapsed": false,
    "pycharm": {
     "name": "#%%\n"
    }
   }
  }
 ],
 "metadata": {
  "kernelspec": {
   "name": "python3",
   "language": "python",
   "display_name": "Python 3 (ipykernel)"
  },
  "language_info": {
   "codemirror_mode": {
    "name": "ipython",
    "version": 2
   },
   "file_extension": ".py",
   "mimetype": "text/x-python",
   "name": "python",
   "nbconvert_exporter": "python",
   "pygments_lexer": "ipython2",
   "version": "2.7.6"
  }
 },
 "nbformat": 4,
 "nbformat_minor": 0
}