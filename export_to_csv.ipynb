{
 "cells": [
  {
   "cell_type": "code",
   "execution_count": null,
   "metadata": {
    "collapsed": true,
    "pycharm": {
     "name": "#%%\n"
    }
   },
   "outputs": [],
   "source": []
  },
  {
   "cell_type": "code",
   "execution_count": 1,
   "outputs": [
    {
     "name": "stderr",
     "output_type": "stream",
     "text": [
      "[nltk_data] Error loading stopwords: <urlopen error [SSL:\n",
      "[nltk_data]     CERTIFICATE_VERIFY_FAILED] certificate verify failed:\n",
      "[nltk_data]     unable to get local issuer certificate (_ssl.c:1076)>\n",
      "[nltk_data] Error loading punkt: <urlopen error [SSL:\n",
      "[nltk_data]     CERTIFICATE_VERIFY_FAILED] certificate verify failed:\n",
      "[nltk_data]     unable to get local issuer certificate (_ssl.c:1076)>\n",
      "[nltk_data] Error loading wordnet: <urlopen error [SSL:\n",
      "[nltk_data]     CERTIFICATE_VERIFY_FAILED] certificate verify failed:\n",
      "[nltk_data]     unable to get local issuer certificate (_ssl.c:1076)>\n"
     ]
    }
   ],
   "source": [
    "from Movie import Movie\n",
    "from MovieList import MovieList\n",
    "\n",
    "import pandas as pd\n",
    "import numpy as np"
   ],
   "metadata": {
    "collapsed": false,
    "pycharm": {
     "name": "#%%\n"
    }
   }
  },
  {
   "cell_type": "code",
   "execution_count": 2,
   "outputs": [
    {
     "data": {
      "text/plain": "    Top                                        Movie Title  MovieID\n0     1                                     Disaster Movie  1213644\n1     2                           Manos: The Hands of Fate  0060666\n2     3                       Superbabies: Baby Geniuses 2  0270846\n3     4                         Birdemic: Shock and Terror  1316037\n4     5                            The Hottie & the Nottie  0804492\n..  ...                                                ...      ...\n95   96                                       Stan Helsing  1185266\n96   97                            Speed 2: Cruise Control  0120179\n97   98  Human Centipede 2: Tom Six Discusses the Story...  1530509\n98   99                          Ballistic: Ecks vs. Sever  0308208\n99  100                                      Teen Wolf Too  0094118\n\n[100 rows x 3 columns]",
      "text/html": "<div>\n<style scoped>\n    .dataframe tbody tr th:only-of-type {\n        vertical-align: middle;\n    }\n\n    .dataframe tbody tr th {\n        vertical-align: top;\n    }\n\n    .dataframe thead th {\n        text-align: right;\n    }\n</style>\n<table border=\"1\" class=\"dataframe\">\n  <thead>\n    <tr style=\"text-align: right;\">\n      <th></th>\n      <th>Top</th>\n      <th>Movie Title</th>\n      <th>MovieID</th>\n    </tr>\n  </thead>\n  <tbody>\n    <tr>\n      <th>0</th>\n      <td>1</td>\n      <td>Disaster Movie</td>\n      <td>1213644</td>\n    </tr>\n    <tr>\n      <th>1</th>\n      <td>2</td>\n      <td>Manos: The Hands of Fate</td>\n      <td>0060666</td>\n    </tr>\n    <tr>\n      <th>2</th>\n      <td>3</td>\n      <td>Superbabies: Baby Geniuses 2</td>\n      <td>0270846</td>\n    </tr>\n    <tr>\n      <th>3</th>\n      <td>4</td>\n      <td>Birdemic: Shock and Terror</td>\n      <td>1316037</td>\n    </tr>\n    <tr>\n      <th>4</th>\n      <td>5</td>\n      <td>The Hottie &amp; the Nottie</td>\n      <td>0804492</td>\n    </tr>\n    <tr>\n      <th>...</th>\n      <td>...</td>\n      <td>...</td>\n      <td>...</td>\n    </tr>\n    <tr>\n      <th>95</th>\n      <td>96</td>\n      <td>Stan Helsing</td>\n      <td>1185266</td>\n    </tr>\n    <tr>\n      <th>96</th>\n      <td>97</td>\n      <td>Speed 2: Cruise Control</td>\n      <td>0120179</td>\n    </tr>\n    <tr>\n      <th>97</th>\n      <td>98</td>\n      <td>Human Centipede 2: Tom Six Discusses the Story...</td>\n      <td>1530509</td>\n    </tr>\n    <tr>\n      <th>98</th>\n      <td>99</td>\n      <td>Ballistic: Ecks vs. Sever</td>\n      <td>0308208</td>\n    </tr>\n    <tr>\n      <th>99</th>\n      <td>100</td>\n      <td>Teen Wolf Too</td>\n      <td>0094118</td>\n    </tr>\n  </tbody>\n</table>\n<p>100 rows × 3 columns</p>\n</div>"
     },
     "execution_count": 2,
     "metadata": {},
     "output_type": "execute_result"
    }
   ],
   "source": [
    "movies = MovieList()\n",
    "Bottom_100_movies = movies.get_bottom100_mov()\n",
    "Bottom_100_movies"
   ],
   "metadata": {
    "collapsed": false,
    "pycharm": {
     "name": "#%%\n"
    }
   }
  },
  {
   "cell_type": "code",
   "execution_count": 3,
   "outputs": [
    {
     "name": "stdout",
     "output_type": "stream",
     "text": [
      "1, 2, 3, 4, 5, 6, 7, 8, 9, 10, 11, 12, 13, 14, 15, 16, 17, 18, 19, 20, 21, 22, 23, 24, 25, 26, 27, 28, 29, 30, 31, 32, 33, 34, 35, 36, 37, 38, 39, 40, 41, 42, 43, 44, 45, 46, 47, 48, 49, 50, 51, 52, 53, 54, 55, 56, 57, 58, 59, 60, 61, 62, 63, 64, 65, 66, 67, 68, 69, 70, 71, 72, 73, 74, 75, 76, 77, 78, 79, 80, 81, 82, 83, 84, 85, 86, 87, 88, 89, 90, 91, 92, 93, 94, 95, 96, 97, 98, 99, 100, \n",
      "\n",
      "CPU times: user 1h 43s, sys: 4min 48s, total: 1h 5min 32s\n",
      "Wall time: 1h 50min 22s\n"
     ]
    },
    {
     "data": {
      "text/plain": "    Top                                        Movie Title  MovieID  Rating  \\\n0     1                                     Disaster Movie  1213644     1.9   \n1     2                           Manos: The Hands of Fate  0060666     1.6   \n2     3                       Superbabies: Baby Geniuses 2  0270846     1.5   \n3     4                         Birdemic: Shock and Terror  1316037     1.7   \n4     5                            The Hottie & the Nottie  0804492     1.9   \n..  ...                                                ...      ...     ...   \n95   96                                       Stan Helsing  1185266     3.5   \n96   97                            Speed 2: Cruise Control  0120179     3.9   \n97   98  Human Centipede 2: Tom Six Discusses the Story...  1530509     3.8   \n98   99                          Ballistic: Ecks vs. Sever  0308208     3.6   \n99  100                                      Teen Wolf Too  0094118     3.4   \n\n    Year                                    Languages  \\\n0   2008                                      English   \n1   1966                                      English   \n2   2004                                      English   \n3   2010                                      English   \n4   2008                                      English   \n..   ...                                          ...   \n95  2009                                      English   \n96  1997  English, American Sign Language, Portuguese   \n97  2011                                      English   \n98  2002                                      English   \n99  1987                                      English   \n\n                                         Genres  \\\n0                                Comedy, Sci-Fi   \n1                                        Horror   \n2                        Comedy, Family, Sci-Fi   \n3                              Horror, Thriller   \n4                               Comedy, Romance   \n..                                          ...   \n95                      Comedy, Fantasy, Horror   \n96  Action, Adventure, Crime, Romance, Thriller   \n97                                       Horror   \n98     Action, Crime, Mystery, Sci-Fi, Thriller   \n99                              Comedy, Fantasy   \n\n                                                 Plot  \\\n0   Will, Lisa, and two of their friends attempt t...   \n1   A family is driving across the country when th...   \n2   Shortly after the funny adventure of Sly and W...   \n3   In the town of Half Moon Bay, California, an e...   \n4   Nate moves to L.A. to track down Cristabel, th...   \n..                                                ...   \n95  It's Halloween night, and slacker video clerk ...   \n96  Annie Porter, the woman who was held on a bus ...   \n97  Martin is a mentally disturbed loner who lives...   \n98  FBI Agent Jonathan Ecks realizes that he must ...   \n99  After Scott Howard's hairy adventure in Teen W...   \n\n                         Directors  \\\n0   Jason Friedberg, Aaron Seltzer   \n1                 Harold P. Warren   \n2                        Bob Clark   \n3                     James Nguyen   \n4                       Tom Putnam   \n..                             ...   \n95                        Bo Zenga   \n96                     Jan de Bont   \n97                         Tom Six   \n98               Wych Kaosayananda   \n99              Christopher Leitch   \n\n                                               Actors  Subjectivity  Polarity  \\\n0   Matt Lanter, Vanessa Lachey, Gary 'G. Thang' J...      0.561468 -0.032117   \n1   Tom Neyman, John Reynolds, Diane Adelson, Haro...      0.575144 -0.065254   \n2   Jon Voight, Scott Baio, Vanessa Angel, Skyler ...      0.527298  0.180202   \n3   Alan Bagh, Whitney Moore, Tippi Hedren, Janae ...      0.534746 -0.026045   \n4   Paris Hilton, Joel David Moore, Christine Laki...      0.571519 -0.023301   \n..                                                ...           ...       ...   \n95  Steve Howey, Diora Baird, Kenan Thompson, Desi...      0.566261  0.004384   \n96  Sandra Bullock, Jason Patric, Willem Dafoe, Te...      0.566422 -0.040693   \n97  Laurence R. Harvey, Ashlynn Yennie, Maddi Blac...      0.559577  0.022090   \n98  Antonio Banderas, Lucy Liu, Gregg Henry, Ray P...      0.493427 -0.013582   \n99  Jason Bateman, Kim Darby, John Astin, Paul San...      0.496292  0.022990   \n\n   Common Sentiment                                      Emotion Scale  \n0          Negative  {'Happy': 0.106, 'Angry': 0.0424, 'Surprise': ...  \n1          Negative  {'Happy': 0.0808, 'Angry': 0.056, 'Surprise': ...  \n2          Positive  {'Happy': 0.2104, 'Angry': 0.028, 'Surprise': ...  \n3          Negative  {'Happy': 0.0968, 'Angry': 0.1032, 'Surprise':...  \n4          Negative  {'Happy': 0.1252, 'Angry': 0.0572, 'Surprise':...  \n..              ...                                                ...  \n95         Positive  {'Happy': 0.1312, 'Angry': 0.0448, 'Surprise':...  \n96         Negative  {'Happy': 0.0976, 'Angry': 0.0448, 'Surprise':...  \n97         Positive  {'Happy': 0.0864, 'Angry': 0.0488, 'Surprise':...  \n98         Negative  {'Happy': 0.1072, 'Angry': 0.0472, 'Surprise':...  \n99         Positive  {'Happy': 0.11, 'Angry': 0.1368, 'Surprise': 0...  \n\n[100 rows x 14 columns]",
      "text/html": "<div>\n<style scoped>\n    .dataframe tbody tr th:only-of-type {\n        vertical-align: middle;\n    }\n\n    .dataframe tbody tr th {\n        vertical-align: top;\n    }\n\n    .dataframe thead th {\n        text-align: right;\n    }\n</style>\n<table border=\"1\" class=\"dataframe\">\n  <thead>\n    <tr style=\"text-align: right;\">\n      <th></th>\n      <th>Top</th>\n      <th>Movie Title</th>\n      <th>MovieID</th>\n      <th>Rating</th>\n      <th>Year</th>\n      <th>Languages</th>\n      <th>Genres</th>\n      <th>Plot</th>\n      <th>Directors</th>\n      <th>Actors</th>\n      <th>Subjectivity</th>\n      <th>Polarity</th>\n      <th>Common Sentiment</th>\n      <th>Emotion Scale</th>\n    </tr>\n  </thead>\n  <tbody>\n    <tr>\n      <th>0</th>\n      <td>1</td>\n      <td>Disaster Movie</td>\n      <td>1213644</td>\n      <td>1.9</td>\n      <td>2008</td>\n      <td>English</td>\n      <td>Comedy, Sci-Fi</td>\n      <td>Will, Lisa, and two of their friends attempt t...</td>\n      <td>Jason Friedberg, Aaron Seltzer</td>\n      <td>Matt Lanter, Vanessa Lachey, Gary 'G. Thang' J...</td>\n      <td>0.561468</td>\n      <td>-0.032117</td>\n      <td>Negative</td>\n      <td>{'Happy': 0.106, 'Angry': 0.0424, 'Surprise': ...</td>\n    </tr>\n    <tr>\n      <th>1</th>\n      <td>2</td>\n      <td>Manos: The Hands of Fate</td>\n      <td>0060666</td>\n      <td>1.6</td>\n      <td>1966</td>\n      <td>English</td>\n      <td>Horror</td>\n      <td>A family is driving across the country when th...</td>\n      <td>Harold P. Warren</td>\n      <td>Tom Neyman, John Reynolds, Diane Adelson, Haro...</td>\n      <td>0.575144</td>\n      <td>-0.065254</td>\n      <td>Negative</td>\n      <td>{'Happy': 0.0808, 'Angry': 0.056, 'Surprise': ...</td>\n    </tr>\n    <tr>\n      <th>2</th>\n      <td>3</td>\n      <td>Superbabies: Baby Geniuses 2</td>\n      <td>0270846</td>\n      <td>1.5</td>\n      <td>2004</td>\n      <td>English</td>\n      <td>Comedy, Family, Sci-Fi</td>\n      <td>Shortly after the funny adventure of Sly and W...</td>\n      <td>Bob Clark</td>\n      <td>Jon Voight, Scott Baio, Vanessa Angel, Skyler ...</td>\n      <td>0.527298</td>\n      <td>0.180202</td>\n      <td>Positive</td>\n      <td>{'Happy': 0.2104, 'Angry': 0.028, 'Surprise': ...</td>\n    </tr>\n    <tr>\n      <th>3</th>\n      <td>4</td>\n      <td>Birdemic: Shock and Terror</td>\n      <td>1316037</td>\n      <td>1.7</td>\n      <td>2010</td>\n      <td>English</td>\n      <td>Horror, Thriller</td>\n      <td>In the town of Half Moon Bay, California, an e...</td>\n      <td>James Nguyen</td>\n      <td>Alan Bagh, Whitney Moore, Tippi Hedren, Janae ...</td>\n      <td>0.534746</td>\n      <td>-0.026045</td>\n      <td>Negative</td>\n      <td>{'Happy': 0.0968, 'Angry': 0.1032, 'Surprise':...</td>\n    </tr>\n    <tr>\n      <th>4</th>\n      <td>5</td>\n      <td>The Hottie &amp; the Nottie</td>\n      <td>0804492</td>\n      <td>1.9</td>\n      <td>2008</td>\n      <td>English</td>\n      <td>Comedy, Romance</td>\n      <td>Nate moves to L.A. to track down Cristabel, th...</td>\n      <td>Tom Putnam</td>\n      <td>Paris Hilton, Joel David Moore, Christine Laki...</td>\n      <td>0.571519</td>\n      <td>-0.023301</td>\n      <td>Negative</td>\n      <td>{'Happy': 0.1252, 'Angry': 0.0572, 'Surprise':...</td>\n    </tr>\n    <tr>\n      <th>...</th>\n      <td>...</td>\n      <td>...</td>\n      <td>...</td>\n      <td>...</td>\n      <td>...</td>\n      <td>...</td>\n      <td>...</td>\n      <td>...</td>\n      <td>...</td>\n      <td>...</td>\n      <td>...</td>\n      <td>...</td>\n      <td>...</td>\n      <td>...</td>\n    </tr>\n    <tr>\n      <th>95</th>\n      <td>96</td>\n      <td>Stan Helsing</td>\n      <td>1185266</td>\n      <td>3.5</td>\n      <td>2009</td>\n      <td>English</td>\n      <td>Comedy, Fantasy, Horror</td>\n      <td>It's Halloween night, and slacker video clerk ...</td>\n      <td>Bo Zenga</td>\n      <td>Steve Howey, Diora Baird, Kenan Thompson, Desi...</td>\n      <td>0.566261</td>\n      <td>0.004384</td>\n      <td>Positive</td>\n      <td>{'Happy': 0.1312, 'Angry': 0.0448, 'Surprise':...</td>\n    </tr>\n    <tr>\n      <th>96</th>\n      <td>97</td>\n      <td>Speed 2: Cruise Control</td>\n      <td>0120179</td>\n      <td>3.9</td>\n      <td>1997</td>\n      <td>English, American Sign Language, Portuguese</td>\n      <td>Action, Adventure, Crime, Romance, Thriller</td>\n      <td>Annie Porter, the woman who was held on a bus ...</td>\n      <td>Jan de Bont</td>\n      <td>Sandra Bullock, Jason Patric, Willem Dafoe, Te...</td>\n      <td>0.566422</td>\n      <td>-0.040693</td>\n      <td>Negative</td>\n      <td>{'Happy': 0.0976, 'Angry': 0.0448, 'Surprise':...</td>\n    </tr>\n    <tr>\n      <th>97</th>\n      <td>98</td>\n      <td>Human Centipede 2: Tom Six Discusses the Story...</td>\n      <td>1530509</td>\n      <td>3.8</td>\n      <td>2011</td>\n      <td>English</td>\n      <td>Horror</td>\n      <td>Martin is a mentally disturbed loner who lives...</td>\n      <td>Tom Six</td>\n      <td>Laurence R. Harvey, Ashlynn Yennie, Maddi Blac...</td>\n      <td>0.559577</td>\n      <td>0.022090</td>\n      <td>Positive</td>\n      <td>{'Happy': 0.0864, 'Angry': 0.0488, 'Surprise':...</td>\n    </tr>\n    <tr>\n      <th>98</th>\n      <td>99</td>\n      <td>Ballistic: Ecks vs. Sever</td>\n      <td>0308208</td>\n      <td>3.6</td>\n      <td>2002</td>\n      <td>English</td>\n      <td>Action, Crime, Mystery, Sci-Fi, Thriller</td>\n      <td>FBI Agent Jonathan Ecks realizes that he must ...</td>\n      <td>Wych Kaosayananda</td>\n      <td>Antonio Banderas, Lucy Liu, Gregg Henry, Ray P...</td>\n      <td>0.493427</td>\n      <td>-0.013582</td>\n      <td>Negative</td>\n      <td>{'Happy': 0.1072, 'Angry': 0.0472, 'Surprise':...</td>\n    </tr>\n    <tr>\n      <th>99</th>\n      <td>100</td>\n      <td>Teen Wolf Too</td>\n      <td>0094118</td>\n      <td>3.4</td>\n      <td>1987</td>\n      <td>English</td>\n      <td>Comedy, Fantasy</td>\n      <td>After Scott Howard's hairy adventure in Teen W...</td>\n      <td>Christopher Leitch</td>\n      <td>Jason Bateman, Kim Darby, John Astin, Paul San...</td>\n      <td>0.496292</td>\n      <td>0.022990</td>\n      <td>Positive</td>\n      <td>{'Happy': 0.11, 'Angry': 0.1368, 'Surprise': 0...</td>\n    </tr>\n  </tbody>\n</table>\n<p>100 rows × 14 columns</p>\n</div>"
     },
     "execution_count": 3,
     "metadata": {},
     "output_type": "execute_result"
    }
   ],
   "source": [
    "%%time\n",
    "list_df = []\n",
    "list_df2 = []\n",
    "for _id in Bottom_100_movies['Top']:\n",
    "    movie = Movie(movie_id=Bottom_100_movies['MovieID'][_id-1])\n",
    "    n_movie = Movie(movie_id=Bottom_100_movies['MovieID'][_id-1])\n",
    "    b_movie = Movie(movie_id=Bottom_100_movies['MovieID'][_id-1])\n",
    "    row = movie.get_movie_row()\n",
    "    list_df.append(row)\n",
    "    row2 = n_movie.get_movie_sent_emo_row()\n",
    "    list_df2.append(row2)\n",
    "    df_reviews = b_movie.get_movie_review_df()\n",
    "    df_reviews.to_csv(f\"data/all_indiv/{Bottom_100_movies['Movie Title'][_id-1]}.csv\", index=False)\n",
    "    print(_id, end=', ')\n",
    "print('\\n')\n",
    "df_row_join = pd.DataFrame(list_df, columns=['Rating', 'Year', 'Languages', 'Genres', 'Plot', 'Directors', 'Actors'])\n",
    "df2_join = pd.DataFrame(list_df2, columns=['Subjectivity', 'Polarity', 'Common Sentiment', 'Emotion Scale'])\n",
    "df_row_join = df_row_join.join(df2_join)\n",
    "Bottom_100_movies_to_csv = Bottom_100_movies.join(df_row_join)\n",
    "Bottom_100_movies_to_csv"
   ],
   "metadata": {
    "collapsed": false,
    "pycharm": {
     "name": "#%%\n"
    }
   }
  },
  {
   "cell_type": "code",
   "execution_count": 4,
   "outputs": [],
   "source": [
    "Bottom_100_movies_to_csv.to_csv(\"data/top/Bottom 100 Movies.csv\", index=False)"
   ],
   "metadata": {
    "collapsed": false,
    "pycharm": {
     "name": "#%%\n"
    }
   }
  },
  {
   "cell_type": "code",
   "execution_count": 5,
   "outputs": [
    {
     "data": {
      "text/plain": "    Top                                        Movie Title  MovieID  Rating  \\\n0     1                                     Disaster Movie  1213644     1.9   \n1     2                           Manos: The Hands of Fate  0060666     1.6   \n2     3                       Superbabies: Baby Geniuses 2  0270846     1.5   \n3     4                         Birdemic: Shock and Terror  1316037     1.7   \n4     5                            The Hottie & the Nottie  0804492     1.9   \n..  ...                                                ...      ...     ...   \n95   96                                       Stan Helsing  1185266     3.5   \n96   97                            Speed 2: Cruise Control  0120179     3.9   \n97   98  Human Centipede 2: Tom Six Discusses the Story...  1530509     3.8   \n98   99                          Ballistic: Ecks vs. Sever  0308208     3.6   \n99  100                                      Teen Wolf Too  0094118     3.4   \n\n    Year                                    Languages  \\\n0   2008                                      English   \n1   1966                                      English   \n2   2004                                      English   \n3   2010                                      English   \n4   2008                                      English   \n..   ...                                          ...   \n95  2009                                      English   \n96  1997  English, American Sign Language, Portuguese   \n97  2011                                      English   \n98  2002                                      English   \n99  1987                                      English   \n\n                                         Genres  \\\n0                                Comedy, Sci-Fi   \n1                                        Horror   \n2                        Comedy, Family, Sci-Fi   \n3                              Horror, Thriller   \n4                               Comedy, Romance   \n..                                          ...   \n95                      Comedy, Fantasy, Horror   \n96  Action, Adventure, Crime, Romance, Thriller   \n97                                       Horror   \n98     Action, Crime, Mystery, Sci-Fi, Thriller   \n99                              Comedy, Fantasy   \n\n                                                 Plot  \\\n0   Will, Lisa, and two of their friends attempt t...   \n1   A family is driving across the country when th...   \n2   Shortly after the funny adventure of Sly and W...   \n3   In the town of Half Moon Bay, California, an e...   \n4   Nate moves to L.A. to track down Cristabel, th...   \n..                                                ...   \n95  It's Halloween night, and slacker video clerk ...   \n96  Annie Porter, the woman who was held on a bus ...   \n97  Martin is a mentally disturbed loner who lives...   \n98  FBI Agent Jonathan Ecks realizes that he must ...   \n99  After Scott Howard's hairy adventure in Teen W...   \n\n                         Directors  \\\n0   Jason Friedberg, Aaron Seltzer   \n1                 Harold P. Warren   \n2                        Bob Clark   \n3                     James Nguyen   \n4                       Tom Putnam   \n..                             ...   \n95                        Bo Zenga   \n96                     Jan de Bont   \n97                         Tom Six   \n98               Wych Kaosayananda   \n99              Christopher Leitch   \n\n                                               Actors  Subjectivity  Polarity  \\\n0   Matt Lanter, Vanessa Lachey, Gary 'G. Thang' J...      0.561468 -0.032117   \n1   Tom Neyman, John Reynolds, Diane Adelson, Haro...      0.575144 -0.065254   \n2   Jon Voight, Scott Baio, Vanessa Angel, Skyler ...      0.527298  0.180202   \n3   Alan Bagh, Whitney Moore, Tippi Hedren, Janae ...      0.534746 -0.026045   \n4   Paris Hilton, Joel David Moore, Christine Laki...      0.571519 -0.023301   \n..                                                ...           ...       ...   \n95  Steve Howey, Diora Baird, Kenan Thompson, Desi...      0.566261  0.004384   \n96  Sandra Bullock, Jason Patric, Willem Dafoe, Te...      0.566422 -0.040693   \n97  Laurence R. Harvey, Ashlynn Yennie, Maddi Blac...      0.559577  0.022090   \n98  Antonio Banderas, Lucy Liu, Gregg Henry, Ray P...      0.493427 -0.013582   \n99  Jason Bateman, Kim Darby, John Astin, Paul San...      0.496292  0.022990   \n\n   Common Sentiment                                      Emotion Scale  \n0          Negative  {'Happy': 0.106, 'Angry': 0.0424, 'Surprise': ...  \n1          Negative  {'Happy': 0.0808, 'Angry': 0.056, 'Surprise': ...  \n2          Positive  {'Happy': 0.2104, 'Angry': 0.028, 'Surprise': ...  \n3          Negative  {'Happy': 0.0968, 'Angry': 0.1032, 'Surprise':...  \n4          Negative  {'Happy': 0.1252, 'Angry': 0.0572, 'Surprise':...  \n..              ...                                                ...  \n95         Positive  {'Happy': 0.1312, 'Angry': 0.0448, 'Surprise':...  \n96         Negative  {'Happy': 0.0976, 'Angry': 0.0448, 'Surprise':...  \n97         Positive  {'Happy': 0.0864, 'Angry': 0.0488, 'Surprise':...  \n98         Negative  {'Happy': 0.1072, 'Angry': 0.0472, 'Surprise':...  \n99         Positive  {'Happy': 0.11, 'Angry': 0.1368, 'Surprise': 0...  \n\n[100 rows x 14 columns]",
      "text/html": "<div>\n<style scoped>\n    .dataframe tbody tr th:only-of-type {\n        vertical-align: middle;\n    }\n\n    .dataframe tbody tr th {\n        vertical-align: top;\n    }\n\n    .dataframe thead th {\n        text-align: right;\n    }\n</style>\n<table border=\"1\" class=\"dataframe\">\n  <thead>\n    <tr style=\"text-align: right;\">\n      <th></th>\n      <th>Top</th>\n      <th>Movie Title</th>\n      <th>MovieID</th>\n      <th>Rating</th>\n      <th>Year</th>\n      <th>Languages</th>\n      <th>Genres</th>\n      <th>Plot</th>\n      <th>Directors</th>\n      <th>Actors</th>\n      <th>Subjectivity</th>\n      <th>Polarity</th>\n      <th>Common Sentiment</th>\n      <th>Emotion Scale</th>\n    </tr>\n  </thead>\n  <tbody>\n    <tr>\n      <th>0</th>\n      <td>1</td>\n      <td>Disaster Movie</td>\n      <td>1213644</td>\n      <td>1.9</td>\n      <td>2008</td>\n      <td>English</td>\n      <td>Comedy, Sci-Fi</td>\n      <td>Will, Lisa, and two of their friends attempt t...</td>\n      <td>Jason Friedberg, Aaron Seltzer</td>\n      <td>Matt Lanter, Vanessa Lachey, Gary 'G. Thang' J...</td>\n      <td>0.561468</td>\n      <td>-0.032117</td>\n      <td>Negative</td>\n      <td>{'Happy': 0.106, 'Angry': 0.0424, 'Surprise': ...</td>\n    </tr>\n    <tr>\n      <th>1</th>\n      <td>2</td>\n      <td>Manos: The Hands of Fate</td>\n      <td>0060666</td>\n      <td>1.6</td>\n      <td>1966</td>\n      <td>English</td>\n      <td>Horror</td>\n      <td>A family is driving across the country when th...</td>\n      <td>Harold P. Warren</td>\n      <td>Tom Neyman, John Reynolds, Diane Adelson, Haro...</td>\n      <td>0.575144</td>\n      <td>-0.065254</td>\n      <td>Negative</td>\n      <td>{'Happy': 0.0808, 'Angry': 0.056, 'Surprise': ...</td>\n    </tr>\n    <tr>\n      <th>2</th>\n      <td>3</td>\n      <td>Superbabies: Baby Geniuses 2</td>\n      <td>0270846</td>\n      <td>1.5</td>\n      <td>2004</td>\n      <td>English</td>\n      <td>Comedy, Family, Sci-Fi</td>\n      <td>Shortly after the funny adventure of Sly and W...</td>\n      <td>Bob Clark</td>\n      <td>Jon Voight, Scott Baio, Vanessa Angel, Skyler ...</td>\n      <td>0.527298</td>\n      <td>0.180202</td>\n      <td>Positive</td>\n      <td>{'Happy': 0.2104, 'Angry': 0.028, 'Surprise': ...</td>\n    </tr>\n    <tr>\n      <th>3</th>\n      <td>4</td>\n      <td>Birdemic: Shock and Terror</td>\n      <td>1316037</td>\n      <td>1.7</td>\n      <td>2010</td>\n      <td>English</td>\n      <td>Horror, Thriller</td>\n      <td>In the town of Half Moon Bay, California, an e...</td>\n      <td>James Nguyen</td>\n      <td>Alan Bagh, Whitney Moore, Tippi Hedren, Janae ...</td>\n      <td>0.534746</td>\n      <td>-0.026045</td>\n      <td>Negative</td>\n      <td>{'Happy': 0.0968, 'Angry': 0.1032, 'Surprise':...</td>\n    </tr>\n    <tr>\n      <th>4</th>\n      <td>5</td>\n      <td>The Hottie &amp; the Nottie</td>\n      <td>0804492</td>\n      <td>1.9</td>\n      <td>2008</td>\n      <td>English</td>\n      <td>Comedy, Romance</td>\n      <td>Nate moves to L.A. to track down Cristabel, th...</td>\n      <td>Tom Putnam</td>\n      <td>Paris Hilton, Joel David Moore, Christine Laki...</td>\n      <td>0.571519</td>\n      <td>-0.023301</td>\n      <td>Negative</td>\n      <td>{'Happy': 0.1252, 'Angry': 0.0572, 'Surprise':...</td>\n    </tr>\n    <tr>\n      <th>...</th>\n      <td>...</td>\n      <td>...</td>\n      <td>...</td>\n      <td>...</td>\n      <td>...</td>\n      <td>...</td>\n      <td>...</td>\n      <td>...</td>\n      <td>...</td>\n      <td>...</td>\n      <td>...</td>\n      <td>...</td>\n      <td>...</td>\n      <td>...</td>\n    </tr>\n    <tr>\n      <th>95</th>\n      <td>96</td>\n      <td>Stan Helsing</td>\n      <td>1185266</td>\n      <td>3.5</td>\n      <td>2009</td>\n      <td>English</td>\n      <td>Comedy, Fantasy, Horror</td>\n      <td>It's Halloween night, and slacker video clerk ...</td>\n      <td>Bo Zenga</td>\n      <td>Steve Howey, Diora Baird, Kenan Thompson, Desi...</td>\n      <td>0.566261</td>\n      <td>0.004384</td>\n      <td>Positive</td>\n      <td>{'Happy': 0.1312, 'Angry': 0.0448, 'Surprise':...</td>\n    </tr>\n    <tr>\n      <th>96</th>\n      <td>97</td>\n      <td>Speed 2: Cruise Control</td>\n      <td>0120179</td>\n      <td>3.9</td>\n      <td>1997</td>\n      <td>English, American Sign Language, Portuguese</td>\n      <td>Action, Adventure, Crime, Romance, Thriller</td>\n      <td>Annie Porter, the woman who was held on a bus ...</td>\n      <td>Jan de Bont</td>\n      <td>Sandra Bullock, Jason Patric, Willem Dafoe, Te...</td>\n      <td>0.566422</td>\n      <td>-0.040693</td>\n      <td>Negative</td>\n      <td>{'Happy': 0.0976, 'Angry': 0.0448, 'Surprise':...</td>\n    </tr>\n    <tr>\n      <th>97</th>\n      <td>98</td>\n      <td>Human Centipede 2: Tom Six Discusses the Story...</td>\n      <td>1530509</td>\n      <td>3.8</td>\n      <td>2011</td>\n      <td>English</td>\n      <td>Horror</td>\n      <td>Martin is a mentally disturbed loner who lives...</td>\n      <td>Tom Six</td>\n      <td>Laurence R. Harvey, Ashlynn Yennie, Maddi Blac...</td>\n      <td>0.559577</td>\n      <td>0.022090</td>\n      <td>Positive</td>\n      <td>{'Happy': 0.0864, 'Angry': 0.0488, 'Surprise':...</td>\n    </tr>\n    <tr>\n      <th>98</th>\n      <td>99</td>\n      <td>Ballistic: Ecks vs. Sever</td>\n      <td>0308208</td>\n      <td>3.6</td>\n      <td>2002</td>\n      <td>English</td>\n      <td>Action, Crime, Mystery, Sci-Fi, Thriller</td>\n      <td>FBI Agent Jonathan Ecks realizes that he must ...</td>\n      <td>Wych Kaosayananda</td>\n      <td>Antonio Banderas, Lucy Liu, Gregg Henry, Ray P...</td>\n      <td>0.493427</td>\n      <td>-0.013582</td>\n      <td>Negative</td>\n      <td>{'Happy': 0.1072, 'Angry': 0.0472, 'Surprise':...</td>\n    </tr>\n    <tr>\n      <th>99</th>\n      <td>100</td>\n      <td>Teen Wolf Too</td>\n      <td>0094118</td>\n      <td>3.4</td>\n      <td>1987</td>\n      <td>English</td>\n      <td>Comedy, Fantasy</td>\n      <td>After Scott Howard's hairy adventure in Teen W...</td>\n      <td>Christopher Leitch</td>\n      <td>Jason Bateman, Kim Darby, John Astin, Paul San...</td>\n      <td>0.496292</td>\n      <td>0.022990</td>\n      <td>Positive</td>\n      <td>{'Happy': 0.11, 'Angry': 0.1368, 'Surprise': 0...</td>\n    </tr>\n  </tbody>\n</table>\n<p>100 rows × 14 columns</p>\n</div>"
     },
     "execution_count": 5,
     "metadata": {},
     "output_type": "execute_result"
    }
   ],
   "source": [
    "Bottom_100_movies_to_csv"
   ],
   "metadata": {
    "collapsed": false,
    "pycharm": {
     "name": "#%%\n"
    }
   }
  },
  {
   "cell_type": "code",
   "execution_count": 5,
   "outputs": [],
   "source": [],
   "metadata": {
    "collapsed": false,
    "pycharm": {
     "name": "#%%\n"
    }
   }
  }
 ],
 "metadata": {
  "kernelspec": {
   "display_name": "Python 3",
   "language": "python",
   "name": "python3"
  },
  "language_info": {
   "codemirror_mode": {
    "name": "ipython",
    "version": 2
   },
   "file_extension": ".py",
   "mimetype": "text/x-python",
   "name": "python",
   "nbconvert_exporter": "python",
   "pygments_lexer": "ipython2",
   "version": "2.7.6"
  }
 },
 "nbformat": 4,
 "nbformat_minor": 0
}