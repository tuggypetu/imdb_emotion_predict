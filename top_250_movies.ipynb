{
 "cells": [
  {
   "cell_type": "markdown",
   "source": [
    "Get emotion, sentiment, and data of top 250 IMDb movies and store in csv"
   ],
   "metadata": {
    "collapsed": false,
    "pycharm": {
     "name": "#%% md\n"
    }
   }
  },
  {
   "cell_type": "code",
   "execution_count": 38,
   "outputs": [],
   "source": [
    "import pandas as pd\n",
    "import numpy as np"
   ],
   "metadata": {
    "collapsed": false,
    "pycharm": {
     "name": "#%%\n"
    }
   }
  },
  {
   "cell_type": "code",
   "execution_count": 39,
   "outputs": [],
   "source": [
    "import imdb\n",
    "ia = imdb.Cinemagoer()"
   ],
   "metadata": {
    "collapsed": false,
    "pycharm": {
     "name": "#%%\n"
    }
   }
  },
  {
   "cell_type": "code",
   "execution_count": 39,
   "outputs": [],
   "source": [],
   "metadata": {
    "collapsed": false,
    "pycharm": {
     "name": "#%%\n"
    }
   }
  },
  {
   "cell_type": "code",
   "execution_count": 40,
   "outputs": [],
   "source": [
    "top = ia.get_top250_movies()"
   ],
   "metadata": {
    "collapsed": false,
    "pycharm": {
     "name": "#%%\n"
    }
   }
  },
  {
   "cell_type": "code",
   "execution_count": 41,
   "outputs": [
    {
     "data": {
      "text/plain": "     Top               Movie Title   MovieID\n0      1  The Shawshank Redemption   0111161\n1      2             The Godfather   0068646\n2      3           The Dark Knight   0468569\n3      4     The Godfather Part II   0071562\n4      5              12 Angry Men   0050083\n..   ...                       ...       ...\n245  246                   Aladdin   0103639\n246  247                    Gandhi   0083987\n247  248                  The Help   1454029\n248  249                  Jai Bhim  15097216\n249  250      Beauty and the Beast   0101414\n\n[250 rows x 3 columns]",
      "text/html": "<div>\n<style scoped>\n    .dataframe tbody tr th:only-of-type {\n        vertical-align: middle;\n    }\n\n    .dataframe tbody tr th {\n        vertical-align: top;\n    }\n\n    .dataframe thead th {\n        text-align: right;\n    }\n</style>\n<table border=\"1\" class=\"dataframe\">\n  <thead>\n    <tr style=\"text-align: right;\">\n      <th></th>\n      <th>Top</th>\n      <th>Movie Title</th>\n      <th>MovieID</th>\n    </tr>\n  </thead>\n  <tbody>\n    <tr>\n      <th>0</th>\n      <td>1</td>\n      <td>The Shawshank Redemption</td>\n      <td>0111161</td>\n    </tr>\n    <tr>\n      <th>1</th>\n      <td>2</td>\n      <td>The Godfather</td>\n      <td>0068646</td>\n    </tr>\n    <tr>\n      <th>2</th>\n      <td>3</td>\n      <td>The Dark Knight</td>\n      <td>0468569</td>\n    </tr>\n    <tr>\n      <th>3</th>\n      <td>4</td>\n      <td>The Godfather Part II</td>\n      <td>0071562</td>\n    </tr>\n    <tr>\n      <th>4</th>\n      <td>5</td>\n      <td>12 Angry Men</td>\n      <td>0050083</td>\n    </tr>\n    <tr>\n      <th>...</th>\n      <td>...</td>\n      <td>...</td>\n      <td>...</td>\n    </tr>\n    <tr>\n      <th>245</th>\n      <td>246</td>\n      <td>Aladdin</td>\n      <td>0103639</td>\n    </tr>\n    <tr>\n      <th>246</th>\n      <td>247</td>\n      <td>Gandhi</td>\n      <td>0083987</td>\n    </tr>\n    <tr>\n      <th>247</th>\n      <td>248</td>\n      <td>The Help</td>\n      <td>1454029</td>\n    </tr>\n    <tr>\n      <th>248</th>\n      <td>249</td>\n      <td>Jai Bhim</td>\n      <td>15097216</td>\n    </tr>\n    <tr>\n      <th>249</th>\n      <td>250</td>\n      <td>Beauty and the Beast</td>\n      <td>0101414</td>\n    </tr>\n  </tbody>\n</table>\n<p>250 rows × 3 columns</p>\n</div>"
     },
     "execution_count": 41,
     "metadata": {},
     "output_type": "execute_result"
    }
   ],
   "source": [
    "top_250_movie_list = [[i+1, top[i]['title'], top[i].movieID] for i in range(len(top))]\n",
    "df = pd.DataFrame(top_250_movie_list, columns=['Top', 'Movie Title', 'MovieID'])\n",
    "df"
   ],
   "metadata": {
    "collapsed": false,
    "pycharm": {
     "name": "#%%\n"
    }
   }
  },
  {
   "cell_type": "code",
   "execution_count": 42,
   "outputs": [
    {
     "data": {
      "text/plain": "{'data': {'reviews': [{'content': 'Why do I want to write the 234th comment on The Shawshank Redemption? I am not sure - almost everything that could be possibly said about it has been said. But like so many other people who wrote comments, I was and am profoundly moved by this simple and eloquent depiction of hope and friendship and redemption. The only other movie I have ever seen that effects me as strongly is To Kill a Mockingbird. Both movies leave me feeling cleaner for having watched them.I didn\\'t intend to see this movie at all: I do not like prison movies and I don\\'t normally watch them. I work at a branch library and one day as I was checking The Shawshank Redemption out to one of our older patrons, she said to me, \"Whenever I feel down or depressed, I check out this movie and watch it and it always makes me feel better.\" At the time, I thought that was very strange. One day there was nothing on TV except things I absolutely would not watch under any circumstance or things that I had seen too many times already. I remembered what she said, so I watched it. I have watched it many many times since then and it gets better with every showing.No action, no special effects - just men in prison uniforms talking to each other.The Shawshank Redemption and To Kill a Mockingbird are the best movies I have ever seen. I do not judge it by it\\'s technical merits - I don\\'t really care about that. I have read that Citizen Kane or The Godfather or this or that movie is the best movie ever made. They may have the best technique or be the most influential motion pictures ever made, but not the best. The best movies are ones that touch the soul. It takes a movie like The Shawshank Redemption to touch the soul.',\n    'helpful': 0,\n    'title': 'Tied for the best movie I have ever seen',\n    'author': 'ur2509775',\n    'date': '26 November 2003',\n    'rating': 10,\n    'not_helpful': 0},\n   {'content': 'The Shawshank Redemption is written and directed by Frank Darabont. It is an adaptation of the Stephen King novella Rita Hayworth and Shawshank Redemption. Starring Tim Robbins and Morgan Freeman, the film portrays the story of Andy Dufresne (Robbins), a banker who is sentenced to two life sentences at Shawshank State Prison for apparently murdering his wife and her lover. Andy finds it tough going but finds solace in the friendship he forms with fellow inmate Ellis \"Red\" Redding (Freeman). While things start to pick up when the warden finds Andy a prison job more befitting his talents as a banker. However, the arrival of another inmate is going to vastly change things for all of them.There was no fanfare or bunting put out for the release of the film back in 94, with a title that didn\\'t give much inkling to anyone about what it was about, and with Columbia Pictures unsure how to market it, Shawshank Redemption barely registered at the box office. However, come Academy Award time the film received several nominations, and although it won none, it stirred up interest in the film for its home entertainment release. The rest, as they say, is history. For the film finally found an audience that saw the film propelled to almost mythical proportions as an endearing modern day classic. Something that has delighted its fans, whilst simultaneously baffling its detractors. One thing is for sure, though, is that which ever side of the Shawshank fence you sit on, the film continues to gather new fans and simply will never go away or loose that mythical status.It\\'s possibly the simplicity of it all that sends some haters of the film into cinematic spasms. The implausible plot and an apparent sentimental edge that makes a nonsense of prison life, are but two chief complaints from those that dislike the film with a passion. Yet when characters are this richly drawn, and so movingly performed, it strikes me as churlish to do down a human drama that\\'s dealing in hope, friendship and faith. The sentimental aspect is indeed there, but that acts as a counterpoint to the suffering, degradation and shattering of the soul involving our protagonist. Cosy prison life you say? No chance. The need for human connection is never more needed than during incarceration, surely? And given the quite terrific performances of Robbins (never better) & Freeman (sublimely making it easy), it\\'s the easiest thing in the world to warm to Andy and Red.Those in support aren\\'t faring too bad either. Bob Gunton is coiled spring smarm as Warden Norton, James Whitmore is heart achingly great as the \"Birdman Of Shawshank,\" Clancy Brown is menacing as antagonist Capt. Byron Hadley, William Sadler amusing as Heywood & Mark Rolston is impressively vile as Bogs Diamond. Then there\\'s Roger Deakins\\' lush cinematography as the camera gracefully glides in and out of the prison offering almost ethereal hope to our characters (yes, they are ours). The music pings in conjunction with the emotional flow of the movie too. Thomas Newman\\'s score is mostly piano based, dovetailing neatly with Andy\\'s state of mind, while the excellently selected soundtrack ranges from the likes of Hank Williams to the gorgeous Le Nozze di Figaro by Mozart.If you love Shawshank then it\\'s a love that lasts a lifetime. Every viewing brings the same array of emotions - anger - revilement - happiness - sadness - inspiration and a warmth that can reduce the most hardened into misty eyed wonderment. Above all else, though, Shawshank offers hope - not just for characters in a movie - but for a better life and a better world for all of us. 10/10',\n    'helpful': 751,\n    'title': \"Some birds aren't meant to be caged.\",\n    'author': 'ur16161013',\n    'date': '24 July 2010',\n    'rating': 10,\n    'not_helpful': 113},\n   {'content': 'In its Oscar year, Shawshank Redemption (written and directed by Frank Darabont, after the novella Rita Hayworth and the Shawshank Redemption, by Stephen King) was nominated for seven Academy Awards, and walked away with zero. Best Picture went to Forrest Gump, while Shawshank and Pulp Fiction were \"just happy to be nominated.\" Of course hindsight is 20/20, but while history looks back on Gump as a good film, Pulp and Redemption are remembered as some of the all-time best. Pulp, however, was a success from the word \"go,\" making a huge splash at Cannes and making its writer-director an American master after only two films. For Andy Dufresne and Co., success didn\\'t come easy. Fortunately, failure wasn\\'t a life sentence.After opening on 33 screens with take of $727,327, the $25M film fell fast from theatres and finished with a mere $28.3M. The reasons for failure are many. Firstly, the title is a clunker. While iconic to fans today, in 1994, people knew not and cared not what a \\'Shawshank\\' was. On the DVD, Tim Robbins laughs recounting fans congratulating him on \"that \\'Rickshaw\\' movie.\" Marketing-wise, the film\\'s a nightmare, as \\'prison drama\\' is a tough sell to women, and the story of love between two best friends doesn\\'t spell winner to men. Worst of all, the movie is slow as molasses. As Desson Thomson writes for the Washington Post, \"it wanders down subplots at every opportunity and ignores an abundance of narrative exit points before settling on its finale.\" But it is these same weaknesses that make the film so strong.Firstly, its setting. The opening aerial shots of the prison are a total eye-opener. This is an amazing piece of architecture, strong and Gothic in design. Immediately, the prison becomes a character. It casts its shadow over most of the film, its tall stone walls stretching above every shot. It towers over the men it contains, blotting out all memories of the outside world. Only Andy (Robbins) holds onto hope. It\\'s in music, it\\'s in the sandy beaches of Zihuatanejo; \"In here\\'s where you need it most,\" he says. \"You need it so you don\\'t forget. Forget that there are places in the world that aren\\'t made out of stone. That there\\'s a - there\\'s a - there\\'s something inside that\\'s yours, that they can\\'t touch.\" Red (Morgan Freeman) doesn\\'t think much of Andy at first, picking \"that tall glass o\\' milk with the silver spoon up his ass\" as the first new fish to crack. Andy says not a word, and losing his bet, Red resents him for it. But over time, as the two get to know each other, they quickly become the best of friends. This again, is one of the film\\'s major strengths. Many movies are about love, many flicks have a side-kick to the hero, but Shawshank is the only one I can think of that looks honestly at the love between two best friends. It seems odd that Hollywood would skip this relationship time and again, when it\\'s a feeling that weighs so much into everyone\\'s day to day lives. Perhaps it\\'s too sentimental to seem conventional, but Shawshank\\'s core friendship hits all the right notes, and the film is much better for it.It\\'s pacing is deliberate as well. As we spend the film watching the same actors, it is easy to forget that the movie\\'s timeline spans well over 20 years. Such a huge measure of time would pass slowly in reality, and would only be amplified in prison. And it\\'s not as if the film lacks interest in these moments. It still knows where it\\'s going, it merely intends on taking its sweet time getting there. It pays off as well, as the tedium of prison life makes the climax that much more exhilarating. For anyone who sees it, it is a moment never to be forgotten.With themes of faith and hope, there is a definite religious subtext to be found here. Quiet, selfless and carefree, Andy is an obvious Christ figure. Warden Norton (Bob Gunton) is obviously modeled on Richard Nixon, who, in his day, was as close to a personified Satan as they come. But if you aren\\'t looking for subtexts, the movie speaks to anyone in search of hope. It is a compelling drama, and a very moving film, perfectly written, acted and shot. They just don\\'t come much better than this.OVERALL SCORE: 9.8/10 = A+ The Shawshank Redemption served as a message of hope to Hollywood as well. More than any film in memory, it proved there is life after box office. Besting Forrest and Fiction, it ran solely on strong word of mouth and became the hottest rented film of 1995. It currently sits at #2 in the IMDb\\'s Top 250 Films, occasionally swapping spots with The Godfather as the top ranked film of all time -- redemption indeed. If you haven\\'t seen it yet, what the hell are you waiting for? As Andy says, \"It comes down a simple choice, really. Either get busy living, or get busy dying.\"',\n    'helpful': 0,\n    'title': 'A classic piece of unforgettable film-making.',\n    'author': 'ur1898687',\n    'date': '10 February 2006',\n    'rating': 10,\n    'not_helpful': 0},\n   {'content': 'I\\'m trying to save you money; this is the last film title that you should consider borrowing. Renting Shawshank will cost you five bucks... just plunk down the $25 and own the title. You\\'ll wind up going back to this gem time and time again. This is one of few movies that are truly timeless. And it\\'s entertaining and moving, no matter how many times you view it.Forget about what others (including myself) might suggest you\\'ll discover in \"The Shawshank Redemption;\" when you watch it, you\\'ll identify something very personal in your own life with a scene, a character, or a moment in this uncomplicated movie. When you need hope, you\\'ll look for Shawshank. When you want to believe in the will of overcoming even the greatest obstacles, Shawshank will uplift you in ways that you can\\'t find in movies today. Some liken the film to some kind of spiritual awakening. Of course, some can go to a church or mosque to find enlightenment and Faith in humanity, but most places of worship are open only certain days or times. But when you need affirmation of the lasting bond of friendships that prevail over the most dire circumstances, Shawshank will give it to you. It makes grown men (like me) cry, still. I wonder whether Shawshank was truly meant for viewing in the privacy of the home, because it is a personal experience that really makes you look inward. Nominated for seven, this is the best film that never one a single Oscar. How ironic that an innocent man winds up being surrounded by the corruption of the legal system. Shawshank itself is similar to the character of Andy Dufresne. Prejudging this classic film, critics couldn\\'t get past the title. The public followed suit, initially dismissing Shawshank, which failed in the box office just like \"It\\'s a Wonderful Life\" and \"Citizen Kane.\" It could have just whithered away on the store shelves, like Andy Dufresne could have in his own cell. But the characters prevailed, because Andy -- And Shawshank -- stayed true. Now, these movies are right up there as the most popular films of all time. Anyone who has yet to watch Shawshank may be so jaded of movies, or the film\\'s title, or how a 2-1/2- hour movie set inside the walls of a prison can manage to tap the soul of such a wide range of people. Shawshank has not one explosion. I wonder if it even has a single special effect or digitally- enhanced frame. But every aspect of Shawshank fit together. The acting from the top to the bit part. The musical score. The editing. The photography. The story, from opening credits to final scene. All involved, including the town of Mansfield, Ohio (where Shawshank was actually filmed) played their roles perfectly. Shawshank is a must- see, must- own title.',\n    'helpful': 742,\n    'title': \"Don't Rent Shawshank.\",\n    'author': 'ur0265899',\n    'date': '21 November 2005',\n    'rating': 10,\n    'not_helpful': 141},\n   {'content': 'This movie is not your ordinary Hollywood flick. It has a great and deep message. This movie has a foundation and just kept on being built on from their and that foundation is hope.Other than just the message of this movie the acting was phenomenal. Tim Robbins gave one of the greatest performances ever. He was inspiring, intelligent and most of all positive. His performance just made me smile. Robbins plays Andy Dufresne who was wrongfully convicted of murdering his wife and her lover. He is gets to life sentences but yet never gives up hope. In he becomes friends with Ellis Boyd \"Red\" Redding played by Morgan Freeman. Freeman who gives the finest performance of his career has unlike Robbins lost hope. He is in deep regret of the crime that he committed. His way of deflecting the pain away is by trying to not feel anything at all. With his friendship with Andy he learns that without our hopes and dreams we have nothing. Andy also becomes friends with the rest of Red\\'s group. James Whitmore also gave a great performance as Brooks Halten who gets out of prison parole but in the words of Red he has been \"institutionalized\". The directing by Frank Darabont was just magnificent. He kept this movie at a great steady pace along with the writing and great cinematography. He portrayed prison life in such a horrifying way, but not in terms of the physical pain but the stress and pain that wares mentally on the inmates, some of which deserve a second chance. Whatever you do, don\\'t listen to the people who say this movie is overrated because this is one of the most inspiring and greatest movies ever. It has everything you could possibly want.',\n    'helpful': 807,\n    'title': 'This is How Movies Should Be Made',\n    'author': 'ur16117882',\n    'date': '18 February 2008',\n    'rating': 10,\n    'not_helpful': 160},\n   {'content': 'One of the finest films made in recent years. It\\'s a poignant story about hope. Hope gets me. That\\'s what makes a film like this more than a movie. It tells a lesson about life. Those are the films people talk about 50 or even 100 years from you. It\\'s also a story for freedom. Freedom from isolation, from rule, from bigotry and hate. Freeman and Robbins are majestic in their performances. Each learns from the other. Their relationship is strong and you feel that from the first moment they make contact with one another. There is also a wonderful performance from legend James Whitmore as Brooks.He shines when it is his time to go back into the world, only to find that the world grew up so fast he never even got a chance to blink. Stephen King\\'s story is brought to the screen with great elegance and excitement. It is an extraordinary motion that people \"will\" be talking about in 50 or 100 years.',\n    'helpful': 0,\n    'title': 'The Shawshank Redemption',\n    'author': 'ur0257957',\n    'date': '25 March 1999',\n    'rating': 10,\n    'not_helpful': 0},\n   {'content': \"It is no wonder that the film has such a high rating, it is quite literally breathtaking. What can I say that hasn't said before? Not much, it's the story, the acting, the premise, but most of all, this movie is about how it makes you feel. Sometimes you watch a film, and can't remember it days later, this film loves with you, once you've seen it, you don't forget.The ultimate story of friendship, of hope, and of life, and overcoming adversity.I understand why so many class this as the best film of all time, it isn't mine, but I get it. If you haven't seen it, or haven't seen it for some time, you need to watch it, it's amazing. 10/10.\",\n    'helpful': 53,\n    'title': 'An incredible movie. One that lives with you.',\n    'author': 'ur15311310',\n    'date': '17 February 2021',\n    'rating': 10,\n    'not_helpful': 8},\n   {'content': \"Misery and Stand By Me were the best adaptations up until this one, now you can add Shawshank to that list.This is simply one of the best films ever made and I know I am not the first to say that and I certainly won't be the last. The standing on the IMDb is a true barometer of that. #3 as of this date and I'm sure it could be number 1. So I'll just skip all the normal praise of the film because we all know how great it is. But let me perhaps add that what I find so fascinating about Shawshank is that Stephen King wrote it.King is one of the best writers in the world. Books like IT and the Castle Rock series are some of the greatest stories ever told. But his best adaptations are always done by the best directors. The Shining was brilliantly interpreted by Kubrick and of course the aforementioned Misery and Stand By Me are both by Rob Reiner. Now Frank Darabont comes onto the scene and makes arguably the best King film ever. He seems to understand what King wants to say and he conveys that beautifully. What makes this film one of the best ever made is the message it conveys. It is one of eternal hope. Andy Dufresne, played by Tim Robbins, has been sent to prison for a crime he did not commit. But he never loses hope. He never gives up his quest to become a free man again. His years of tenacity, patience and wits keep him not only sane, but it gives his mind and a spirit a will to live. This film has a different feel to it. There has never been anything like it before and I don't know if there will again.I'm not going to say any more about this film, it has already been said, but just suffice to say that I am glad that Forrest Gump won best picture in 94. I would have been equally glad if Pulp Fiction or Shawshank would have won. It is that good of a movie and one that will be appreciated for years to come.\",\n    'helpful': 771,\n    'title': \"Stephen King's best adapted movie\",\n    'author': 'ur0355122',\n    'date': '13 July 1999',\n    'rating': 10,\n    'not_helpful': 201},\n   {'content': \"Shawshank Redemption is without doubt one of the best films ever made, and definitely the best film of 1994. Yes, it is better than Lion King, and I really like that too. It is not only enthralling but powerful and moving too. I will confess that I didn't understand it when I first saw it as a lot happens in the film, and I have now seen it three times. I seriously hope, that those who ignored the film when it was first released now recognise it as a great film, as it really is. The dialogue was extremely well-written, with lines that really stick in your mind. The cinematography and music are both gorgeous, and the prison itself is like a character that dominates the film. In the script, there are some true elements of Stephen King Now I admit I am not a huge king fan, and usually don't like coarse language in books. But in his books like It, which is very good, I have accepted the language represents brutality and rebellion, shown perfectly in the film with the battle of acceptance I suppose between the inmates and the superiors(like the scene with the warden yelling coarse language at the new inmates lined up in a row at the beginning.)The acting was exceptional. I am not hugely familiar with Tim Robbins, but he did a great job in a very demanding role. The best performance however, comes from Morgan Freeman as Red, who was seriously robbed of that Oscar, that he lost to Tom Hanks for Forrest Gump. Freeman reminds me very strongly, or his style of acting does, remind me of that of Sean Connery, suave yet very charismatic. Acting isn't just about your vocal range, it's about depth, which was what Freeman certainly had. In short, Freeman was brilliant in what could be his best performance. The scene where the inmates are listening to the Mozart aria over the speakers was a beautiful profound moment, and I actually cried in Brook's death scene. Very rarely do King adaptations translate-to screen well, because of the large scale of the author's books, with the exception of this and the Shining. Some like It and Dreamcatcher are genuinely memorable but have a number of flaws that prevent them from being classed as outstanding. And some, like Thinner and Tommyknockers that border on unwatchable. In conclusion Shawshank is a brilliant film, that is worthy of the credit it has been denied for so-long. 10/10 of course. Bethany Cox.\",\n    'helpful': 147,\n    'title': 'Enthralling, fantastic, intriguing, truly remarkable!',\n    'author': 'ur20552756',\n    'date': '17 April 2009',\n    'rating': 10,\n    'not_helpful': 41},\n   {'content': \"Two imprisoned men (Tim Robbins and Morgan Freeman) bond over a number of years, finding solace and eventual redemption through acts of common decency.Is this the greatest film of all time? IMDb would have you believe so. Despite being a box office flop (that barely recouped its budget), the film received multiple award nominations and outstanding reviews from critics for its acting, story, and realism. It has since been successful on cable television, VHS, DVD, and Blu-ray.And it deserves this praise that seems to be growing each year. Now twenty years old, the film has not aged a day, and instead seems to be getting better. This is Tim Robbins' best role, and a fine performance from the always wonderful Morgan Freeman.\",\n    'helpful': 41,\n    'title': 'IMDb and the Greatest Film of All Time',\n    'author': 'ur1234929',\n    'date': '6 November 2014',\n    'rating': 10,\n    'not_helpful': 8},\n   {'content': 'Based on a novella by Stephen King, this is better than even THE GREEN MILE and goes to show that you don\\'t need supernatural elements in a prison story – the setting is enough to carry a film as it is. SHAWSHANK often shows up as the \"best film of all time\" on various movie lists - including here on the IMDb - and, whilst I don\\'t necessarily agree about that, it is a very good film indeed, near flawless in fact.Every technical element of the film is spot-on, from direction to music, editing, and acting; Morgan Freeman delivers his best ever performance whilst Tim Robbins shows us what a great character actor he is. Even better, for a genre fan like me, is seeing acting favourites like Clancy Brown, William Sadler, Brian Libby, and James Whitmore all appearing in the film together and playing more than just stock good or bad guy roles. Every actor is great here, and the script (which sticks closely to King\\'s writing) is nigh-on perfect. Emotion, thrills, drama, and the triumph of the human spirit are all present in this movie, which is one of the greatest prison flicks ever.',\n    'helpful': 37,\n    'title': 'All-time prison film classic',\n    'author': 'ur0482513',\n    'date': '18 December 2016',\n    'rating': 10,\n    'not_helpful': 8},\n   {'content': 'This is the sole film in the world that is over 2 hours and yet I wanted another 2. The story, the acting, the sense of justice, the acting, the triumph of good but not in a linear manner, the acting and certainly the authentic feel of the era make this a justified masterpiece.Hollywood has lost the ability to make good films nowadays.Keep churning out the stand up comic Thor, Hollywood.',\n    'helpful': 27,\n    'title': 'I Know My Name Is Captain Obvious',\n    'author': 'ur146338622',\n    'date': '4 December 2021',\n    'rating': 9,\n    'not_helpful': 2},\n   {'content': 'If you like hopeful, surprising, never-seen-before characters, you will enjoy this amusing story of a family of prisoners victimized by the system and a Bible thumping pig.Robbins and Freeman, and everybody else, gives perfect performances for their characters. Their actions and body languages are perfect for this story and movie.',\n    'helpful': 75,\n    'title': 'A Popular Film That Deserves Its Popularity',\n    'author': 'ur131017397',\n    'date': '2 April 2021',\n    'rating': 9,\n    'not_helpful': 12},\n   {'content': \"You have already watched this, right? It is really easy to understand the love for this movie. I'll admit, when it comes to movie adaptations of books, the book is always better. How can it not be? You get way more detail than could be crammed into a two-hour movie. However, I still thoroughly enjoyed this adaptation. Yes, it does deviate from the short a little with character changes and omissions, but I don't think this film could have been any better. I am in line with the ten-star reviews that I'm seeing and the only reason I am not giving this parable for hope a ten myself is because I don't as a rule. Hope, aspiration, fighting the system, justice and humanism against the tyranny of the mainstream society/religion. This is the film.\",\n    'helpful': 77,\n    'title': 'This Review Is Unneeded',\n    'author': 'ur129753872',\n    'date': '23 February 2021',\n    'rating': 9,\n    'not_helpful': 14},\n   {'content': 'WHAT. A. MOVIEIt is just so well acted. You believe it all and want more of every single character!Clever, moralistic and entertaining.Hollywood has done very few consequential movies since (V For Vendetta, Captain Fantastic and perhaps Watchmen..) so grab this one if you have not watched it.',\n    'helpful': 28,\n    'title': 'A Middle Finger To Pigs Everywhere',\n    'author': 'ur139998261',\n    'date': '15 October 2021',\n    'rating': 9,\n    'not_helpful': 4},\n   {'content': \"I have never seen such an amazing film since I saw The Shawshank Redemption. Shawshank encompasses friendships, hardships, hopes, and dreams. And what is so great about the movie is that it moves you, it gives you hope. Even though the circumstances between the characters and the viewers are quite different, you don't feel that far removed from what the characters are going through.It is a simple film, yet it has an everlasting message. Frank Darabont didn't need to put any kind of outlandish special effects to get us to love this film, the narration and the acting does that for him. Why this movie didn't win all seven Oscars is beyond me, but don't let that sway you to not see this film, let its ranking on the IMDb's top 250 list sway you, let your friends recommendation about the movie sway you.Set aside a little over two hours tonight and rent this movie. You will finally understand what everyone is talking about and you will understand why this is my all time favorite movie.\",\n    'helpful': 0,\n    'title': 'Prepare to be moved',\n    'author': 'ur1005460',\n    'date': '8 February 2001',\n    'rating': None,\n    'not_helpful': 0},\n   {'content': \"None of the usual otherworld creatures that populate the works of Stephen King are to be found in The Shawshank Redemption. But the real world of that Maine prison has some bizarre rules of its own and there's a whole new reality within those walls.In the tradition of Cool Hand Luke and Birdman Of Alcatraz comes Tim Robbins who was a banker on the outside, but when he caught his wife cheating on him with a golf pro from their country club, he's convicted of putting eight bullets in them, four apiece and tried and sentenced to two consecutive life terms in Shawshank prison. Like Luke and Bob Stroud he works out his own rehabilitation and rebels against the prison system.He may be a con, but Robbins still has all his knowledge of finances and pretty soon he's made himself quite invaluable to the warden and the rest of the staff at the prison. At the same time he and the cell block scrounger Morgan Freeman develop a close personal relationship. In the end they beat the system in a most unique way.There have been some classic prison films made ever since The Big House at the dawn of the talkies. Two I've already mentioned. My favorite prison film is Robert Redford's Brubaker, but The Shawshank Redemption comes pretty close. As does The Green Mile which was also directed by Frank Darabont.Darabont got an Oscar nomination as did the film itself and as did Morgan Freeman for Best Actor. The Shawshank Redemption was in for a flock more Oscar nominations in 1994. A couple other good performances are that of James Whitmore the institutionalized con who is there for 50 years and paroled and just can't make it on the outside. He will break your heart as will Gil Bellows who plays a fresh, but rather likable young con who runs afoul of the warden.Speaking of which Bob Gunton as the warden will positively chill you with his corruption. You would have to go back all the way to the James Cagney classic, The Mayor Of Hell where Dudley Digges was the warden of boys reformatory to find a warden that is as sanctimonious and as corrupt as Gunton. This is a man who gives Bibles out to each inmate hoping that the reading of the Good Book will improve the moral fiber of the convicts. At the same time he's raking in money every which way he can and a rather special punishment is meted out to him by Robbins.The Shawshank Redemption may not have monsters and other worldly creatures that normally characterize a Stephen King story. But the world of Shawshank prison is bizarre enough for any normal person if you see this wonderfully crafted and acted film.\",\n    'helpful': 55,\n    'title': '\"I Had To Go To Prison To Learn To Be A Crook\"',\n    'author': 'ur2483625',\n    'date': '17 February 2011',\n    'rating': 9,\n    'not_helpful': 18},\n   {'content': \"Can Hollywood, usually creating things for entertainment purposes only, create art? To create something of this nature, a director must approach it in a most meticulous manner, due to the delicacy of the process. Such a daunting task requires an extremely capable artist with an undeniable managerial capacity and an acutely developed awareness of each element of art in their films, the most prominent; music, visuals, script, and acting. These elements, each equally important, must succeed independently, yet still form a harmonious union, because this mixture determines the fate of the artist's opus. Though already well known amongst his colleagues for his notable skills at writing and directing, Frank Darabont emerges with his feature film directorial debut, The Shawshank Redemption. Proving himself already a master of the craft, Darabont managed to create one of the most recognizable independent releases in the history of Hollywood. The Shawshank Redemption defines a genre, defies the odds, compels the emotions, and brings an era of artistically influential films back to Hollywood.The story begins with the trial of a young banker, Andy Dufrense, victimized by circumstantial evidence, resulting in a conviction for the murder of his wife and her lover. After a quick conviction, Andy finds himself serving a life sentence at Shawshank prison, with no hope of parole. He exists in this prison only in appearance, keeping his mind free from the drab walls around him. His ability to do this results in the gaining of respect from his fellow inmates, but most of all from Ellis Redding. Ellis, commonly referred to as Red, finds gainful use of his entrepreneurial spirit within the drab walls of Shawshank by dealing in contraband and commodities rare to the confines of prison. Andy's demeanor and undeniable sense of hope causes Red to take a deeper look at himself, and the world around him. Andy proves to Red and the other inmates that in the conventional walls of Shawshank prison convention will find no home in his lifestyle.By creating the film's firm foundation, the meticulously chiseled screenplay paved the way for this film's success. Frank Darabont outdoes himself with the phenomenal adaptation of Stephen King's equally noteworthy novella, Rita Hayworth and Shawshank Redemption. In this novella, King demonstrates that he can break free from the genre he dominates and still create a marvelous piece of modern literature. Though the film mirrors the novella in many ways, Darabont illustrates a focused objective of improving upon the areas where the novella came up short, resulting in one of the best book to film transitions ever.While maintaining some of the poetic and moving dialogue of the novella, Darabont also proves that a film's score can generate a great deal of emotional response from its audience, as dialogue does. He employs the cunning Thomas Newman, son of the legendary Hollywood composer, Alfred Newman. Darabont shows recognition for the film's needs by employing Newman, who makes the gentle piano chords whisper softly to the viewer, as if a part of the scripted dialogue. Newman lends himself to individualism and tends to drive more towards the unique in the realm of score composition. His effort in Shawshank did not go unnoticed, as his score received an Oscar nomination in 1995. While unique and independent, Newman's score never once intrudes on your concentration or distracts from the film.With work from vast array of talented scene designers, costume designers, composers, cinematographers, and various other Hollywood artists, the cast of The Shawshank Redemption had a strong foundation to work with. The marvelous cast of this film will dazzle you with some of the most convincing performances you will witness in a film. While both Tim Robbins and Morgan Freeman shine as Andy and Red, respectively, the true spectacle of acting lies within the plethora of amazing supporting actors who easily disappear into their roles. Most noticeable of these, the veteran film star James Whitmore, who portrays the elderly Brooks Hatlen. Brooks, a man incarcerated for an unmentioned crime for so long that he finds himself attached to the Shawshank and the daily life he has lead. Each of these actors show a true dedication to their art, and a focused purpose in their motivations, creating a convincing setting that never once caters to anything unbelievable.With all of the aesthetic touches and attention to cinematic detail, the most beautiful part of the film lies within its thematic material, such as its focus on the human desires for the most abstract concepts, like hope and freedom. These themes, which concern things the human spirit undoubtedly yearns for, seem so intricately woven into the plot that it easily draws its audience in to its story. Though full of hardened criminals, your heart will go out to these men as they display the most basic of human emotions, and deliver some of the most quotable lines in a film to date. Like a great novel, this film manages to succeed at greater things than simply entertaining an audience. Darabont tells his story most masterfully, illustrating principles and inspiring his audience to think. He leaves us a poignant film with a powerful message of hope, and redemption, something we all seek.This film manages to redeem Hollywood in the eyes of people who feared it long lost in a dark sea of clichés and predictability. Darabont shows us that artists still work in the Hollywood studios and production facilities. These artists show their capability to produce art; real art that inspires you to look at the deeper aspects of life and the world around you. The Shawshank Redemption delivers much-needed breath of fresh air for anyone who realizes the capability of film. It proves that masters of the craft still live on this earth, and still bless us with timeless masterpieces that we will never forget.\",\n    'helpful': 0,\n    'title': 'Shawshank Redeems Hollywood',\n    'author': 'ur0997166',\n    'date': '27 August 2002',\n    'rating': 10,\n    'not_helpful': 0},\n   {'content': 'The Shawshank Redemption is without a doubt one of the most brilliant movies I have ever seen. Similar to The Green Mile in many respects (and better than it in almost all of them), these two movies have shown us that Stephen King is a master not only of horror but also of prose that shakes the soul and moves the heart. The plot is average, but King did great things with it in his novella that are only furthered by the direction, and the acting is so top-rate it\\'s almost scary.Tim Robbins plays Andy Dufrane, wrongly imprisoned for 20 years for the murder of his wife. The story focuses on Andy\\'s relationship with \"Red\" Redding (Morgan Freeman, in probably his best role) and his attempts to escape from Shawshank. Bob Gunton is positively evil and frightening as Warden Norton, and there are great performances and cameos all around; the most prominent one being Gil Bellows (late as Billy of Ally McBeal) as Tommy, a fellow inmate of Andy\\'s who suffers under the iron will of Norton.If you haven\\'t seen this movie, GO AND RENT IT NOW. You will not be disappointed. It is positively the best movie of the \\'90\\'s, and one of my Top 3 of all time. This movie is a spectacle to move the mind, soul, and heart. 10/10',\n    'helpful': 588,\n    'title': \"Simply amazing. The best film of the 90's.\",\n    'author': 'ur0842118',\n    'date': '6 September 2000',\n    'rating': 10,\n    'not_helpful': 195},\n   {'content': 'Whenever I talk about this movie with my friends, I do not even refer to it by title, but rather as \"The Movie\". When I say \"The Movie\", my friends know exactly what I\\'m talking about. In fact the main reason that me and my friends don\\'t refer to it by title is because this movie is so great, that we do not feel worthy enough to say it\\'s name in vain! I still remember the first time I saw The Shawshank Redemption. Some friends of mine and I went to see it at one of those \"Budget Theaters\" over the summer of 1995. None of us really knew anything about the movie, but we had heard that it was pretty good. So, not having any real expectations, we saw it. When the final credits rolled and the lights came on in the theater, all of us just sat there with our jaws hanging down on the floor. I turned my head towards my friend Bob and said \"That was the greatest movie I have ever seen in my entire life!\" There\\'s really no other way I can put it in words. Every moment of this movie captivated me and inspired me to believe in the one true thing in life...... \"HOPE\". This movie is sad, uplifting, inspiring, harsh, cold, funny (at the right times), jaw-dropping, and heart-warming all at the same time. I get chills every time I watch this film and this film contains the greatest ending (which takes place over the last 30 minutes or so)in movie history! How it all just \"comes together\" is so incredible and uplifting. I should also mention the music in this movie is nearly flawless as well, and the soundtrack is a \"must buy\" for any music fan. The only bad thing about this movie is the fact that I know I will never see a better movie, no matter how many I may see. I\\'ve seen many movies over the past few years, many excellent films. However, every time I walk out of the theater, I turn to my friend or family member that I saw it with and I say, \"That was a great movie, but it wasn\\'t nearly as good as \\'you know what\\'!\" There have been many movies over the past few years that thought would really move me or that I might one day call my \"favorite of all time\", but they\\'ve all fallen far short of \"The Shawshank Redemption\". So, if you have yet to see this movie, please run to the video store immediately. You\\'re guaranteed to find it in the \"employee picks\" section. And if it isn\\'t in that section, then you should tell the employees there that there is something seriously wrong with them. If you have seen this movie, go see it again. If you haven\\'t bought your own copy yet, buy one. In fact buy two, and put one in a fire-proof safe, just in case of an emergency. :o) So, you want a 1-10 rating??? I give it a 13!!!!!!',\n    'helpful': 561,\n    'title': 'Simply known as \"The Movie\"',\n    'author': 'ur0174908',\n    'date': '6 February 1999',\n    'rating': 10,\n    'not_helpful': 161},\n   {'content': 'This is a great film. It is well constructed, the acting is superb and the characters are so likeable or in the case of the pigs so detestable.',\n    'helpful': 99,\n    'title': 'Fantastic Film',\n    'author': 'ur120217510',\n    'date': '26 June 2020',\n    'rating': 9,\n    'not_helpful': 23},\n   {'content': \"I've lost count of the number of times I have seen this movie, but it is more than 20. It has to be one of the best movies ever made. It made me take notice Morgan Freeman and Tim Robbins like I had never noticed any actors before.I have from a very young age been a huge fan of anything Stephen King writes and had already read the short story that this movie is based on years prior to seeing this movie.Not everything Stephen King has written that gets turned into a movie comes out well, but this is as close to perfection as it gets and has everything you could ever want in a movie.Something that is outstanding is the fact that it has no real action, no special effects and no gimmicks. 99% of the movie is just men in a prison uniforms talking. Yet it absolutely hooks you almost from the beginning and has you glued to the screen to the end.For me what really makes this film one of the best is the message of eternal hope it conveys throughout. The never ever give up hope attitude of the main character so well conveyed by Tim Robbins. The ending is just spine tingling every time I see it, no matter how many times I have seen it.Brilliant, brilliant movie and a must see for everyone.\",\n    'helpful': 127,\n    'title': 'Eternal Hope',\n    'author': 'ur16749093',\n    'date': '15 June 2018',\n    'rating': 10,\n    'not_helpful': 52},\n   {'content': 'This is it.The film has it all. Superb actors, even better screenplay, fabulous redemptive conclusion and believe me when I insist with all of that said they did not forget the entertainment.Are there/will there ever be any other films like this?',\n    'helpful': 17,\n    'title': 'For When You Need to (Re)Watch A Good Movie',\n    'author': 'ur146653291',\n    'date': '8 December 2021',\n    'rating': 10,\n    'not_helpful': 2},\n   {'content': \"Shawshank Redemption, The (1994)**** (out of 4)An innocent man (Tim Robbins) is sent to prison on murder charges and once there he bonds with another man (Morgan Freeman) serving a life sentence. I remember seeing this when it was first released to theaters and walking out thinking it was a masterpiece but apparently others couldn't be bothered to see it since the box office results were very low and it was out of theaters in no time. Over the years the reputation of this film has grown and as I write this it's currently #1 at IMDb. I certainly wouldn't call this the greatest film ever made but it's certainly one of them. I think it's an insult to call this a prison movie because it's so much more than that. This is a film about friendship and hope. Those are two things that have played major parts in many movies but I can't think of too many films where the payoff is as large. What makes the film work so well is that director Durabont takes his time telling a story that takes place over twenty years. Another wonderful thing the director does is that he really makes the twenty years pass on a believable manor. Most films that jump time feel cheap and rushed but that's not the case here because the wonderful screenplay lets us get to know the two main character but also the supporting characters are very well written. What really brings this magic to life are the performances, which are downright brilliant and I'd argue that you can see some of the greatest ensemble acting right in this film. Robbins and Freeman are terrific together and really make for one of the most memorable friendships in movie history. The way Robbins walks and talks is perfectly done and I just love the way, as Freeman says in his narration, he walks around as if he didn't have a care in the world. Freeman gives another wonderful performance but what's really great about him is the narration he adds as he tells us the story. James Whitmore is terrific as the elderly convict and Clancy Brown and Bob Gunton make for excellent villains. I won't spoil the ending for anyone but the final twenty-minutes are at times breathtaking in their beauty and it's message of hope rings louder than most movies.\",\n    'helpful': 52,\n    'title': 'Masterpiece',\n    'author': 'ur13134536',\n    'date': '2 December 2008',\n    'rating': None,\n    'not_helpful': 22},\n   {'content': 'The reason I became a member of this database is because I finally found a movie ranking that recognized the true greatness of this movie. There is nary a word or scene out of place in the entire thing. Every element comes together to form an exquisite story for cinema.  I believe that one reason that this movie is under-appreciated is that people have not seen it multiple times. On first viewing it is the story of Andy Dufresne and his struggle to maintain hope despite his circumstances.  However, this is really a movie about Red and his struggle to find meaning and purpose. The final segment of the movie testifies to the fact that the final resolution of the story comes about only when Red is faced with the same fearful situation as Brooks. Because of Andy, Red can find a different path-the path of freedom that is lit by hope. Who is your Andy Dufresne?',\n    'helpful': 0,\n    'title': 'Two movies in one',\n    'author': 'ur0094239',\n    'date': '16 August 1998',\n    'rating': None,\n    'not_helpful': 0}]},\n 'titlesRefs': {},\n 'namesRefs': {}}"
     },
     "execution_count": 42,
     "metadata": {},
     "output_type": "execute_result"
    }
   ],
   "source": [
    "get_movie = ia.get_movie(df['MovieID'][0])\n",
    "get_movie_reviews = ia.get_movie_reviews(df['MovieID'][0])\n",
    "# get_movie_reviews = get_movie_reviews['data']['reviews']\n",
    "get_movie_reviews"
   ],
   "metadata": {
    "collapsed": false,
    "pycharm": {
     "name": "#%%\n"
    }
   }
  },
  {
   "cell_type": "code",
   "execution_count": 43,
   "outputs": [
    {
     "data": {
      "text/plain": "'Stephen King'"
     },
     "execution_count": 43,
     "metadata": {},
     "output_type": "execute_result"
    }
   ],
   "source": [
    "ia.get_person('0000175')['name']"
   ],
   "metadata": {
    "collapsed": false,
    "pycharm": {
     "name": "#%%\n"
    }
   }
  },
  {
   "cell_type": "code",
   "execution_count": 44,
   "outputs": [
    {
     "data": {
      "text/plain": "{'localized title': '12 Angry Men',\n 'cast': [<Person id:0000842[http] name:_Martin Balsam_>,\n  <Person id:0275835[http] name:_John Fiedler_>,\n  <Person id:0002011[http] name:_Lee J. Cobb_>,\n  <Person id:0550855[http] name:_E.G. Marshall_>,\n  <Person id:0001430[http] name:_Jack Klugman_>,\n  <Person id:0083081[http] name:_Edward Binns_>,\n  <Person id:0912001[http] name:_Jack Warden_>,\n  <Person id:0000020[http] name:_Henry Fonda_>,\n  <Person id:0842137[http] name:_Joseph Sweeney_>,\n  <Person id:0003225[http] name:_Ed Begley_>,\n  <Person id:0903667[http] name:_George Voskovec_>,\n  <Person id:0916434[http] name:_Robert Webber_>,\n  <Person id:0094036[http] name:_Rudy Bond_>,\n  <Person id:0331131[http] name:_Tom Gorman_>,\n  <Person id:0446450[http] name:_James Kelly_>,\n  <Person id:0625180[http] name:_Billy Nelson_>,\n  <Person id:0767847[http] name:_John Savoca_>,\n  <Person id:0830818[http] name:_Walter Stocker_>],\n 'genres': ['Crime', 'Drama'],\n 'runtimes': ['96'],\n 'countries': ['United States'],\n 'country codes': ['us'],\n 'language codes': ['en'],\n 'color info': ['Black and White'],\n 'aspect ratio': '1.66 : 1',\n 'sound mix': ['Mono'],\n 'box office': {'Budget': '$350,000 (estimated)'},\n 'certificates': ['Argentina:Atp',\n  'Australia:G',\n  'Brazil:Livre',\n  'Brazil:14::(theatrical rating)',\n  'Brazil:12::(video rating)',\n  'Bulgaria:B',\n  'Canada:PG::(video rating)',\n  'Finland:K-8',\n  'France:Tous publics',\n  'France:12::(video rating)',\n  'Germany:12::(video rating)',\n  'Greece:K',\n  'Hong Kong:I',\n  'Hungary:12',\n  'India:U',\n  'Indonesia:SU::(self-applied)',\n  'Italy:T',\n  'Italy:BA::(TV rating)',\n  'Japan:PG-12::(video rating)',\n  'Japan:G',\n  'Malaysia:U',\n  'Mexico:B',\n  'Mexico:A',\n  'Netherlands:14',\n  'Norway:16',\n  'Philippines:PG-13::(MTRCB)',\n  'Poland:12::(self-applied)',\n  'Portugal:M/12',\n  'Russia:16+',\n  'Singapore:PG::(video rating)',\n  'South Africa:PG::(video rating)',\n  'South Korea:15',\n  'South Korea:12',\n  'Spain:A',\n  'Sweden:15',\n  'Turkey:15+::(self-applied)',\n  'United Kingdom:U',\n  'United States:Approved',\n  'United States:TV-PG::(TV rating)',\n  'United Arab Emirates:G::(self-applied)',\n  'West Germany:12'],\n 'original air date': '10 Apr 1957 (USA)',\n 'rating': 9.0,\n 'votes': 767725,\n 'cover url': 'https://m.media-amazon.com/images/M/MV5BMWU4N2FjNzYtNTVkNC00NzQ0LTg0MjAtYTJlMjFhNGUxZDFmXkEyXkFqcGdeQXVyNjc1NTYyMjg@._V1_SX101_CR0,0,101,150_.jpg',\n 'imdbID': '0050083',\n 'plot outline': \"The defense and the prosecution have rested, and the jury is filing into the jury room to decide if a young man is guilty or innocent of murdering his father. What begins as an open-and-shut case of murder soon becomes a detective story that presents a succession of clues creating doubt, and a mini-drama of each of the jurors' prejudices and preconceptions about the trial, the accused, AND each other. Based on the play, all of the action takes place on the stage of the jury room.\",\n 'languages': ['English'],\n 'title': '12 Angry Men',\n 'year': 1957,\n 'kind': 'movie',\n 'original title': '12 Angry Men',\n 'director': [<Person id:0001486[http] name:_Sidney Lumet_>],\n 'writer': [<Person id:0741627[http] name:_Reginald Rose_>,\n  <Person id:None[http] name:_None_>,\n  <Person id:0741627[http] name:_Reginald Rose_>],\n 'producer': [<Person id:0000020[http] name:_Henry Fonda_>,\n  <Person id:0433183[http] name:_George Justin_>,\n  <Person id:0741627[http] name:_Reginald Rose_>],\n 'composer': [<Person id:0006132[http] name:_Kenyon Hopkins_>],\n 'cinematographer': [<Person id:0442100[http] name:_Boris Kaufman_>],\n 'editor': [<Person id:0503594[http] name:_Carl Lerner_>],\n 'art direction': [<Person id:0548338[http] name:_Bob Markell_>],\n 'make up': [<Person id:0118217[http] name:_Herman Buchman_>],\n 'assistant director': [<Person id:0469838[http] name:_Don Kranze_>],\n 'sound crew': [<Person id:0322302[http] name:_James A. Gleason_>,\n  <Person id:0334505[http] name:_Al Gramaglia_>],\n 'camera and electrical department': [<Person id:0585655[http] name:_Saul Midwall_>,\n  <Person id:0611630[http] name:_Muky_>],\n 'music department': [<Person id:0006132[http] name:_Kenyon Hopkins_>],\n 'script department': [<Person id:0254454[http] name:_Faith Hubley_>],\n 'akas': ['Twelve Angry Men (United States)',\n  'Douze Hommes en colère (France)',\n  '12 Hommes en colère (France)',\n  'Die zwölf Geschworenen (Germany)',\n  '12 hombres sin piedad (Spain)'],\n 'top 250 rank': 5,\n 'production companies': [<Company id:0032902[http] name:_Orion-Nova Productions_>],\n 'distributors': [<Company id:0026841[http] name:_United Artists_>,\n  <Company id:0052819[http] name:_Dear Film_>,\n  <Company id:0140054[http] name:_Les Artistes Associés S.A.B._>,\n  <Company id:0289659[http] name:_Les Artistes Associés_>,\n  <Company id:0304136[http] name:_Nova Film_>,\n  <Company id:0103797[http] name:_United Artists_>,\n  <Company id:0026841[http] name:_United Artists_>,\n  <Company id:0026841[http] name:_United Artists_>,\n  <Company id:0026841[http] name:_United Artists_>,\n  <Company id:0026841[http] name:_United Artists_>,\n  <Company id:0015327[http] name:_Kommunenes Filmcentral (KF)_>,\n  <Company id:0026841[http] name:_United Artists_>,\n  <Company id:0026841[http] name:_United Artists_>,\n  <Company id:0222573[http] name:_Shochiku Select_>,\n  <Company id:0026841[http] name:_United Artists_>,\n  <Company id:0013526[http] name:_Yleisradio (YLE)_>,\n  <Company id:0089127[http] name:_Magnetic Video_>,\n  <Company id:0036219[http] name:_RCA (II)_>,\n  <Company id:0109010[http] name:_RCA VideoDiscs_>,\n  <Company id:0007496[http] name:_CBS/Fox_>,\n  <Company id:0021293[http] name:_Key Video_>,\n  <Company id:0006383[http] name:_Warner Home Video_>,\n  <Company id:0059995[http] name:_Warner Home Video_>,\n  <Company id:0028557[http] name:_Canal+_>,\n  <Company id:0015461[http] name:_MGM/UA Home Video_>,\n  <Company id:0015461[http] name:_MGM/UA Home Video_>,\n  <Company id:0059995[http] name:_Warner Home Video_>,\n  <Company id:0014456[http] name:_ARTE_>,\n  <Company id:0059995[http] name:_Warner Home Video_>,\n  <Company id:0001770[http] name:_MGM/UA Home Entertainment_>,\n  <Company id:0001770[http] name:_MGM/UA Home Entertainment_>,\n  <Company id:0001770[http] name:_MGM/UA Home Entertainment_>,\n  <Company id:0142935[http] name:_MGM Home Entertainment_>,\n  <Company id:0125989[http] name:_MGM Home Entertainment_>,\n  <Company id:0027764[http] name:_MGM Home Entertainment_>,\n  <Company id:0010224[http] name:_20th Century Fox Home Entertainment_>,\n  <Company id:0150813[http] name:_20th Century Fox Home Entertainment_>,\n  <Company id:0189783[http] name:_Twentieth Century Fox Home Entertainment_>,\n  <Company id:0027764[http] name:_MGM Home Entertainment_>,\n  <Company id:0291951[http] name:_SF Home Entertainment_>,\n  <Company id:0108097[http] name:_Emerald_>,\n  <Company id:0010224[http] name:_20th Century Fox Home Entertainment_>,\n  <Company id:0010224[http] name:_20th Century Fox Home Entertainment_>,\n  <Company id:0010224[http] name:_20th Century Fox Home Entertainment_>,\n  <Company id:0044076[http] name:_The Criterion Collection_>,\n  <Company id:0044076[http] name:_The Criterion Collection_>,\n  <Company id:0078852[http] name:_New Star_>,\n  <Company id:0189783[http] name:_Twentieth Century Fox Home Entertainment_>,\n  <Company id:0189783[http] name:_Twentieth Century Fox Home Entertainment_>,\n  <Company id:0010224[http] name:_20th Century Fox Home Entertainment_>,\n  <Company id:0299302[http] name:_Filmconfect Home Entertainment_>,\n  <Company id:0759562[http] name:_Summer Classics_>,\n  <Company id:0110063[http] name:_Epoca_>,\n  <Company id:0129647[http] name:_Italia 1_>,\n  <Company id:0044076[http] name:_The Criterion Collection_>,\n  <Company id:0091775[http] name:_Varus Video_>],\n 'other companies': [<Company id:0190210[http] name:_International Alliance of Theatrical Stage Employees (IATSE)_>,\n  <Company id:0130701[http] name:_Solters & Digney_>]}"
     },
     "execution_count": 44,
     "metadata": {},
     "output_type": "execute_result"
    }
   ],
   "source": [
    "get_main_movie_info = ia.get_movie_main(df['MovieID'][4])['data']\n",
    "# get_ = ia.get_movie(df['MovieID'][0])\n",
    "get_main_movie_info"
   ],
   "metadata": {
    "collapsed": false,
    "pycharm": {
     "name": "#%%\n"
    }
   }
  },
  {
   "cell_type": "code",
   "execution_count": 45,
   "outputs": [
    {
     "data": {
      "text/plain": "'12 Angry Men'"
     },
     "execution_count": 45,
     "metadata": {},
     "output_type": "execute_result"
    }
   ],
   "source": [
    "get_main_movie_info['title']"
   ],
   "metadata": {
    "collapsed": false,
    "pycharm": {
     "name": "#%%\n"
    }
   }
  },
  {
   "cell_type": "code",
   "execution_count": 55,
   "outputs": [
    {
     "data": {
      "text/plain": "'Reginald Rose'"
     },
     "execution_count": 55,
     "metadata": {},
     "output_type": "execute_result"
    }
   ],
   "source": [
    "writer_list = get_main_movie_info['writer']\n",
    "writers_list = []\n",
    "for wr in writer_list:\n",
    "    try:\n",
    "        if wr['name'] not in writers_list:\n",
    "            writers_list.append(wr['name'])\n",
    "    except KeyError:\n",
    "        pass\n",
    "writers = ', '.join(writers_list)\n",
    "writers"
   ],
   "metadata": {
    "collapsed": false,
    "pycharm": {
     "name": "#%%\n"
    }
   }
  },
  {
   "cell_type": "code",
   "execution_count": 47,
   "outputs": [
    {
     "data": {
      "text/plain": "1957"
     },
     "execution_count": 47,
     "metadata": {},
     "output_type": "execute_result"
    }
   ],
   "source": [
    "year = get_main_movie_info['year']\n",
    "year"
   ],
   "metadata": {
    "collapsed": false,
    "pycharm": {
     "name": "#%%\n"
    }
   }
  },
  {
   "cell_type": "code",
   "execution_count": 48,
   "outputs": [
    {
     "data": {
      "text/plain": "'Crime, Drama'"
     },
     "execution_count": 48,
     "metadata": {},
     "output_type": "execute_result"
    }
   ],
   "source": [
    "genre_list = get_main_movie_info['genres']\n",
    "genres = ', '.join([genre_list[i] for i in range(len(genre_list))])\n",
    "genres"
   ],
   "metadata": {
    "collapsed": false,
    "pycharm": {
     "name": "#%%\n"
    }
   }
  },
  {
   "cell_type": "code",
   "execution_count": 49,
   "outputs": [
    {
     "data": {
      "text/plain": "'English'"
     },
     "execution_count": 49,
     "metadata": {},
     "output_type": "execute_result"
    }
   ],
   "source": [
    "language_list = get_main_movie_info['languages']\n",
    "languages = ', '.join([language_list[i] for i in range(len(language_list))])\n",
    "languages"
   ],
   "metadata": {
    "collapsed": false,
    "pycharm": {
     "name": "#%%\n"
    }
   }
  },
  {
   "cell_type": "code",
   "execution_count": 50,
   "outputs": [
    {
     "data": {
      "text/plain": "'Sidney Lumet'"
     },
     "execution_count": 50,
     "metadata": {},
     "output_type": "execute_result"
    }
   ],
   "source": [
    "director_list = get_main_movie_info['director']\n",
    "directors = ', '.join([director_list[i]['name'] for i in range(len(director_list))])\n",
    "directors"
   ],
   "metadata": {
    "collapsed": false,
    "pycharm": {
     "name": "#%%\n"
    }
   }
  },
  {
   "cell_type": "code",
   "execution_count": 51,
   "outputs": [
    {
     "data": {
      "text/plain": "'Martin Balsam, John Fiedler, Lee J. Cobb, E.G. Marshall, Jack Klugman'"
     },
     "execution_count": 51,
     "metadata": {},
     "output_type": "execute_result"
    }
   ],
   "source": [
    "actor_list = get_main_movie_info['cast']\n",
    "range_actor = 5 if len(actor_list) > 4 else len(actor_list)\n",
    "actors = ', '.join([actor_list[i]['name'] for i in range(range_actor)])\n",
    "actors"
   ],
   "metadata": {
    "collapsed": false,
    "pycharm": {
     "name": "#%%\n"
    }
   }
  },
  {
   "cell_type": "code",
   "execution_count": 52,
   "outputs": [
    {
     "data": {
      "text/plain": "\"The defense and the prosecution have rested, and the jury is filing into the jury room to decide if a young man is guilty or innocent of murdering his father. What begins as an open-and-shut case of murder soon becomes a detective story that presents a succession of clues creating doubt, and a mini-drama of each of the jurors' prejudices and preconceptions about the trial, the accused, AND each other. Based on the play, all of the action takes place on the stage of the jury room.\""
     },
     "execution_count": 52,
     "metadata": {},
     "output_type": "execute_result"
    }
   ],
   "source": [
    "plot = get_main_movie_info['plot outline']\n",
    "plot"
   ],
   "metadata": {
    "collapsed": false,
    "pycharm": {
     "name": "#%%\n"
    }
   }
  },
  {
   "cell_type": "code",
   "execution_count": 53,
   "outputs": [
    {
     "data": {
      "text/plain": "9.0"
     },
     "execution_count": 53,
     "metadata": {},
     "output_type": "execute_result"
    }
   ],
   "source": [
    "rating = get_main_movie_info['rating']\n",
    "rating"
   ],
   "metadata": {
    "collapsed": false,
    "pycharm": {
     "name": "#%%\n"
    }
   }
  },
  {
   "cell_type": "code",
   "execution_count": 54,
   "outputs": [
    {
     "data": {
      "text/plain": "[<Movie id:8009428[http] title:_Hustle (2022)_>,\n <Movie id:4593060[http] title:_Pinocchio (I) (2022)_>,\n <Movie id:5315212[http] title:_Senior Year (2022)_>,\n <Movie id:0376136[http] title:_The Rum Diary (2011)_>,\n <Movie id:7131622[http] title:_Once Upon a Time... In Hollywood (2019)_>,\n <Movie id:11271038[http] title:_Licorice Pizza (2021)_>,\n <Movie id:13650600[http] title:_Emergency (2022)_>,\n <Movie id:14109994[http] title:_Hollywood Stargirl (2022)_>,\n <Movie id:8946378[http] title:_Knives Out (2019)_>,\n <Movie id:10366460[http] title:_CODA (2021)_>,\n <Movie id:10370710[http] title:_The Worst Person in the World (2021)_>,\n <Movie id:11286314[http] title:_Don't Look Up (2021)_>,\n <Movie id:0993846[http] title:_The Wolf of Wall Street (2013)_>,\n <Movie id:13352968[http] title:_Good Luck to You, Leo Grande (2022)_>,\n <Movie id:0098384[http] title:_Steel Magnolias (1989)_>,\n <Movie id:7322224[http] title:_Triangle of Sadness (2022)_>,\n <Movie id:11252248[http] title:_Dog (I) (2022)_>,\n <Movie id:0083929[http] title:_Fast Times at Ridgemont High (1982)_>,\n <Movie id:6751668[http] title:_Parasite (2019)_>,\n <Movie id:0265208[http] title:_The Girl Next Door (2004)_>,\n <Movie id:8847712[http] title:_The French Dispatch (2021)_>,\n <Movie id:0104694[http] title:_A League of Their Own (1992)_>,\n <Movie id:0086200[http] title:_Risky Business (1983)_>,\n <Movie id:1068242[http] title:_Footloose (2011)_>,\n <Movie id:0088847[http] title:_The Breakfast Club (1985)_>,\n <Movie id:0116650[http] title:_Irma Vep (1996)_>,\n <Movie id:0467406[http] title:_Juno (2007)_>,\n <Movie id:1570728[http] title:_Crazy, Stupid, Love. (2011)_>,\n <Movie id:13249596[http] title:_Father of the Bride (2022)_>,\n <Movie id:2584384[http] title:_Jojo Rabbit (2019)_>,\n <Movie id:0780536[http] title:_In Bruges (2008)_>,\n <Movie id:0116695[http] title:_Jerry Maguire (1996)_>,\n <Movie id:0097165[http] title:_Dead Poets Society (1989)_>,\n <Movie id:0108037[http] title:_The Sandlot (1993)_>,\n <Movie id:0120382[http] title:_The Truman Show (1998)_>,\n <Movie id:2883512[http] title:_Chef (2014)_>,\n <Movie id:0452694[http] title:_The Time Traveler's Wife (2009)_>,\n <Movie id:0147800[http] title:_10 Things I Hate About You (1999)_>,\n <Movie id:0458352[http] title:_The Devil Wears Prada (2006)_>,\n <Movie id:0120669[http] title:_Fear and Loathing in Las Vegas (1998)_>,\n <Movie id:2194499[http] title:_About Time (I) (2013)_>,\n <Movie id:0314331[http] title:_Love Actually (2003)_>,\n <Movie id:0069704[http] title:_American Graffiti (1973)_>,\n <Movie id:0047437[http] title:_Sabrina (1954)_>,\n <Movie id:0120783[http] title:_The Parent Trap (1998)_>,\n <Movie id:1596363[http] title:_The Big Short (2015)_>,\n <Movie id:10393870[http] title:_Jayeshbhai Jordaar (2022)_>,\n <Movie id:3104988[http] title:_Crazy Rich Asians (2018)_>,\n <Movie id:3228774[http] title:_Cruella (2021)_>,\n <Movie id:8949056[http] title:_Yes, God, Yes (2019)_>]"
     },
     "execution_count": 54,
     "metadata": {},
     "output_type": "execute_result"
    }
   ],
   "source": [
    "top_genre = ia.get_top50_movies_by_genres(genres=[\"Comedy\", \"Drama\"])\n",
    "top_genre"
   ],
   "metadata": {
    "collapsed": false,
    "pycharm": {
     "name": "#%%\n"
    }
   }
  },
  {
   "cell_type": "code",
   "execution_count": 54,
   "outputs": [],
   "source": [],
   "metadata": {
    "collapsed": false,
    "pycharm": {
     "name": "#%%\n"
    }
   }
  }
 ],
 "metadata": {
  "kernelspec": {
   "display_name": "Python 3",
   "language": "python",
   "name": "python3"
  },
  "language_info": {
   "codemirror_mode": {
    "name": "ipython",
    "version": 2
   },
   "file_extension": ".py",
   "mimetype": "text/x-python",
   "name": "python",
   "nbconvert_exporter": "python",
   "pygments_lexer": "ipython2",
   "version": "2.7.6"
  }
 },
 "nbformat": 4,
 "nbformat_minor": 0
}